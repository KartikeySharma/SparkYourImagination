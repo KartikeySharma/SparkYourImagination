{
 "cells": [
  {
   "cell_type": "code",
   "execution_count": 1,
   "id": "829f843a-dd50-48a3-a04a-5f4c722ea9fa",
   "metadata": {
    "tags": []
   },
   "outputs": [
    {
     "name": "stderr",
     "output_type": "stream",
     "text": [
      "Setting default log level to \"WARN\".\n",
      "To adjust logging level use sc.setLogLevel(newLevel). For SparkR, use setLogLevel(newLevel).\n",
      "23/12/20 21:31:18 WARN NativeCodeLoader: Unable to load native-hadoop library for your platform... using builtin-java classes where applicable\n",
      "/opt/conda/envs/bigdata/lib/python3.10/site-packages/pyspark/sql/context.py:158: FutureWarning: Deprecated in 3.0.0. Use SparkSession.builder.getOrCreate() instead.\n",
      "  warnings.warn(\n"
     ]
    }
   ],
   "source": [
    "# Creating the spark context\n",
    "import os\n",
    "\n",
    "import pyspark\n",
    "\n",
    "conf = pyspark.SparkConf()\n",
    "conf.set('spark.ui.proxyBase'\n",
    ", '/user/' + os.environ['JUPYTERHUB_USER'] + '/proxy/4041')\n",
    "conf.set('spark.sql.repl.eagerEval.enabled', False)\n",
    "\n",
    "sc = pyspark.SparkContext(conf=conf)\n",
    "spark = pyspark.SQLContext.getOrCreate(sc)"
   ]
  },
  {
   "cell_type": "code",
   "execution_count": 2,
   "id": "af53c1bf-9ffb-4234-8314-b734cf4d3472",
   "metadata": {
    "tags": []
   },
   "outputs": [
    {
     "name": "stderr",
     "output_type": "stream",
     "text": [
      "                                                                                \r"
     ]
    }
   ],
   "source": [
    "goodreads_reviews= spark.read.format(\"json\").load(\"shared/finals/swarali/goodreads_reviews_dedup.json\")"
   ]
  },
  {
   "cell_type": "code",
   "execution_count": 3,
   "id": "4760121c-b1c2-4022-95ed-9e165d4018b5",
   "metadata": {},
   "outputs": [
    {
     "name": "stdout",
     "output_type": "stream",
     "text": [
      "root\n",
      " |-- book_id: string (nullable = true)\n",
      " |-- date_added: string (nullable = true)\n",
      " |-- date_updated: string (nullable = true)\n",
      " |-- n_comments: long (nullable = true)\n",
      " |-- n_votes: long (nullable = true)\n",
      " |-- rating: long (nullable = true)\n",
      " |-- read_at: string (nullable = true)\n",
      " |-- review_id: string (nullable = true)\n",
      " |-- review_text: string (nullable = true)\n",
      " |-- started_at: string (nullable = true)\n",
      " |-- user_id: string (nullable = true)\n",
      "\n"
     ]
    }
   ],
   "source": [
    "goodreads_reviews.printSchema()"
   ]
  },
  {
   "cell_type": "code",
   "execution_count": 4,
   "id": "ab943c8a-1f6a-44f6-8661-089dbe684282",
   "metadata": {
    "tags": []
   },
   "outputs": [],
   "source": [
    "goodreads_reviews = goodreads_reviews.limit(10000)"
   ]
  },
  {
   "cell_type": "code",
   "execution_count": 5,
   "id": "669d3d3b-b357-4d78-a058-2444ea670e3e",
   "metadata": {
    "tags": []
   },
   "outputs": [],
   "source": [
    "from pyspark.sql.types import StringType\n",
    "from pyspark.sql.functions import udf\n",
    "from textblob import TextBlob\n",
    "# 6. Sentiment Analysis\n",
    "\n",
    "#sentiment_udf = udf(lambda text: blob(text).sentiment.polarity, StringType())\n",
    "sentiment_udf = udf(lambda text: TextBlob(text).sentiment.polarity, StringType())"
   ]
  },
  {
   "cell_type": "code",
   "execution_count": 6,
   "id": "07666348-048c-48f2-bbf8-edfe93a0b9ba",
   "metadata": {
    "tags": []
   },
   "outputs": [
    {
     "name": "stderr",
     "output_type": "stream",
     "text": [
      "                                                                                \r"
     ]
    },
    {
     "name": "stdout",
     "output_type": "stream",
     "text": [
      "+------+--------------------+\n",
      "|rating|      avg(sentiment)|\n",
      "+------+--------------------+\n",
      "|     0|  0.1689616605839417|\n",
      "|     1|-0.04232273559161615|\n",
      "|     2| 0.04576395723714733|\n",
      "|     3|  0.1279824838441761|\n",
      "|     4| 0.19277641212956653|\n",
      "|     5|  0.2537273330754035|\n",
      "+------+--------------------+\n",
      "\n"
     ]
    }
   ],
   "source": [
    "goodreads_reviews = goodreads_reviews.withColumn(\"sentiment\", sentiment_udf(\"review_text\"))\n",
    "sentiment_analysis = goodreads_reviews.groupBy(\"rating\").agg({\"sentiment\": \"avg\"}).orderBy(\"rating\")\n",
    "sentiment_analysis.show()"
   ]
  },
  {
   "cell_type": "code",
   "execution_count": 7,
   "id": "d8cd8bc3-c4aa-4736-8bd0-ec1e8b89808f",
   "metadata": {},
   "outputs": [
    {
     "name": "stderr",
     "output_type": "stream",
     "text": [
      "[Stage 4:======================================================>(124 + 1) / 125]\r"
     ]
    },
    {
     "name": "stdout",
     "output_type": "stream",
     "text": [
      "+------+------------------+\n",
      "|rating|avg(review_length)|\n",
      "+------+------------------+\n",
      "|     0|   463.11227154047|\n",
      "|     1| 577.0843373493976|\n",
      "|     2| 585.0147058823529|\n",
      "|     3| 518.5528775209051|\n",
      "|     4| 742.3339800443459|\n",
      "|     5| 760.4680013127667|\n",
      "+------+------------------+\n",
      "\n"
     ]
    },
    {
     "name": "stderr",
     "output_type": "stream",
     "text": [
      "                                                                                \r"
     ]
    }
   ],
   "source": [
    "from pyspark.sql.functions import udf\n",
    "from pyspark.sql.types import IntegerType\n",
    "\n",
    "review_length_udf = udf(lambda text: len(text), IntegerType())\n",
    "goodreads_reviews = goodreads_reviews.withColumn(\"review_length\", review_length_udf(\"review_text\"))\n",
    "sentiment_by_length = goodreads_reviews.groupBy(\"rating\").agg({\"review_length\": \"avg\"}).orderBy(\"rating\")\n",
    "sentiment_by_length.show()"
   ]
  },
  {
   "cell_type": "code",
   "execution_count": 8,
   "id": "28eab142-6176-4bc9-ab2c-f7eb63b1afb4",
   "metadata": {},
   "outputs": [
    {
     "name": "stderr",
     "output_type": "stream",
     "text": [
      "                                                                                \r"
     ]
    },
    {
     "name": "stdout",
     "output_type": "stream",
     "text": [
      "+------+-------------------+\n",
      "|rating|       avg(n_votes)|\n",
      "+------+-------------------+\n",
      "|     0|  0.720626631853786|\n",
      "|     1| 0.5421686746987951|\n",
      "|     2| 0.5632352941176471|\n",
      "|     3|0.41859321200196753|\n",
      "|     4| 1.3586474501108647|\n",
      "|     5|   2.21168362323597|\n",
      "+------+-------------------+\n",
      "\n"
     ]
    },
    {
     "name": "stderr",
     "output_type": "stream",
     "text": [
      "[Stage 10:=====================================================>(123 + 2) / 125]\r"
     ]
    },
    {
     "name": "stdout",
     "output_type": "stream",
     "text": [
      "+------+-------------------+\n",
      "|rating|    avg(n_comments)|\n",
      "+------+-------------------+\n",
      "|     0| 0.4177545691906005|\n",
      "|     1| 0.3453815261044177|\n",
      "|     2|0.23529411764705882|\n",
      "|     3|0.11018199704869651|\n",
      "|     4|0.20953436807095344|\n",
      "|     5|  0.373153921890384|\n",
      "+------+-------------------+\n",
      "\n"
     ]
    },
    {
     "name": "stderr",
     "output_type": "stream",
     "text": [
      "                                                                                \r"
     ]
    }
   ],
   "source": [
    "sentiment_by_votes = goodreads_reviews.groupBy(\"rating\").agg({\"n_votes\": \"avg\"}).orderBy(\"rating\")\n",
    "sentiment_by_comments = goodreads_reviews.groupBy(\"rating\").agg({\"n_comments\": \"avg\"}).orderBy(\"rating\")\n",
    "sentiment_by_votes.show()\n",
    "sentiment_by_comments.show()"
   ]
  },
  {
   "cell_type": "code",
   "execution_count": 9,
   "id": "ede95877-6e22-46bb-bf90-df49380e6802",
   "metadata": {
    "tags": []
   },
   "outputs": [
    {
     "name": "stderr",
     "output_type": "stream",
     "text": [
      "                                                                                \r"
     ]
    }
   ],
   "source": [
    "goodreads_books = spark.read.format(\"json\").load(\"shared/finals/swarali/goodreads_books.json\")"
   ]
  },
  {
   "cell_type": "code",
   "execution_count": 12,
   "id": "8e69bac5-1a97-4122-a049-c29a686a9e45",
   "metadata": {
    "tags": []
   },
   "outputs": [
    {
     "data": {
      "text/plain": [
       "DataFrame[asin: string, authors: array<struct<author_id:string,role:string>>, average_rating: string, book_id: string, country_code: string, description: string, edition_information: string, format: string, image_url: string, is_ebook: string, isbn: string, isbn13: string, kindle_asin: string, language_code: string, link: string, num_pages: string, popular_shelves: array<struct<count:string,name:string>>, publication_day: string, publication_month: string, publication_year: string, publisher: string, ratings_count: string, series: array<string>, similar_books: array<string>, text_reviews_count: string, title: string, title_without_series: string, url: string, work_id: string]"
      ]
     },
     "execution_count": 12,
     "metadata": {},
     "output_type": "execute_result"
    }
   ],
   "source": [
    "goodreads_books"
   ]
  }
 ],
 "metadata": {
  "kernelspec": {
   "display_name": "Python [conda env:bigdata]",
   "language": "python",
   "name": "conda-env-bigdata-py"
  },
  "language_info": {
   "codemirror_mode": {
    "name": "ipython",
    "version": 3
   },
   "file_extension": ".py",
   "mimetype": "text/x-python",
   "name": "python",
   "nbconvert_exporter": "python",
   "pygments_lexer": "ipython3",
   "version": "3.10.12"
  }
 },
 "nbformat": 4,
 "nbformat_minor": 5
}
