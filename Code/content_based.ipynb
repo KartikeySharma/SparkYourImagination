{
 "cells": [
  {
   "cell_type": "code",
   "execution_count": 1,
   "id": "c0c3a68b-8f6a-4173-9c70-09551c4a5f93",
   "metadata": {},
   "outputs": [
    {
     "name": "stderr",
     "output_type": "stream",
     "text": [
      "Setting default log level to \"WARN\".\n",
      "To adjust logging level use sc.setLogLevel(newLevel). For SparkR, use setLogLevel(newLevel).\n",
      "23/12/21 17:09:45 WARN NativeCodeLoader: Unable to load native-hadoop library for your platform... using builtin-java classes where applicable\n",
      "/opt/conda/envs/bigdata/lib/python3.10/site-packages/pyspark/sql/context.py:158: FutureWarning: Deprecated in 3.0.0. Use SparkSession.builder.getOrCreate() instead.\n",
      "  warnings.warn(\n"
     ]
    }
   ],
   "source": [
    "import os\n",
    "import pyspark\n",
    "conf = pyspark.SparkConf()\n",
    "conf.set('spark.ui.proxyBase', '/user/' + os.environ['JUPYTERHUB_USER'] + '/proxy/4041') \n",
    "conf.set('spark.sql.repl.eagerEval.enabled', True)\n",
    "conf.set('spark.driver.memory','4g')\n",
    "sc = pyspark.SparkContext(conf=conf)\n",
    "spark = pyspark.SQLContext.getOrCreate(sc)"
   ]
  },
  {
   "cell_type": "code",
   "execution_count": 2,
   "id": "32b043e5-b1b1-49f2-a77c-67ce0a0af017",
   "metadata": {},
   "outputs": [
    {
     "data": {
      "text/plain": [
       "<pyspark.sql.context.SQLContext at 0x7feb188b26b0>"
      ]
     },
     "execution_count": 2,
     "metadata": {},
     "output_type": "execute_result"
    }
   ],
   "source": [
    "spark"
   ]
  },
  {
   "cell_type": "markdown",
   "id": "78653123-8775-42d2-8ecf-51138eac098b",
   "metadata": {},
   "source": [
    "## Import the dataset"
   ]
  },
  {
   "cell_type": "code",
   "execution_count": null,
   "id": "0e1f47a1-081c-4a1c-957b-7e6b41274d3b",
   "metadata": {},
   "outputs": [
    {
     "name": "stderr",
     "output_type": "stream",
     "text": [
      "[Stage 0:================================>                        (39 + 2) / 69]\r"
     ]
    }
   ],
   "source": [
    "books = spark.read.json(\"../shared/finals/swarali/goodreads_books.json\")"
   ]
  },
  {
   "cell_type": "code",
   "execution_count": null,
   "id": "b7325c0f-499d-48c3-88c3-c5899e6f2aab",
   "metadata": {
    "tags": []
   },
   "outputs": [],
   "source": [
    "books.printSchema()"
   ]
  },
  {
   "cell_type": "markdown",
   "id": "1187d480-f08f-4e6e-a97d-91d9a4f5630b",
   "metadata": {
    "tags": []
   },
   "source": [
    "## Content Based Recommendation"
   ]
  },
  {
   "cell_type": "markdown",
   "id": "dfdc8427-fee4-4ada-9acc-f002bfdc7872",
   "metadata": {
    "tags": []
   },
   "source": [
    " ### RECOMMEND TOP 5 FOR ANY BOOK BASED ON THE DESCRIPTION SIMILARITY "
   ]
  },
  {
   "cell_type": "code",
   "execution_count": null,
   "id": "7d0350e8-1b76-4753-9ddb-f5b687cea332",
   "metadata": {
    "tags": []
   },
   "outputs": [],
   "source": [
    "from pyspark.sql import SparkSession\n",
    "from pyspark.ml.feature import Tokenizer, HashingTF, IDF, Normalizer\n",
    "from pyspark.ml.linalg import Vectors\n",
    "from pyspark.ml.feature import BucketedRandomProjectionLSH, StopWordsRemover\n",
    "from pyspark.sql.functions import col\n",
    "\n",
    "spark = SparkSession.builder.appName(\"ContentBasedRecommender\").getOrCreate()\n",
    "\n",
    "books_df = books.limit(1000)\n",
    "books_df  = books_df.na.drop(subset=[\"description\"])\n",
    "books_df = books_df.filter(col(\"description\").isNotNull() & (col(\"description\") != \"\"))\n",
    "# Preprocessing: Tokenize the description text\n",
    "tokenizer = Tokenizer(inputCol=\"description\", outputCol=\"words\")\n",
    "words_data = tokenizer.transform(books_df)\n",
    "\n",
    "#remove stop words\n",
    "remover = StopWordsRemover(inputCol=\"words\", outputCol=\"filtered_words\")\n",
    "filtered_df = remover.transform(words_data)\n",
    "\n",
    "# Feature Extraction: Apply HashingTF and IDF\n",
    "hashing_tf = HashingTF(inputCol=\"words\", outputCol=\"raw_features\")\n",
    "featurized_data = hashing_tf.transform(filtered_df)\n",
    "idf = IDF(inputCol=\"raw_features\", outputCol=\"idf_features\")\n",
    "idf_model = idf.fit(featurized_data)\n",
    "tfidf_data = idf_model.transform(featurized_data)\n",
    "\n",
    "# Normalize the features\n",
    "normalizer = Normalizer(inputCol=\"idf_features\", outputCol=\"features\")\n",
    "normalized_data = normalizer.transform(tfidf_data)\n",
    "\n",
    "# Approximate Similarity Join\n",
    "brp = BucketedRandomProjectionLSH(inputCol=\"features\", outputCol=\"hashes\", bucketLength=2.0, numHashTables=3)\n",
    "model = brp.fit(normalized_data)\n",
    "hashed_df = model.transform(normalized_data)\n"
   ]
  },
  {
   "cell_type": "code",
   "execution_count": 8,
   "id": "cdaf6122-ac1e-4b85-a768-efdb4a05bacb",
   "metadata": {
    "tags": []
   },
   "outputs": [
    {
     "name": "stderr",
     "output_type": "stream",
     "text": [
      "23/12/21 11:09:42 WARN SparkStringUtils: Truncated the string representation of a plan since it was too large. This behavior can be adjusted by setting 'spark.sql.debug.maxToStringFields'.\n",
      "23/12/21 11:24:46 WARN DAGScheduler: Broadcasting large task binary with size 10.7 MiB\n",
      "[Stage 7:>                                                          (0 + 1) / 1]\r"
     ]
    },
    {
     "name": "stdout",
     "output_type": "stream",
     "text": [
      "+--------+------------------+\n",
      "| book_id| EuclideanDistance|\n",
      "+--------+------------------+\n",
      "|23848481|1.3151596017023932|\n",
      "|30074967|1.3154304733485993|\n",
      "|33036180| 1.319748119745085|\n",
      "| 1296784|1.3239779300070345|\n",
      "|15703099|1.3257883986798034|\n",
      "+--------+------------------+\n",
      "\n"
     ]
    },
    {
     "name": "stderr",
     "output_type": "stream",
     "text": [
      "                                                                                \r"
     ]
    }
   ],
   "source": [
    "#recommend for one book \n",
    "\n",
    "def recommend_books(book_id, top_n):\n",
    "    # Filter for the given book_id\n",
    "    query_df = hashed_df.filter(hashed_df.book_id == book_id)\n",
    "\n",
    "    # Compute the approx similarity join\n",
    "    similar_books = model.approxSimilarityJoin(query_df, hashed_df, threshold=1.5, distCol=\"EuclideanDistance\")\n",
    "\n",
    "    # Select the books and their distances\n",
    "    similar_books_df = similar_books.select(col(\"datasetB.book_id\").alias(\"book_id\"), col(\"EuclideanDistance\"))\n",
    "    \n",
    "    # Filter out the query book and limit to top N\n",
    "    similar_books_df = similar_books_df.filter(similar_books_df.book_id != book_id).orderBy(\"EuclideanDistance\").limit(top_n)\n",
    "\n",
    "    return similar_books_df\n",
    "\n",
    "# Example usage\n",
    "specific_book_id = 1333909  \n",
    "recommended_books = recommend_books(specific_book_id, 5)\n",
    "\n",
    "recommended_books.show()"
   ]
  },
  {
   "cell_type": "code",
   "execution_count": 9,
   "id": "970dd844-abcc-4ea6-ac21-5c79a8eed682",
   "metadata": {
    "tags": []
   },
   "outputs": [],
   "source": [
    "final_recommendations = recommended_books.join(books, \"book_id\")"
   ]
  },
  {
   "cell_type": "code",
   "execution_count": 12,
   "id": "3448f8aa-5d59-4390-bd6c-4f9ca0a2c3a6",
   "metadata": {
    "tags": []
   },
   "outputs": [
    {
     "name": "stderr",
     "output_type": "stream",
     "text": [
      "[Stage 25:======================================================> (43 + 1) / 44]\r"
     ]
    },
    {
     "name": "stdout",
     "output_type": "stream",
     "text": [
      "+-------+-----------+----------------------------------------------------------------------------------------------------------------------------------------------------------------------------------------------------------------------------------------------------------------------------------------------------------------------------------------------------------------------------------------------------------------------------------------------------------------------------------------------------------------------------------------------------------------------------------------------------------------------------------------------------------------------------------------------------------------------------------------------------------------------------------------------------------------------------------------------------------------------------------------------------------------------------------------------------------------------------------------------------------------------------------------------------------------------------------------------------------------------------------------------------------------------------------------------------------------------------------------------------------------------------------------------------------------------------------------------------------------------------------------------------------------------+\n",
      "|book_id|title      |description                                                                                                                                                                                                                                                                                                                                                                                                                                                                                                                                                                                                                                                                                                                                                                                                                                                                                                                                                                                                                                                                                                                                                                                                                                                                                                                                                                                                           |\n",
      "+-------+-----------+----------------------------------------------------------------------------------------------------------------------------------------------------------------------------------------------------------------------------------------------------------------------------------------------------------------------------------------------------------------------------------------------------------------------------------------------------------------------------------------------------------------------------------------------------------------------------------------------------------------------------------------------------------------------------------------------------------------------------------------------------------------------------------------------------------------------------------------------------------------------------------------------------------------------------------------------------------------------------------------------------------------------------------------------------------------------------------------------------------------------------------------------------------------------------------------------------------------------------------------------------------------------------------------------------------------------------------------------------------------------------------------------------------------------+\n",
      "|1333909|Good Harbor|Anita Diamant's international bestseller \"The Red Tent\" brilliantly re-created the ancient world of womanhood. Diamant brings her remarkable storytelling skills to \"Good Harbor\" -- offering insight to the precarious balance of marriage and career, motherhood and friendship in the world of modern women. The seaside town of Gloucester, Massachusetts is a place where the smell of the ocean lingers in the air and the rocky coast glistens in the Atlantic sunshine. When longtime Gloucester-resident Kathleen Levine is diagnosed with breast cancer, her life is thrown into turmoil. Frightened and burdened by secrets, she meets Joyce Tabachnik -- a freelance writer with literary aspirations -- and a once-in-a-lifetime friendship is born. Joyce has just bought a small house in Gloucester, where she hopes to write as well as vacation with her family. Like Kathleen, Joyce is at a fragile place in her life.\\nA mutual love for books, humor, and the beauty of the natural world brings the two women together. They share their personal histories, and help each other to confront scars left by old emotional wounds.\\nWith her own trademark wisdom and humor, Diamant considers the nature, strength, and necessity of adult female friendship. \"Good Harbor\" examines the tragedy of loss, the insidious nature of family secrets, as well as the redemptive power of friendship.|\n",
      "+-------+-----------+----------------------------------------------------------------------------------------------------------------------------------------------------------------------------------------------------------------------------------------------------------------------------------------------------------------------------------------------------------------------------------------------------------------------------------------------------------------------------------------------------------------------------------------------------------------------------------------------------------------------------------------------------------------------------------------------------------------------------------------------------------------------------------------------------------------------------------------------------------------------------------------------------------------------------------------------------------------------------------------------------------------------------------------------------------------------------------------------------------------------------------------------------------------------------------------------------------------------------------------------------------------------------------------------------------------------------------------------------------------------------------------------------------------------+\n",
      "\n"
     ]
    },
    {
     "name": "stderr",
     "output_type": "stream",
     "text": [
      "                                                                                \r"
     ]
    }
   ],
   "source": [
    "# Selected Book features\n",
    "books.filter(col('book_id')==specific_book_id).select(\"book_id\",\"title\", \"description\").show(truncate = False)"
   ]
  },
  {
   "cell_type": "code",
   "execution_count": 11,
   "id": "a75d71cf-8527-46d4-99aa-acaf5f210808",
   "metadata": {
    "tags": []
   },
   "outputs": [
    {
     "name": "stderr",
     "output_type": "stream",
     "text": [
      "23/12/21 12:01:38 WARN DAGScheduler: Broadcasting large task binary with size 10.7 MiB\n",
      "[Stage 21:======================================================> (43 + 1) / 44]\r"
     ]
    },
    {
     "name": "stdout",
     "output_type": "stream",
     "text": [
      "+--------+------------------+-----------------------------------------------------------------------+------------------------------------------------------------------------------------------------------------------------------------------------------------------------------------------------------------------------------------------------------------------------------------------------------------------------------------------------------------------------------------------------------------------------------------------------------------------------------------------------------------------------------------------------------------------------------------------------------------------------------------------------------------------------------------------------------------------------------------------------------------------------------------------------------------------------------------------------------------------------------------------------------------------------------------------------------------------------------------------------------------------------------------------------------------------------------------------------------------------------------------------------------------------------------------------------------------------------------------------------------------------------------------------------------------------------------------------------------------------------------------------------------------------------------------------------------------------------------------------------------------------------------------------------------------------------------------------------------------------------------------------------------------------------------------------------------------------------------------------------------------------------------------------------------------------------------------------------------------------------------------------------------------------------------------------------------------------------------------------------------------------------------------------------------------------------------------------------------------------------------------------------------------------------------------------------------------------------------------------------------------------------------------------------------------------------------------------------------------------------------------------------------------+\n",
      "|book_id |EuclideanDistance |title                                                                  |description                                                                                                                                                                                                                                                                                                                                                                                                                                                                                                                                                                                                                                                                                                                                                                                                                                                                                                                                                                                                                                                                                                                                                                                                                                                                                                                                                                                                                                                                                                                                                                                                                                                                                                                                                                                                                                                                                                                                                                                                                                                                                                                                                                                                                                                                                                                                                                                                 |\n",
      "+--------+------------------+-----------------------------------------------------------------------+------------------------------------------------------------------------------------------------------------------------------------------------------------------------------------------------------------------------------------------------------------------------------------------------------------------------------------------------------------------------------------------------------------------------------------------------------------------------------------------------------------------------------------------------------------------------------------------------------------------------------------------------------------------------------------------------------------------------------------------------------------------------------------------------------------------------------------------------------------------------------------------------------------------------------------------------------------------------------------------------------------------------------------------------------------------------------------------------------------------------------------------------------------------------------------------------------------------------------------------------------------------------------------------------------------------------------------------------------------------------------------------------------------------------------------------------------------------------------------------------------------------------------------------------------------------------------------------------------------------------------------------------------------------------------------------------------------------------------------------------------------------------------------------------------------------------------------------------------------------------------------------------------------------------------------------------------------------------------------------------------------------------------------------------------------------------------------------------------------------------------------------------------------------------------------------------------------------------------------------------------------------------------------------------------------------------------------------------------------------------------------------------------------+\n",
      "|33036180|1.319748119745085 |The Best of Us                                                         |In 2011, when she was in her late fifties, beloved author and journalist Joyce Maynard met the first true partner she had ever known. Jim wore a rakish hat over a good head of hair; he asked real questions and gave real answers; he loved to see Joyce shine, both in and out of the spotlight; and he didn't mind the mess she made in the kitchen. He was not the husband Joyce imagined, but he quickly became the partner she had always dreamed of.\\nBefore they met, both had believed they were done with marriage, and even after they married, Joyce resolved that no one could alter her course of determined independence. Then, just after their one-year wedding anniversary, her new husband was diagnosed with pancreatic cancer. During the nineteen months that followed, as they battled his illness together, she discovered for the first time what it really meant to be a couple--to be a true partner and to have one.\\nThis is their story. Charting the course through their whirlwind romance, a marriage cut short by tragedy, and Joyce's return to singleness on new terms, The Best of Usis a heart-wrenching, ultimately life-affirming reflection on coming to understand true love through the experience of great loss.                                                                                                                                                                                                                                                                                                                                                                                                                                                                                                                                                                                                                                                                                                                                                                                                                                                                                                                                                                                                                                                                                                                                               |\n",
      "|30074967|1.3154304733485993|The Playboy Prince (The Piacere Princes #1)                            |Prince Salvadore Piacere is not only okay with his status as the \"spare\" royal - he revels in it. Salvy is more than happy to let his older brother Niccolo deal with the duties of the crown while he uses his position to burn through the finer things in life...especially women.\\nAfter one too many \"I'm carrying the royal baby\" scandals and one particularly wild night in Vegas, King Alfonso has had enough. He gives Salvy an ultimatum - either get serious and settle down, or join the church.\\nSalvy has no intention of spending his life in celibacy, but neither does marriage hold much appeal. To counter the king's ridiculous threat, he comes up with a silly idea of his own: he's going to hold a ball to pick out his future bride.\\nBy the time the king learns of his younger son's plans, the invitations have been sent and there's no backing out. But there are two things Salvy didn't count on, though--his scheming cousin Luca and Magdalena Rossi.\\nThe former is angry over his lost birthright, and determined to be King of Cielo no matter what the cost. The second, is the royal tailor's daughter. And while she has confidence in her ability to fit Prince Salvy with the perfect suit, she never dreamed she herself would be the perfect fit for his playboy soul.                                                                                                                                                                                                                                                                                                                                                                                                                                                                                                                                                                                                                                                                                                                                                                                                                                                                                                                                                                                                                                                                                         |\n",
      "|23848481|1.3151596017023932|Breaking in: The Rise of Sonia Sotomayor and the Politics of Justice   |\"I knew she'd be trouble.\"\\nSo quipped Antonin Scalia about Sonia Sotomayor at the Supreme Court's annual end-of-term party in 2010. It's usually the sort of event one would expect from such a grand institution, with gentle parodies of the justices performed by their law clerks, but this year Sotomayor decided to shake it up--flooding the room with salsa music and coaxing her fellow justices to dance.\\nIt was little surprise in 2009 that President Barack Obama nominated a Hispanic judge to replace the retiring justice David Souter. The fact that there had never been a nominee to the nation's highest court from the nation's fastest growing minority had long been apparent. So the time was ripe--but how did it come to be Sonia Sotomayor?\\nIn Breaking In: The Rise of Sonia Sotomayor and the Politics of Justice, the veteran journalist Joan Biskupic answers that question. This is the story of how two forces providentially merged--the large ambitions of a talented Puerto Rican girl raised in the projects in the Bronx and the increasing political presence of Hispanics, from California to Texas, from Florida to the Northeast--resulting in a historical appointment. And this is not just a tale about breaking barriers as a Puerto Rican. It's about breaking barriers as a justice.\\nBiskupic, the author of highly praised judicial biographies of Justice Antonin Scalia and Justice Sandra Day O'Connor, now pulls back the curtain on the Supreme Court nomination process, revealing the networks Sotomayor built and the skills she cultivated to go where no Hispanic has gone before. We see other potential candidates edged out along the way. And we see how, in challenging tradition and expanding our idea of a justice (as well as expanding her public persona), Sotomayor has created tension within and without the court's marble halls.\\nAs a Supreme Court justice, Sotomayor has shared her personal story to an unprecedented degree. And that story--of a Latina who emerged from tough times in the projects not only to prevail but also to rise to the top--has even become fabric for some of her most passionate comments on matters before the Court. But there is yet more to know about the rise of Sonia Sotomayor. Breaking Inoffers the larger, untold story of the woman who has been called \"the people's justice.\"|\n",
      "|1296784 |1.3239779300070345|Winters' Tales: Stories and Observations for the Unusual               |The most original and influential comic mind of our generation gives us a rollicking tour of his expansive imagination. Alongside the hilarity are intimate, revealing, and poignant recollections of childhood's pains and lost love, as well as remarkable illustrations from Winters' accomplished, surreal pen.\\nContents: Unusual stories: Artist -- I miss dancing with you -- Stolen flowers -- Wedding --Hijacker -- Well-kept secret -- Roll in the hay -- Conductor -- Black tie -- King who had to be Queen too -- Face-lift -- Table for two -- Niagara Falls -- Halloween -- Snowman --Old Indian buries an old friend -- Postcard -- My hometown is gone-I mean gone -- Money preacher -- Black lunch box -- Cardboard man -- Fisherman -- Lost valley of the Gods -- Marathon runner -- Campers -- Animal tales: Visitor -- Thanksgiving -- Last day the circus came to town -- My bird doesn't sing anymore -- Did anyone see my doggie? -- Ode to a baby robin -- Ode to a sea gull -- Little bear who didn't know who he was -- Easter bunny -- Bird that couldn't fly -- Stung -- My last flight south -- Faces -- Children's voices: Blinding windstorm -- What do you want to be when you grow up? -- Mirage -- I was behind the couch all the time -- Dr. John Wookey to surgery -- How much money did you make today, little man? -- Little boy's Christmas list -- Baby-sitter and why they're weird or turn weird -- Costume -- What are you frightened of, Johnny? -- Of men and war: Blue Hill massacre -- Rebels -- I want to be a soldier -- Ivy-covered castle -- I stand alone -- Observations: We're going out for two whole days -- What it must've been like -- War paint -- Shadows -- My hobby -- Summer -- My definition of love.                                                                                                                                                                                                                                                                                                                                                                                                                                                                                                                                                                                                                                      |\n",
      "|15703099|1.3257883986798034|Literary England: photos of places made memorable in English literature|Photographs by David E. Scherman and descriptive text by Richard Wilcox.\\nThis book is the development of a picture essay on literary England that appeared in Life magazine of June 14, 1943.\\nThe sense of place / Christopher Morley --\\nThe castle at Tintagel --\\nWinchester --\\nThe Blood Spring, Glastonbury --\\nDozmary Pool --\\nThe Abbey at Glastonbury --\\nThe Isle of Athelney --\\nThe Malvern Hills --\\nCanterbury Cathedral --\\nBerry Pomeroy Castle --\\nSwans on the Thames --\\nThe English coast --\\nLovers in Warwickshire --\\nGreenway House --\\nThe Itchen River --\\nA hill at Horton --\\nSt. Clement Danes, in the Strand --\\nBattle Abbey --\\nBurrington Gorge --\\nStoke Poges Churchyard --\\nFleet Street --\\nThe pass at Kirkstone --\\nDaffodils at Ullswater --\\nKeats Grove --\\nAn oak in Sherwood Forest --\\nThe Royal Pavilion at Brighton --\\nDickens' house --\\nThe assembly rooms at Bath --\\nA London shop --\\nBath --\\nNaworth Castle --\\nClun Castle --\\nTop Withens --\\nAn English elm --\\nWimpole Street --\\nA brook in Lincolnshire --\\nWells Cathedral --\\nThe mill at Tewkesbury --\\nDoone Valley --\\nStonehenge --\\nDartmoor --\\nThe Thames near Oxford --\\nReading Gaol --\\nClunbury Village --\\nLudlow Castle --\\nHadrian's Wall --\\nRunnymede --\\nPlymouth Hoe --\\nThe Spaniards --\\nPiccadilly Circus --\\nThe Thirty-nine Steps.\\nThere are 50 literary snipets and descriptive text from English literature compiled by Richard Wilcox. Each of these descriptions is followed by a photograph taken by David E. Scherman of the place made memorable in English Literature.                                                                                                                                                                                                                                                                                                                                                                                                                                                                                                                                                                                                                                                                                                                                                                                    |\n",
      "+--------+------------------+-----------------------------------------------------------------------+------------------------------------------------------------------------------------------------------------------------------------------------------------------------------------------------------------------------------------------------------------------------------------------------------------------------------------------------------------------------------------------------------------------------------------------------------------------------------------------------------------------------------------------------------------------------------------------------------------------------------------------------------------------------------------------------------------------------------------------------------------------------------------------------------------------------------------------------------------------------------------------------------------------------------------------------------------------------------------------------------------------------------------------------------------------------------------------------------------------------------------------------------------------------------------------------------------------------------------------------------------------------------------------------------------------------------------------------------------------------------------------------------------------------------------------------------------------------------------------------------------------------------------------------------------------------------------------------------------------------------------------------------------------------------------------------------------------------------------------------------------------------------------------------------------------------------------------------------------------------------------------------------------------------------------------------------------------------------------------------------------------------------------------------------------------------------------------------------------------------------------------------------------------------------------------------------------------------------------------------------------------------------------------------------------------------------------------------------------------------------------------------------------+\n",
      "\n"
     ]
    },
    {
     "name": "stderr",
     "output_type": "stream",
     "text": [
      "                                                                                \r"
     ]
    }
   ],
   "source": [
    "# The TOP 5 recommedation for the above book\n",
    "final_recommendations.select(\"book_id\", \"EuclideanDistance\", \"title\", \"description\").show(truncate = False)"
   ]
  },
  {
   "cell_type": "markdown",
   "id": "6bbe4797-f7d1-4319-968d-74cf6f927adc",
   "metadata": {},
   "source": [
    "## Top 5 Recommendations for each book "
   ]
  },
  {
   "cell_type": "code",
   "execution_count": null,
   "id": "8e5d97af-6ae9-462f-afd6-46f1d621948c",
   "metadata": {
    "tags": []
   },
   "outputs": [],
   "source": [
    "from pyspark.sql.functions import col, rank\n",
    "from pyspark.sql.window import Window\n",
    "\n",
    "def get_top_5_recommendations_for_all_books(df, model):\n",
    "    # Perform the approx similarity join for the whole dataset\n",
    "    similar_books_df = model.approxSimilarityJoin(df, df, threshold=float(\"inf\"), distCol=\"EuclideanDistance\") \\\n",
    "                            .filter(\"datasetA.book_id != datasetB.book_id\")  # Exclude same book comparisons\n",
    "\n",
    "    # Select required columns and rename them\n",
    "    similar_books_df = similar_books_df.select(\n",
    "        col(\"datasetA.book_id\").alias(\"book_id\"),\n",
    "        col(\"datasetB.book_id\").alias(\"similar_book_id\"),\n",
    "        col(\"EuclideanDistance\")\n",
    "    )\n",
    "\n",
    "    # Add a rank column based on EuclideanDistance for each book\n",
    "    windowSpec = Window.partitionBy(\"book_id\").orderBy(\"EuclideanDistance\")\n",
    "    similar_books_df = similar_books_df.withColumn(\"rank\", rank().over(windowSpec))\n",
    "\n",
    "    # Filter to keep only top 5 similar books for each book\n",
    "    top_5_similar_books_df = similar_books_df.filter(col(\"rank\") <= 5)\n",
    "\n",
    "    return top_5_similar_books_df\n",
    "\n",
    "# Apply the function to get top 5 recommendations for all books\n",
    "top_5_recommendations_for_all_books = get_top_5_recommendations_for_all_books(hashed_df, model)\n"
   ]
  },
  {
   "cell_type": "code",
   "execution_count": null,
   "id": "3d7a1794-9f38-4372-9802-ae3a2f25f439",
   "metadata": {},
   "outputs": [],
   "source": [
    "top_5_recommendations_for_all_books.show(1)"
   ]
  },
  {
   "cell_type": "markdown",
   "id": "3d2ad609-ca2b-49d8-a588-65d1068724ef",
   "metadata": {
    "tags": []
   },
   "source": [
    "## Recommedation system - First "
   ]
  },
  {
   "cell_type": "code",
   "execution_count": 9,
   "id": "c61df88d-9115-4653-88ce-a9eec310e1c3",
   "metadata": {
    "tags": []
   },
   "outputs": [
    {
     "name": "stderr",
     "output_type": "stream",
     "text": [
      "                                                                                \r"
     ]
    }
   ],
   "source": [
    "from pyspark.sql import SparkSession\n",
    "from pyspark.ml.feature import Tokenizer, HashingTF, IDF, Normalizer\n",
    "from pyspark.ml.linalg import Vectors\n",
    "from pyspark.ml.feature import BucketedRandomProjectionLSH, StopWordsRemover\n",
    "from pyspark.sql.functions import col\n",
    "\n",
    "\n",
    "books_df = books.limit(10000)\n",
    "books_df  = books_df.na.drop(subset=[\"description\"])\n",
    "\n",
    "# Preprocessing: Tokenize the description text\n",
    "tokenizer = Tokenizer(inputCol=\"description\", outputCol=\"words\")\n",
    "words_data = tokenizer.transform(books_df)\n",
    "\n",
    "# Optionally remove stop words\n",
    "remover = StopWordsRemover(inputCol=\"words\", outputCol=\"filtered_words\")\n",
    "filtered_df = remover.transform(words_data)\n",
    "\n",
    "# Feature Extraction: Apply HashingTF and IDF\n",
    "hashing_tf = HashingTF(inputCol=\"words\", outputCol=\"raw_features\")\n",
    "featurized_data = hashing_tf.transform(filtered_df)\n",
    "idf = IDF(inputCol=\"raw_features\", outputCol=\"idf_features\")\n",
    "idf_model = idf.fit(featurized_data)\n",
    "tfidf_data = idf_model.transform(featurized_data)\n",
    "\n",
    "# Normalize the features\n",
    "normalizer = Normalizer(inputCol=\"idf_features\", outputCol=\"features\")\n",
    "normalized_data = normalizer.transform(tfidf_data)\n",
    "\n",
    "# Approximate Similarity Join\n",
    "brp = BucketedRandomProjectionLSH(inputCol=\"features\", outputCol=\"hashes\", bucketLength=2.0, numHashTables=3)\n",
    "model = brp.fit(normalized_data)\n",
    "hashed_df = model.transform(normalized_data)\n"
   ]
  },
  {
   "cell_type": "code",
   "execution_count": 19,
   "id": "d1b4eb26-3293-46f4-ae9b-92f7aa9f5848",
   "metadata": {
    "tags": []
   },
   "outputs": [],
   "source": [
    "filtered_books_df = books_df.filter(col(\"description\").isNotNull() & (col(\"description\") != \"\"))"
   ]
  },
  {
   "cell_type": "code",
   "execution_count": null,
   "id": "54c68942-0a71-4bdf-953a-ab337033c2f6",
   "metadata": {},
   "outputs": [],
   "source": [
    "books_df  = books_df.na.drop(subset=[\"description\"])"
   ]
  },
  {
   "cell_type": "code",
   "execution_count": null,
   "id": "9f94d709-eb48-415f-bb9f-5adc36340a51",
   "metadata": {},
   "outputs": [],
   "source": [
    "# recommend top 5 for one book \n",
    "\n",
    "def recommend_books(book_id, top_n):\n",
    "    # Filter for the given book_id\n",
    "    query_df = hashed_df.filter(hashed_df.book_id == book_id)\n",
    "\n",
    "    # Compute the approx similarity join\n",
    "    similar_books = model.approxSimilarityJoin(query_df, hashed_df, threshold=1.5, distCol=\"EuclideanDistance\")\n",
    "\n",
    "    # Select the books and their distances\n",
    "    similar_books_df = similar_books.select(col(\"datasetB.book_id\").alias(\"book_id\"), col(\"EuclideanDistance\"))\n",
    "    \n",
    "    # Filter out the query book and limit to top N\n",
    "    similar_books_df = similar_books_df.filter(similar_books_df.book_id != book_id).orderBy(\"EuclideanDistance\").limit(top_n)\n",
    "\n",
    "    return similar_books_df\n",
    "\n",
    "# Example usage\n",
    "specific_book_id = 5333265  # Replace with an actual book_id\n",
    "recommended_books = recommend_books(specific_book_id, 5)"
   ]
  },
  {
   "cell_type": "code",
   "execution_count": 13,
   "id": "452adb86-d3d1-4e68-946d-2da0dd47a2c9",
   "metadata": {
    "tags": []
   },
   "outputs": [],
   "source": [
    "# Example usage\n",
    "specific_book_id = 1333909 # Replace with an actual book_id\n",
    "recommended_books = recommend_books(specific_book_id, 5)"
   ]
  },
  {
   "cell_type": "code",
   "execution_count": 14,
   "id": "dfe51b25-536a-4b0d-bdda-77245bcb630e",
   "metadata": {
    "tags": []
   },
   "outputs": [
    {
     "name": "stderr",
     "output_type": "stream",
     "text": [
      "23/12/21 09:15:07 WARN DAGScheduler: Broadcasting large task binary with size 10.2 MiB\n",
      "23/12/21 09:15:22 WARN DAGScheduler: Broadcasting large task binary with size 10.5 MiB\n",
      "[Stage 23:>                                                         (0 + 1) / 1]\r"
     ]
    },
    {
     "name": "stdout",
     "output_type": "stream",
     "text": [
      "+--------+------------------+\n",
      "| book_id| EuclideanDistance|\n",
      "+--------+------------------+\n",
      "|13579397|1.3182980253347245|\n",
      "|  981695|1.3213593122781784|\n",
      "|  169075|1.3350641636905347|\n",
      "|16047776|1.3353816795787177|\n",
      "| 8529354|1.3360743253474139|\n",
      "+--------+------------------+\n",
      "\n"
     ]
    },
    {
     "name": "stderr",
     "output_type": "stream",
     "text": [
      "                                                                                \r"
     ]
    }
   ],
   "source": [
    "recommended_books.show()"
   ]
  },
  {
   "cell_type": "code",
   "execution_count": 15,
   "id": "fc122501-9f41-4b90-9dc9-dc588765fb81",
   "metadata": {
    "tags": []
   },
   "outputs": [],
   "source": [
    "final_recommendations = recommended_books.join(books, \"book_id\")"
   ]
  },
  {
   "cell_type": "code",
   "execution_count": 16,
   "id": "ca582c8d-7c5b-4739-930d-51e7d860060a",
   "metadata": {
    "tags": []
   },
   "outputs": [
    {
     "name": "stderr",
     "output_type": "stream",
     "text": [
      "23/12/21 09:37:34 WARN DAGScheduler: Broadcasting large task binary with size 10.2 MiB\n",
      "23/12/21 09:37:48 WARN DAGScheduler: Broadcasting large task binary with size 10.5 MiB\n",
      "[Stage 32:======================================================> (43 + 1) / 44]\r"
     ]
    },
    {
     "name": "stdout",
     "output_type": "stream",
     "text": [
      "+--------+------------------+----------------------------------------------------------------------------------+----------------------------------------------------------------------------------------------------------------------------------------------------------------------------------------------------------------------------------------------------------------------------------------------------------------------------------------------------------------------------------------------------------------------------------------------------------------------------------------------------------------------------------------------------------------------------------------------------------------------------------------------------------------------------------------------------------------------------------------------------------------------------------------------------------------------------------------------------------------------------------------------------------------------------------------------------------------------------------------------------------------------------------------------------------------------------------------------------------------------------------------------------------------------------------------------------------------------------------------------------------------------------------------------------------------------------------------------------------------------------------------------------------------------------------------------------------------------------------------------------------------------------------------------------------------------------------------------------------------------------------------------------------------------------------------------------------------------------------------------------------------------------------------------------------------------------------------------------------------------------------------------------------------------------------------------------------------------------------------------------------------------------------------------------------------------------------------------------------------------------------------------------------------------------------------------------------------------------------+\n",
      "|book_id |EuclideanDistance |title                                                                             |description                                                                                                                                                                                                                                                                                                                                                                                                                                                                                                                                                                                                                                                                                                                                                                                                                                                                                                                                                                                                                                                                                                                                                                                                                                                                                                                                                                                                                                                                                                                                                                                                                                                                                                                                                                                                                                                                                                                                                                                                                                                                                                                                                                                                                       |\n",
      "+--------+------------------+----------------------------------------------------------------------------------+----------------------------------------------------------------------------------------------------------------------------------------------------------------------------------------------------------------------------------------------------------------------------------------------------------------------------------------------------------------------------------------------------------------------------------------------------------------------------------------------------------------------------------------------------------------------------------------------------------------------------------------------------------------------------------------------------------------------------------------------------------------------------------------------------------------------------------------------------------------------------------------------------------------------------------------------------------------------------------------------------------------------------------------------------------------------------------------------------------------------------------------------------------------------------------------------------------------------------------------------------------------------------------------------------------------------------------------------------------------------------------------------------------------------------------------------------------------------------------------------------------------------------------------------------------------------------------------------------------------------------------------------------------------------------------------------------------------------------------------------------------------------------------------------------------------------------------------------------------------------------------------------------------------------------------------------------------------------------------------------------------------------------------------------------------------------------------------------------------------------------------------------------------------------------------------------------------------------------------+\n",
      "|8529354 |1.3360743253474139|The Master and His Emissary: The Divided Brain and the Making of the Western World|Why is the brain divided? The difference between right & left hemispheres has been puzzled over for centuries. In a book of unprecedented scope, McGilchrist draws on a vast body of recent brain research, illustrated with case histories, to reveal that the difference is profound--not just this or that function, but two whole, coherent, but incompatible ways of experiencing the world. The left hemisphere is detail oriented, prefers mechanisms to living things & is inclined to self-interest. The right hemisphere has greater breadth, flexibility & generosity. This division helps explain the origins of music & language, & casts new light on the history of philosophy, as well as on some mental illnesses. The 2nd part of the book takes a journey thru the history of Western culture, illustrating the tension between these two worlds as revealed in the thought & belief of thinkers & artists, from Aeschylus to Magritte. He argues that, despite its inferior grasp of reality, the left hemisphere is increasingly taking precedence in the modern world, with potentially disastrous consequences.\\nList of Illustrations\\nAcknowledgments\\nIntroduction\\nAsymmetry and the brain --\\nWhat do the two hemispheres 'do'? --\\nLanguage, truth and music --\\nThe nature of the two worlds --\\nThe primacy of the right hemisphere --\\nThe triumph of the left hemisphere --\\nImitation and the evolution of culture --\\nThe ancient world --\\nThe Renaissance and the Reformation --\\nThe Enlightenment --\\nRomanticism and the Industrial Revolution --\\nThe modern and post-modern worlds\\nConclusion\\nNotes\\nBibliography\\nIndex                                                                                                                                                                                                                                                                                                                                                                                                                                                                                                                                                              |\n",
      "|981695  |1.3213593122781784|Once a Year: Some Traditional British Customs                                     |Contents -- Acknowledgements -- Introduction -- The Haxey Hood Game -- Burning the Clavie -- Goathland Plough Stots -- Wassailing the Apple Tree -- The Baddeley Cake -- Dicing for Maids Money -- Carlows Charity Woodbridge -- Westminster School Pancake Greaze -- Shrove Tuesday Skipping -- Hurling the Silver Ball -- Company of Marblers and Stone Cutters -- Ashbourne Royal Shrove Tide Football -- The Tichbourne Dole -- Da\"me Elizabeth Marvyn Charity -- Pax Cake Distribution -- Henry Travice Charity -- The Britannia Coconut Dancers -- Chulkhurst Charity -- Bottle Kicking and Hare Pie Scrambling -- Hungerford Hocktide -- Stowell Court Candle Auction -- Padstow Hobby Horse -- Minehead Hobby Horse -- Barwick in Elmet Maypole -- Gawthorpe May Day Procession -- May Morning Celebrations -- Knutsford Royal May Day -- Helston Furry Dance -- Abbotsbury Garland Day -- Whitby Penny Hedge -- Beating the Bounds at the Tower Liberty -- Dunting the Freeholder -- Arbor Day -- Castleton Garland Day -- Grovely Forest Rights -- Wicken Love Feast -- Ickwell May Day -- Weighing-in Ceremony -- Bread and Cheese Throwing -- Cheese Rolling -- Bampton Morris Dancing -- Bellerby Feast -- Southwold Trinity Fair -- Pinner Fair -- The Glorious Fourth of June -- Warrington Walking Day -- Mayor of Ock Street -- Yarnton Meadow Rights -- Pretty Maid's Charity -- The Glove is up -- John Knill Ceremony -- Burrator Reservoir Ceremony -- The Burry Man -- Grasmere Rush-Bearing -- Burning the Bartle -- Knighthood of the Old Green -- Abbots Bromley Horn Dance -- Painswick Clyping Ceremony -- Egremont Crabapple Fair -- Hinton Punky Night -- Twyford Bell Ringers -- Dungworth Caking Night -- Cliffe Bonfire -- Turning the Devil's Stone -- Ottery Tar Barrel Rolling -- Hatherleigh Fire Festival -- Firing the Fenny Poppers -- Antrobus Soul Caking -- Wareham Court Leet -- Laxton Jury Day -- Broughton Tin Can Band -- The Devil's Knell -- Bampton Mummers -- Handsworth Sword Dance -- Marshfield Paper Boys -- Allendale Tar-barrel Parade -- Ripon Sword Dance -- Aldermaston Candle Auction -- Ripon Horn-Blower -- John Sayer Charity -- Farthing Bundles -- Bibliography.|\n",
      "|13579397|1.3182980253347245|Other Worlds Than These                                                           |What if you could not only travel any location in the world, but to any possible world?\\nWe can all imagine such \"other worlds\"--be they worlds just slightly different than our own or worlds full of magic and wonder--but it is only in fiction that we can travel to them. From The Wizard of Oz to The Dark Tower, from Philip Pullman's The Golden Compass to C. S. Lewis's The Chronicles of Narnia, there is a rich tradition of this kind of fiction, but never before have the best parallel world stories and portal fantasies been collected in a single volume--until now.\\nContents:\\nForeword -- Lev Grossman\\nIntroduction -- John Joseph Adams\\nMoon Six -- Stephen Baxter\\nA Brief Guide to Other Histories -- Paul McAuley\\nCrystal Halloway and the Forgotten Passage -- Seanan McGuire\\nAn Empty House With Many Doors -- Michael Swanwick\\nTwenty-Two Centimeters -- Gregory Benford\\nAna's Tag -- William Alexander\\nNothing Personal -- Pat Cadigan\\nThe Rose Wall -- Joyce Carol Oates\\nThe Thirteen Texts of Arthyria -- John R. Fultz\\nRuminations in an Alien Tongue -- Vandana Singh\\nTen Sigmas -- Paul Melko\\nMagic for Beginners -- Kelly Link\\n[A Ghost Samba] -- Ian McDonald\\nThe Cristobal Effect -- Simon McCaffery\\nBeyond Porch and Portal -- E. Catherine Tobler\\nSignal to Noise -- Alastair Reynolds\\nPorridge on Islac -- Ursula K. Le Guin\\nMrs. Todd's Shortcut -- Stephen King\\nThe Ontological Factor -- David Barr Kirtley\\nDear Annabehls -- Mercurio D. Rivera\\nThe Goat Variations -- Jeff VanderMeer\\nThe Lonely Songs of Laren Door -- George R. R. Martin\\nOf Swords and Horses -- Carrie Vaughn\\nImpossible Dreams -- Tim Pratt\\nLike Minds -- Robert Reed\\nThe City of Blind Delight -- Catherynne M. Valente\\nFlower, Mercy, Needle, Chain -- Yoon Ha Lee\\nAngles -- Orson Scott Card\\nThe Magician and the Maid and Other Stories -- Christie Yant\\nTrips -- Robert Silverberg\\nFor Further Reading -- Ross Lockhart                                                                                                                                                                                                                                                    |\n",
      "|16047776|1.3353816795787177|Ulysses                                                                           |(c) renewed 1961 by Lucia and George Joyce                                                                                                                                                                                                                                                                                                                                                                                                                                                                                                                                                                                                                                                                                                                                                                                                                                                                                                                                                                                                                                                                                                                                                                                                                                                                                                                                                                                                                                                                                                                                                                                                                                                                                                                                                                                                                                                                                                                                                                                                                                                                                                                                                                                        |\n",
      "|169075  |1.3350641636905347|Nabokov's Dozen: A Collection of Thirteen Stories‏                                |Spring in Fialta --\\nForgotten poet --\\nFirst love --\\nSigns and symbols --\\nAssistant producer --\\nAurelian --\\nCloud, castle, lake --\\nConversation piece, 1945 --\\n\"That in Aleppo once\" --\\nTime and ebb --\\nScenes from the life of a double monster --\\nMademoiselle O. --\\nLance.                                                                                                                                                                                                                                                                                                                                                                                                                                                                                                                                                                                                                                                                                                                                                                                                                                                                                                                                                                                                                                                                                                                                                                                                                                                                                                                                                                                                                                                                                                                                                                                                                                                                                                                                                                                                                                                                                                                                          |\n",
      "+--------+------------------+----------------------------------------------------------------------------------+----------------------------------------------------------------------------------------------------------------------------------------------------------------------------------------------------------------------------------------------------------------------------------------------------------------------------------------------------------------------------------------------------------------------------------------------------------------------------------------------------------------------------------------------------------------------------------------------------------------------------------------------------------------------------------------------------------------------------------------------------------------------------------------------------------------------------------------------------------------------------------------------------------------------------------------------------------------------------------------------------------------------------------------------------------------------------------------------------------------------------------------------------------------------------------------------------------------------------------------------------------------------------------------------------------------------------------------------------------------------------------------------------------------------------------------------------------------------------------------------------------------------------------------------------------------------------------------------------------------------------------------------------------------------------------------------------------------------------------------------------------------------------------------------------------------------------------------------------------------------------------------------------------------------------------------------------------------------------------------------------------------------------------------------------------------------------------------------------------------------------------------------------------------------------------------------------------------------------------+\n",
      "\n"
     ]
    },
    {
     "name": "stderr",
     "output_type": "stream",
     "text": [
      "                                                                                \r"
     ]
    }
   ],
   "source": [
    "final_recommendations.select(\"book_id\", \"EuclideanDistance\", \"title\", \"description\").show(truncate = False)"
   ]
  },
  {
   "cell_type": "code",
   "execution_count": 11,
   "id": "57065473-1cd4-40b3-b1c7-25453ca002de",
   "metadata": {
    "tags": []
   },
   "outputs": [
    {
     "name": "stderr",
     "output_type": "stream",
     "text": [
      "23/12/21 08:58:15 WARN DAGScheduler: Broadcasting large task binary with size 10.2 MiB\n",
      "23/12/21 08:58:34 WARN DAGScheduler: Broadcasting large task binary with size 10.5 MiB\n",
      "[Stage 14:>                                                         (0 + 1) / 1]\r"
     ]
    },
    {
     "name": "stdout",
     "output_type": "stream",
     "text": [
      "+--------+-----------------+\n",
      "| book_id|EuclideanDistance|\n",
      "+--------+-----------------+\n",
      "|30123434|              0.0|\n",
      "|25552070|              0.0|\n",
      "|12841602|              0.0|\n",
      "| 4546375|              0.0|\n",
      "|13068837|              0.0|\n",
      "+--------+-----------------+\n",
      "\n"
     ]
    },
    {
     "name": "stderr",
     "output_type": "stream",
     "text": [
      "                                                                                \r"
     ]
    }
   ],
   "source": [
    "recommended_books.show()"
   ]
  },
  {
   "cell_type": "code",
   "execution_count": 12,
   "id": "dffbaf65-345e-4ca8-a57f-e4447b9a328e",
   "metadata": {
    "tags": []
   },
   "outputs": [
    {
     "name": "stderr",
     "output_type": "stream",
     "text": [
      "[Stage 18:======================================================> (43 + 1) / 44]\r"
     ]
    },
    {
     "name": "stdout",
     "output_type": "stream",
     "text": [
      "+----+-------------+--------------+--------+------------+-----------+-------------------+------+--------------------+--------+----+------+-----------+-------------+--------------------+---------+--------------------+---------------+-----------------+----------------+---------+-------------+------+-------------+------------------+--------------------+--------------------+--------------------+--------+\n",
      "|asin|      authors|average_rating| book_id|country_code|description|edition_information|format|           image_url|is_ebook|isbn|isbn13|kindle_asin|language_code|                link|num_pages|     popular_shelves|publication_day|publication_month|publication_year|publisher|ratings_count|series|similar_books|text_reviews_count|               title|title_without_series|                 url| work_id|\n",
      "+----+-------------+--------------+--------+------------+-----------+-------------------+------+--------------------+--------+----+------+-----------+-------------+--------------------+---------+--------------------+---------------+-----------------+----------------+---------+-------------+------+-------------+------------------+--------------------+--------------------+--------------------+--------+\n",
      "|    |[{7121830, }]|          4.77|30123434|          US|           |                   |      |https://images.gr...|   false|    |      |           |          eng|https://www.goodr...|         |[{30, to-read}, {...|               |                 |                |         |           13|    []|           []|                10|Flying Free (Book...|Flying Free (Book...|https://www.goodr...|50550671|\n",
      "+----+-------------+--------------+--------+------------+-----------+-------------------+------+--------------------+--------+----+------+-----------+-------------+--------------------+---------+--------------------+---------------+-----------------+----------------+---------+-------------+------+-------------+------------------+--------------------+--------------------+--------------------+--------+\n",
      "\n"
     ]
    },
    {
     "name": "stderr",
     "output_type": "stream",
     "text": [
      "                                                                                \r"
     ]
    }
   ],
   "source": [
    "books.filter(col('book_id')=='30123434').show()"
   ]
  },
  {
   "cell_type": "code",
   "execution_count": null,
   "id": "8043bb7c-f57b-4b43-9166-0098e4923b91",
   "metadata": {},
   "outputs": [],
   "source": [
    "\n",
    "# Self-join the DataFrame to find similar books\n",
    "print(\"Approximately joining dfA and dfA on distance smaller than 1.5:\")\n",
    "recos = model.approxSimilarityJoin(normalized_data, normalized_data, 1.5).select(\n",
    "    col(\"datasetA.book_id\").alias(\"book_id_A\"),\n",
    "    col(\"datasetB.book_id\").alias(\"book_id_B\"),\n",
    "    col(\"distCol\")\n",
    ")"
   ]
  },
  {
   "cell_type": "code",
   "execution_count": 23,
   "id": "fd1ec55a-77c1-47e3-8a00-15257b620c8e",
   "metadata": {
    "tags": []
   },
   "outputs": [],
   "source": [
    "\n",
    "\n",
    "similar_books_df = recos.filter(col(\"distCol\") > 0).orderBy(\"distCol\")\n",
    "\n",
    "# Show top N similar book pairs\n",
    "#similar_books_df.limit(10).show()"
   ]
  },
  {
   "cell_type": "code",
   "execution_count": 24,
   "id": "e6b5ab31-207f-4659-81fd-6e6cf4029275",
   "metadata": {
    "tags": []
   },
   "outputs": [
    {
     "name": "stderr",
     "output_type": "stream",
     "text": [
      "23/12/21 00:05:01 WARN DAGScheduler: Broadcasting large task binary with size 10.2 MiB\n",
      "23/12/21 00:05:03 WARN DAGScheduler: Broadcasting large task binary with size 10.5 MiB\n",
      "[Stage 50:>                                                         (0 + 1) / 1]\r"
     ]
    },
    {
     "name": "stdout",
     "output_type": "stream",
     "text": [
      "+---------+---------------------------------------------------+----------------------------------------------------------------------------------------------------------------------------------------------------------------------------------------------------------------------------------------------------------------------------------------------------------------------------------------------------------------------------------------------------------------------------------------------------------------------------------------------------------------------------------------------------------------------------------------------------------------------------------------------------------------------------------------------------------------------------------------------------------------------------------------------------------------------------------------------------------------------------------------------------------------------------------------------------------------------------------------------------------------------------------------------------------------------------------------------------------------------------------------------------------------------------------------------------------------------------------------------------------------------------------------------------------------------------------------------------------------------------------------------------------------------+---------+--------------------------------------------------------------------+----------------------------------------------------------------------------------------------------------------------------------------------------------------------------------------------------------------------------------------------------------------------------------------------------------------------------------------------------------------------------------------------------------------------------------------------------------------------------------------------------------------------------------------------------------------------------------------------------------------------------------------------------------------------------------------------------------------------------------------------------------------------------------------------------------------------------------------------------------------------------------------------------------------------------------------------------------------------------------------------------------------------------------------------------------------------------------------------------------------------------------------------------------------------------------------------------------------------------------------------------------------------------------------------------------------------------------------------------------------------------------------------------------------------+------------------+\n",
      "|book_id_A|title_A                                            |description_A                                                                                                                                                                                                                                                                                                                                                                                                                                                                                                                                                                                                                                                                                                                                                                                                                                                                                                                                                                                                                                                                                                                                                                                                                                                                                                                                                                                                         |book_id_B|title_B                                                             |description_B                                                                                                                                                                                                                                                                                                                                                                                                                                                                                                                                                                                                                                                                                                                                                                                                                                                                                                                                                                                                                                                                                                                                                                                                                                                                                                                                                                                                         |distCol           |\n",
      "+---------+---------------------------------------------------+----------------------------------------------------------------------------------------------------------------------------------------------------------------------------------------------------------------------------------------------------------------------------------------------------------------------------------------------------------------------------------------------------------------------------------------------------------------------------------------------------------------------------------------------------------------------------------------------------------------------------------------------------------------------------------------------------------------------------------------------------------------------------------------------------------------------------------------------------------------------------------------------------------------------------------------------------------------------------------------------------------------------------------------------------------------------------------------------------------------------------------------------------------------------------------------------------------------------------------------------------------------------------------------------------------------------------------------------------------------------------------------------------------------------+---------+--------------------------------------------------------------------+----------------------------------------------------------------------------------------------------------------------------------------------------------------------------------------------------------------------------------------------------------------------------------------------------------------------------------------------------------------------------------------------------------------------------------------------------------------------------------------------------------------------------------------------------------------------------------------------------------------------------------------------------------------------------------------------------------------------------------------------------------------------------------------------------------------------------------------------------------------------------------------------------------------------------------------------------------------------------------------------------------------------------------------------------------------------------------------------------------------------------------------------------------------------------------------------------------------------------------------------------------------------------------------------------------------------------------------------------------------------------------------------------------------------+------------------+\n",
      "|5333265  |W.C. Fields: A Life on Film                        |                                                                                                                                                                                                                                                                                                                                                                                                                                                                                                                                                                                                                                                                                                                                                                                                                                                                                                                                                                                                                                                                                                                                                                                                                                                                                                                                                                                                                      |287149   |The Devil's Notebook                                                |Wisdom, humor, and dark observations by the founder of the Church of Satan. LaVey ponders such topics as nonconformity, occult faddism, erotic politics, the \"Goodguy badge,\" demoralization and the construction of artificial human companions.                                                                                                                                                                                                                                                                                                                                                                                                                                                                                                                                                                                                                                                                                                                                                                                                                                                                                                                                                                                                                                                                                                                                                                     |1.414213562373095 |\n",
      "|5333265  |W.C. Fields: A Life on Film                        |                                                                                                                                                                                                                                                                                                                                                                                                                                                                                                                                                                                                                                                                                                                                                                                                                                                                                                                                                                                                                                                                                                                                                                                                                                                                                                                                                                                                                      |287141   |The Aeneid for Boys and Girls                                       |Relates in vigorous prose the tale of Aeneas, the legendary ancestor of Romulus, who escaped from the burning city of Troy and wandered the Mediterranean for years before settling in Italy. Patterned after the Iliad and the Odyssey, the Aeneid was composed as an epic poem by Virgil, to glorify the imperial city of Rome.                                                                                                                                                                                                                                                                                                                                                                                                                                                                                                                                                                                                                                                                                                                                                                                                                                                                                                                                                                                                                                                                                     |1.4142135623730951|\n",
      "|5333265  |W.C. Fields: A Life on Film                        |                                                                                                                                                                                                                                                                                                                                                                                                                                                                                                                                                                                                                                                                                                                                                                                                                                                                                                                                                                                                                                                                                                                                                                                                                                                                                                                                                                                                                      |7327624  |The Unschooled Wizard (Sun Wolf and Starhawk, #1-2)                 |Omnibus book club edition containing the Ladies of Madrigyn and the Witches of Wenshar.                                                                                                                                                                                                                                                                                                                                                                                                                                                                                                                                                                                                                                                                                                                                                                                                                                                                                                                                                                                                                                                                                                                                                                                                                                                                                                                               |1.4142135623730951|\n",
      "|5333265  |W.C. Fields: A Life on Film                        |                                                                                                                                                                                                                                                                                                                                                                                                                                                                                                                                                                                                                                                                                                                                                                                                                                                                                                                                                                                                                                                                                                                                                                                                                                                                                                                                                                                                                      |1333909  |Good Harbor                                                         |Anita Diamant's international bestseller \"The Red Tent\" brilliantly re-created the ancient world of womanhood. Diamant brings her remarkable storytelling skills to \"Good Harbor\" -- offering insight to the precarious balance of marriage and career, motherhood and friendship in the world of modern women. The seaside town of Gloucester, Massachusetts is a place where the smell of the ocean lingers in the air and the rocky coast glistens in the Atlantic sunshine. When longtime Gloucester-resident Kathleen Levine is diagnosed with breast cancer, her life is thrown into turmoil. Frightened and burdened by secrets, she meets Joyce Tabachnik -- a freelance writer with literary aspirations -- and a once-in-a-lifetime friendship is born. Joyce has just bought a small house in Gloucester, where she hopes to write as well as vacation with her family. Like Kathleen, Joyce is at a fragile place in her life.\\nA mutual love for books, humor, and the beauty of the natural world brings the two women together. They share their personal histories, and help each other to confront scars left by old emotional wounds.\\nWith her own trademark wisdom and humor, Diamant considers the nature, strength, and necessity of adult female friendship. \"Good Harbor\" examines the tragedy of loss, the insidious nature of family secrets, as well as the redemptive power of friendship.|1.4142135623730956|\n",
      "|5333265  |W.C. Fields: A Life on Film                        |                                                                                                                                                                                                                                                                                                                                                                                                                                                                                                                                                                                                                                                                                                                                                                                                                                                                                                                                                                                                                                                                                                                                                                                                                                                                                                                                                                                                                      |34883016 |Playmaker: A Venom Series Novella                                   |Secrets. Sometimes keeping them in confidence is a good thing. Other times secrets can slowly allow a woman's soul to rot.\\nWhitney Beaupre has been hiding a big secret for years, one that's beginning to wear her down both on and off the ice. Pretending to be something she's not is exhausting. Wanting to be free but afraid to break out of her prison is terrifying. Seeking love but then hiding from it is crushing to the spirit, yet Whitney feels compelled to keep living the lie. Until the night Hannah Kym appears in her life. Whitney's attraction to Hannah is deep, fierce, and instantaneous. The Temple art major is everything Whitney has dreamed of and more. But those old fears keep clawing at the Venom center, keeping her locked in the closet despite the passion and affection she feels for Hannah.\\nCan love finally break the shackles holding Whitney's heart and soul captive?                                                                                                                                                                                                                                                                                                                                                                                                                                                                                               |1.4142135623730943|\n",
      "|5333265  |W.C. Fields: A Life on Film                        |                                                                                                                                                                                                                                                                                                                                                                                                                                                                                                                                                                                                                                                                                                                                                                                                                                                                                                                                                                                                                                                                                                                                                                                                                                                                                                                                                                                                                      |6066819  |Best Friends Forever                                                |Addie Downs and Valerie Adler were eight when they first met and decided to be best friends forever. But, in the wake of tragedy and betrayal during their teenage years, everything changed. Val went on to fame and fortune. Addie stayed behind in their small Midwestern town. Destiny, however, had more in store for these two. And when, twenty-five years later, Val shows up at Addie's front door with blood on her coat and terror on her face, it is the beginning of a wild adventure for two women joined by love and history who find strength together that they could not find alone.                                                                                                                                                                                                                                                                                                                                                                                                                                                                                                                                                                                                                                                                                                                                                                                                                |1.4142135623730945|\n",
      "|5333265  |W.C. Fields: A Life on Film                        |                                                                                                                                                                                                                                                                                                                                                                                                                                                                                                                                                                                                                                                                                                                                                                                                                                                                                                                                                                                                                                                                                                                                                                                                                                                                                                                                                                                                                      |6066812  |All's Fairy in Love and War (Avalon: Web of Magic, #8)              |To Kara's astonishment, she discovers that a portal has opened in her bedroom closet and two goblins have fallen through! They refuse to return to the fairy realms and be drafted for an impending war. In an attempt to roust the pesky creatures, Kara falls through the portal, smack into the middle of a huge war. Kara meets Queen Selinda, who appoints Kara as a Fairy Princess and assigns her an impossible task: to put an end to the war using her diplomatic skills.\\nAll's Fairy In Love And War is the eighth book in Avalon: Web of Magic, a twelve-book fantasy series for middle grade readers. Through their magical journey, the teenage heroines discover who they really are . . . and run into plenty of good guys, bad guys, and cute guys. Out of print for two years, Seven Seas is pleased to return the Avalon series to print in editions targeted for today's readers, with new manga-style covers and interior illustrations.                                                                                                                                                                                                                                                                                                                                                                                                                                                         |1.4142135623730943|\n",
      "|1333909  |Good Harbor                                        |Anita Diamant's international bestseller \"The Red Tent\" brilliantly re-created the ancient world of womanhood. Diamant brings her remarkable storytelling skills to \"Good Harbor\" -- offering insight to the precarious balance of marriage and career, motherhood and friendship in the world of modern women. The seaside town of Gloucester, Massachusetts is a place where the smell of the ocean lingers in the air and the rocky coast glistens in the Atlantic sunshine. When longtime Gloucester-resident Kathleen Levine is diagnosed with breast cancer, her life is thrown into turmoil. Frightened and burdened by secrets, she meets Joyce Tabachnik -- a freelance writer with literary aspirations -- and a once-in-a-lifetime friendship is born. Joyce has just bought a small house in Gloucester, where she hopes to write as well as vacation with her family. Like Kathleen, Joyce is at a fragile place in her life.\\nA mutual love for books, humor, and the beauty of the natural world brings the two women together. They share their personal histories, and help each other to confront scars left by old emotional wounds.\\nWith her own trademark wisdom and humor, Diamant considers the nature, strength, and necessity of adult female friendship. \"Good Harbor\" examines the tragedy of loss, the insidious nature of family secrets, as well as the redemptive power of friendship.|287149   |The Devil's Notebook                                                |Wisdom, humor, and dark observations by the founder of the Church of Satan. LaVey ponders such topics as nonconformity, occult faddism, erotic politics, the \"Goodguy badge,\" demoralization and the construction of artificial human companions.                                                                                                                                                                                                                                                                                                                                                                                                                                                                                                                                                                                                                                                                                                                                                                                                                                                                                                                                                                                                                                                                                                                                                                     |1.3518357458341177|\n",
      "|1333909  |Good Harbor                                        |Anita Diamant's international bestseller \"The Red Tent\" brilliantly re-created the ancient world of womanhood. Diamant brings her remarkable storytelling skills to \"Good Harbor\" -- offering insight to the precarious balance of marriage and career, motherhood and friendship in the world of modern women. The seaside town of Gloucester, Massachusetts is a place where the smell of the ocean lingers in the air and the rocky coast glistens in the Atlantic sunshine. When longtime Gloucester-resident Kathleen Levine is diagnosed with breast cancer, her life is thrown into turmoil. Frightened and burdened by secrets, she meets Joyce Tabachnik -- a freelance writer with literary aspirations -- and a once-in-a-lifetime friendship is born. Joyce has just bought a small house in Gloucester, where she hopes to write as well as vacation with her family. Like Kathleen, Joyce is at a fragile place in her life.\\nA mutual love for books, humor, and the beauty of the natural world brings the two women together. They share their personal histories, and help each other to confront scars left by old emotional wounds.\\nWith her own trademark wisdom and humor, Diamant considers the nature, strength, and necessity of adult female friendship. \"Good Harbor\" examines the tragedy of loss, the insidious nature of family secrets, as well as the redemptive power of friendship.|378460   |The Wanting of Levine                                               |                                                                                                                                                                                                                                                                                                                                                                                                                                                                                                                                                                                                                                                                                                                                                                                                                                                                                                                                                                                                                                                                                                                                                                                                                                                                                                                                                                                                                      |1.4142135623730956|\n",
      "|1333909  |Good Harbor                                        |Anita Diamant's international bestseller \"The Red Tent\" brilliantly re-created the ancient world of womanhood. Diamant brings her remarkable storytelling skills to \"Good Harbor\" -- offering insight to the precarious balance of marriage and career, motherhood and friendship in the world of modern women. The seaside town of Gloucester, Massachusetts is a place where the smell of the ocean lingers in the air and the rocky coast glistens in the Atlantic sunshine. When longtime Gloucester-resident Kathleen Levine is diagnosed with breast cancer, her life is thrown into turmoil. Frightened and burdened by secrets, she meets Joyce Tabachnik -- a freelance writer with literary aspirations -- and a once-in-a-lifetime friendship is born. Joyce has just bought a small house in Gloucester, where she hopes to write as well as vacation with her family. Like Kathleen, Joyce is at a fragile place in her life.\\nA mutual love for books, humor, and the beauty of the natural world brings the two women together. They share their personal histories, and help each other to confront scars left by old emotional wounds.\\nWith her own trademark wisdom and humor, Diamant considers the nature, strength, and necessity of adult female friendship. \"Good Harbor\" examines the tragedy of loss, the insidious nature of family secrets, as well as the redemptive power of friendship.|287141   |The Aeneid for Boys and Girls                                       |Relates in vigorous prose the tale of Aeneas, the legendary ancestor of Romulus, who escaped from the burning city of Troy and wandered the Mediterranean for years before settling in Italy. Patterned after the Iliad and the Odyssey, the Aeneid was composed as an epic poem by Virgil, to glorify the imperial city of Rome.                                                                                                                                                                                                                                                                                                                                                                                                                                                                                                                                                                                                                                                                                                                                                                                                                                                                                                                                                                                                                                                                                     |1.3395741752879142|\n",
      "|1333909  |Good Harbor                                        |Anita Diamant's international bestseller \"The Red Tent\" brilliantly re-created the ancient world of womanhood. Diamant brings her remarkable storytelling skills to \"Good Harbor\" -- offering insight to the precarious balance of marriage and career, motherhood and friendship in the world of modern women. The seaside town of Gloucester, Massachusetts is a place where the smell of the ocean lingers in the air and the rocky coast glistens in the Atlantic sunshine. When longtime Gloucester-resident Kathleen Levine is diagnosed with breast cancer, her life is thrown into turmoil. Frightened and burdened by secrets, she meets Joyce Tabachnik -- a freelance writer with literary aspirations -- and a once-in-a-lifetime friendship is born. Joyce has just bought a small house in Gloucester, where she hopes to write as well as vacation with her family. Like Kathleen, Joyce is at a fragile place in her life.\\nA mutual love for books, humor, and the beauty of the natural world brings the two women together. They share their personal histories, and help each other to confront scars left by old emotional wounds.\\nWith her own trademark wisdom and humor, Diamant considers the nature, strength, and necessity of adult female friendship. \"Good Harbor\" examines the tragedy of loss, the insidious nature of family secrets, as well as the redemptive power of friendship.|287140   |Runic Astrology: Starcraft and Timekeeping in the Northern Tradition|                                                                                                                                                                                                                                                                                                                                                                                                                                                                                                                                                                                                                                                                                                                                                                                                                                                                                                                                                                                                                                                                                                                                                                                                                                                                                                                                                                                                                      |1.4142135623730956|\n",
      "|1333909  |Good Harbor                                        |Anita Diamant's international bestseller \"The Red Tent\" brilliantly re-created the ancient world of womanhood. Diamant brings her remarkable storytelling skills to \"Good Harbor\" -- offering insight to the precarious balance of marriage and career, motherhood and friendship in the world of modern women. The seaside town of Gloucester, Massachusetts is a place where the smell of the ocean lingers in the air and the rocky coast glistens in the Atlantic sunshine. When longtime Gloucester-resident Kathleen Levine is diagnosed with breast cancer, her life is thrown into turmoil. Frightened and burdened by secrets, she meets Joyce Tabachnik -- a freelance writer with literary aspirations -- and a once-in-a-lifetime friendship is born. Joyce has just bought a small house in Gloucester, where she hopes to write as well as vacation with her family. Like Kathleen, Joyce is at a fragile place in her life.\\nA mutual love for books, humor, and the beauty of the natural world brings the two women together. They share their personal histories, and help each other to confront scars left by old emotional wounds.\\nWith her own trademark wisdom and humor, Diamant considers the nature, strength, and necessity of adult female friendship. \"Good Harbor\" examines the tragedy of loss, the insidious nature of family secrets, as well as the redemptive power of friendship.|7327624  |The Unschooled Wizard (Sun Wolf and Starhawk, #1-2)                 |Omnibus book club edition containing the Ladies of Madrigyn and the Witches of Wenshar.                                                                                                                                                                                                                                                                                                                                                                                                                                                                                                                                                                                                                                                                                                                                                                                                                                                                                                                                                                                                                                                                                                                                                                                                                                                                                                                               |1.3802195384743148|\n",
      "|1333909  |Good Harbor                                        |Anita Diamant's international bestseller \"The Red Tent\" brilliantly re-created the ancient world of womanhood. Diamant brings her remarkable storytelling skills to \"Good Harbor\" -- offering insight to the precarious balance of marriage and career, motherhood and friendship in the world of modern women. The seaside town of Gloucester, Massachusetts is a place where the smell of the ocean lingers in the air and the rocky coast glistens in the Atlantic sunshine. When longtime Gloucester-resident Kathleen Levine is diagnosed with breast cancer, her life is thrown into turmoil. Frightened and burdened by secrets, she meets Joyce Tabachnik -- a freelance writer with literary aspirations -- and a once-in-a-lifetime friendship is born. Joyce has just bought a small house in Gloucester, where she hopes to write as well as vacation with her family. Like Kathleen, Joyce is at a fragile place in her life.\\nA mutual love for books, humor, and the beauty of the natural world brings the two women together. They share their personal histories, and help each other to confront scars left by old emotional wounds.\\nWith her own trademark wisdom and humor, Diamant considers the nature, strength, and necessity of adult female friendship. \"Good Harbor\" examines the tragedy of loss, the insidious nature of family secrets, as well as the redemptive power of friendship.|5333265  |W.C. Fields: A Life on Film                                         |                                                                                                                                                                                                                                                                                                                                                                                                                                                                                                                                                                                                                                                                                                                                                                                                                                                                                                                                                                                                                                                                                                                                                                                                                                                                                                                                                                                                                      |1.4142135623730956|\n",
      "|1333909  |Good Harbor                                        |Anita Diamant's international bestseller \"The Red Tent\" brilliantly re-created the ancient world of womanhood. Diamant brings her remarkable storytelling skills to \"Good Harbor\" -- offering insight to the precarious balance of marriage and career, motherhood and friendship in the world of modern women. The seaside town of Gloucester, Massachusetts is a place where the smell of the ocean lingers in the air and the rocky coast glistens in the Atlantic sunshine. When longtime Gloucester-resident Kathleen Levine is diagnosed with breast cancer, her life is thrown into turmoil. Frightened and burdened by secrets, she meets Joyce Tabachnik -- a freelance writer with literary aspirations -- and a once-in-a-lifetime friendship is born. Joyce has just bought a small house in Gloucester, where she hopes to write as well as vacation with her family. Like Kathleen, Joyce is at a fragile place in her life.\\nA mutual love for books, humor, and the beauty of the natural world brings the two women together. They share their personal histories, and help each other to confront scars left by old emotional wounds.\\nWith her own trademark wisdom and humor, Diamant considers the nature, strength, and necessity of adult female friendship. \"Good Harbor\" examines the tragedy of loss, the insidious nature of family secrets, as well as the redemptive power of friendship.|34883016 |Playmaker: A Venom Series Novella                                   |Secrets. Sometimes keeping them in confidence is a good thing. Other times secrets can slowly allow a woman's soul to rot.\\nWhitney Beaupre has been hiding a big secret for years, one that's beginning to wear her down both on and off the ice. Pretending to be something she's not is exhausting. Wanting to be free but afraid to break out of her prison is terrifying. Seeking love but then hiding from it is crushing to the spirit, yet Whitney feels compelled to keep living the lie. Until the night Hannah Kym appears in her life. Whitney's attraction to Hannah is deep, fierce, and instantaneous. The Temple art major is everything Whitney has dreamed of and more. But those old fears keep clawing at the Venom center, keeping her locked in the closet despite the passion and affection she feels for Hannah.\\nCan love finally break the shackles holding Whitney's heart and soul captive?                                                                                                                                                                                                                                                                                                                                                                                                                                                                                               |1.2895514534056434|\n",
      "|1333909  |Good Harbor                                        |Anita Diamant's international bestseller \"The Red Tent\" brilliantly re-created the ancient world of womanhood. Diamant brings her remarkable storytelling skills to \"Good Harbor\" -- offering insight to the precarious balance of marriage and career, motherhood and friendship in the world of modern women. The seaside town of Gloucester, Massachusetts is a place where the smell of the ocean lingers in the air and the rocky coast glistens in the Atlantic sunshine. When longtime Gloucester-resident Kathleen Levine is diagnosed with breast cancer, her life is thrown into turmoil. Frightened and burdened by secrets, she meets Joyce Tabachnik -- a freelance writer with literary aspirations -- and a once-in-a-lifetime friendship is born. Joyce has just bought a small house in Gloucester, where she hopes to write as well as vacation with her family. Like Kathleen, Joyce is at a fragile place in her life.\\nA mutual love for books, humor, and the beauty of the natural world brings the two women together. They share their personal histories, and help each other to confront scars left by old emotional wounds.\\nWith her own trademark wisdom and humor, Diamant considers the nature, strength, and necessity of adult female friendship. \"Good Harbor\" examines the tragedy of loss, the insidious nature of family secrets, as well as the redemptive power of friendship.|6066819  |Best Friends Forever                                                |Addie Downs and Valerie Adler were eight when they first met and decided to be best friends forever. But, in the wake of tragedy and betrayal during their teenage years, everything changed. Val went on to fame and fortune. Addie stayed behind in their small Midwestern town. Destiny, however, had more in store for these two. And when, twenty-five years later, Val shows up at Addie's front door with blood on her coat and terror on her face, it is the beginning of a wild adventure for two women joined by love and history who find strength together that they could not find alone.                                                                                                                                                                                                                                                                                                                                                                                                                                                                                                                                                                                                                                                                                                                                                                                                                |1.3177096885989426|\n",
      "|1333909  |Good Harbor                                        |Anita Diamant's international bestseller \"The Red Tent\" brilliantly re-created the ancient world of womanhood. Diamant brings her remarkable storytelling skills to \"Good Harbor\" -- offering insight to the precarious balance of marriage and career, motherhood and friendship in the world of modern women. The seaside town of Gloucester, Massachusetts is a place where the smell of the ocean lingers in the air and the rocky coast glistens in the Atlantic sunshine. When longtime Gloucester-resident Kathleen Levine is diagnosed with breast cancer, her life is thrown into turmoil. Frightened and burdened by secrets, she meets Joyce Tabachnik -- a freelance writer with literary aspirations -- and a once-in-a-lifetime friendship is born. Joyce has just bought a small house in Gloucester, where she hopes to write as well as vacation with her family. Like Kathleen, Joyce is at a fragile place in her life.\\nA mutual love for books, humor, and the beauty of the natural world brings the two women together. They share their personal histories, and help each other to confront scars left by old emotional wounds.\\nWith her own trademark wisdom and humor, Diamant considers the nature, strength, and necessity of adult female friendship. \"Good Harbor\" examines the tragedy of loss, the insidious nature of family secrets, as well as the redemptive power of friendship.|6066812  |All's Fairy in Love and War (Avalon: Web of Magic, #8)              |To Kara's astonishment, she discovers that a portal has opened in her bedroom closet and two goblins have fallen through! They refuse to return to the fairy realms and be drafted for an impending war. In an attempt to roust the pesky creatures, Kara falls through the portal, smack into the middle of a huge war. Kara meets Queen Selinda, who appoints Kara as a Fairy Princess and assigns her an impossible task: to put an end to the war using her diplomatic skills.\\nAll's Fairy In Love And War is the eighth book in Avalon: Web of Magic, a twelve-book fantasy series for middle grade readers. Through their magical journey, the teenage heroines discover who they really are . . . and run into plenty of good guys, bad guys, and cute guys. Out of print for two years, Seven Seas is pleased to return the Avalon series to print in editions targeted for today's readers, with new manga-style covers and interior illustrations.                                                                                                                                                                                                                                                                                                                                                                                                                                                         |1.2892423935723114|\n",
      "|7327624  |The Unschooled Wizard (Sun Wolf and Starhawk, #1-2)|Omnibus book club edition containing the Ladies of Madrigyn and the Witches of Wenshar.                                                                                                                                                                                                                                                                                                                                                                                                                                                                                                                                                                                                                                                                                                                                                                                                                                                                                                                                                                                                                                                                                                                                                                                                                                                                                                                               |287149   |The Devil's Notebook                                                |Wisdom, humor, and dark observations by the founder of the Church of Satan. LaVey ponders such topics as nonconformity, occult faddism, erotic politics, the \"Goodguy badge,\" demoralization and the construction of artificial human companions.                                                                                                                                                                                                                                                                                                                                                                                                                                                                                                                                                                                                                                                                                                                                                                                                                                                                                                                                                                                                                                                                                                                                                                     |1.386941318154148 |\n",
      "|7327624  |The Unschooled Wizard (Sun Wolf and Starhawk, #1-2)|Omnibus book club edition containing the Ladies of Madrigyn and the Witches of Wenshar.                                                                                                                                                                                                                                                                                                                                                                                                                                                                                                                                                                                                                                                                                                                                                                                                                                                                                                                                                                                                                                                                                                                                                                                                                                                                                                                               |378460   |The Wanting of Levine                                               |                                                                                                                                                                                                                                                                                                                                                                                                                                                                                                                                                                                                                                                                                                                                                                                                                                                                                                                                                                                                                                                                                                                                                                                                                                                                                                                                                                                                                      |1.4142135623730951|\n",
      "|7327624  |The Unschooled Wizard (Sun Wolf and Starhawk, #1-2)|Omnibus book club edition containing the Ladies of Madrigyn and the Witches of Wenshar.                                                                                                                                                                                                                                                                                                                                                                                                                                                                                                                                                                                                                                                                                                                                                                                                                                                                                                                                                                                                                                                                                                                                                                                                                                                                                                                               |287141   |The Aeneid for Boys and Girls                                       |Relates in vigorous prose the tale of Aeneas, the legendary ancestor of Romulus, who escaped from the burning city of Troy and wandered the Mediterranean for years before settling in Italy. Patterned after the Iliad and the Odyssey, the Aeneid was composed as an epic poem by Virgil, to glorify the imperial city of Rome.                                                                                                                                                                                                                                                                                                                                                                                                                                                                                                                                                                                                                                                                                                                                                                                                                                                                                                                                                                                                                                                                                     |1.379434259042668 |\n",
      "|7327624  |The Unschooled Wizard (Sun Wolf and Starhawk, #1-2)|Omnibus book club edition containing the Ladies of Madrigyn and the Witches of Wenshar.                                                                                                                                                                                                                                                                                                                                                                                                                                                                                                                                                                                                                                                                                                                                                                                                                                                                                                                                                                                                                                                                                                                                                                                                                                                                                                                               |287140   |Runic Astrology: Starcraft and Timekeeping in the Northern Tradition|                                                                                                                                                                                                                                                                                                                                                                                                                                                                                                                                                                                                                                                                                                                                                                                                                                                                                                                                                                                                                                                                                                                                                                                                                                                                                                                                                                                                                      |1.4142135623730951|\n",
      "+---------+---------------------------------------------------+----------------------------------------------------------------------------------------------------------------------------------------------------------------------------------------------------------------------------------------------------------------------------------------------------------------------------------------------------------------------------------------------------------------------------------------------------------------------------------------------------------------------------------------------------------------------------------------------------------------------------------------------------------------------------------------------------------------------------------------------------------------------------------------------------------------------------------------------------------------------------------------------------------------------------------------------------------------------------------------------------------------------------------------------------------------------------------------------------------------------------------------------------------------------------------------------------------------------------------------------------------------------------------------------------------------------------------------------------------------------------------------------------------------------+---------+--------------------------------------------------------------------+----------------------------------------------------------------------------------------------------------------------------------------------------------------------------------------------------------------------------------------------------------------------------------------------------------------------------------------------------------------------------------------------------------------------------------------------------------------------------------------------------------------------------------------------------------------------------------------------------------------------------------------------------------------------------------------------------------------------------------------------------------------------------------------------------------------------------------------------------------------------------------------------------------------------------------------------------------------------------------------------------------------------------------------------------------------------------------------------------------------------------------------------------------------------------------------------------------------------------------------------------------------------------------------------------------------------------------------------------------------------------------------------------------------------+------------------+\n",
      "only showing top 20 rows\n",
      "\n"
     ]
    },
    {
     "name": "stderr",
     "output_type": "stream",
     "text": [
      "                                                                                \r"
     ]
    }
   ],
   "source": [
    "from pyspark.sql.functions import col\n",
    "\n",
    "# Assuming your books DataFrame is named 'books_df' and has 'book_id', 'title', and 'description' columns\n",
    "# Join the similar_books_df DataFrame with the books DataFrame\n",
    "# Join for book_id_A\n",
    "joined_df_A = similar_books_df.join(books_df.withColumnRenamed(\"book_id\", \"book_id_A\").withColumnRenamed(\"title\", \"title_A\").withColumnRenamed(\"description\", \"description_A\"), on=\"book_id_A\")\n",
    "\n",
    "# Join for book_id_B\n",
    "final_df = joined_df_A.join(books_df.withColumnRenamed(\"book_id\", \"book_id_B\").withColumnRenamed(\"title\", \"title_B\").withColumnRenamed(\"description\", \"description_B\"), on=\"book_id_B\")\n",
    "\n",
    "# Selecting relevant columns\n",
    "final_df = final_df.select(\"book_id_A\", \"title_A\", \"description_A\", \"book_id_B\", \"title_B\", \"description_B\", \"distCol\")\n",
    "\n",
    "# Show results\n",
    "final_df.show(truncate=False)\n"
   ]
  },
  {
   "cell_type": "code",
   "execution_count": 25,
   "id": "204c525f-9775-4f0e-b128-fa15614060e5",
   "metadata": {
    "tags": []
   },
   "outputs": [
    {
     "name": "stderr",
     "output_type": "stream",
     "text": [
      "23/12/21 00:05:09 WARN DAGScheduler: Broadcasting large task binary with size 10.2 MiB\n",
      "23/12/21 00:05:11 WARN DAGScheduler: Broadcasting large task binary with size 10.5 MiB\n",
      "[Stage 58:>                                                         (0 + 1) / 1]\r"
     ]
    },
    {
     "name": "stdout",
     "output_type": "stream",
     "text": [
      "+--------------------+--------------------+------------------+\n",
      "|             title_A|             title_B|           distCol|\n",
      "+--------------------+--------------------+------------------+\n",
      "|W.C. Fields: A Li...|The Devil's Notebook| 1.414213562373095|\n",
      "|W.C. Fields: A Li...|The Aeneid for Bo...|1.4142135623730951|\n",
      "|W.C. Fields: A Li...|The Unschooled Wi...|1.4142135623730951|\n",
      "|W.C. Fields: A Li...|         Good Harbor|1.4142135623730956|\n",
      "|W.C. Fields: A Li...|Playmaker: A Veno...|1.4142135623730943|\n",
      "|W.C. Fields: A Li...|Best Friends Forever|1.4142135623730945|\n",
      "|W.C. Fields: A Li...|All's Fairy in Lo...|1.4142135623730943|\n",
      "|         Good Harbor|The Devil's Notebook|1.3518357458341177|\n",
      "|         Good Harbor|The Wanting of Le...|1.4142135623730956|\n",
      "|         Good Harbor|The Aeneid for Bo...|1.3395741752879142|\n",
      "|         Good Harbor|Runic Astrology: ...|1.4142135623730956|\n",
      "|         Good Harbor|The Unschooled Wi...|1.3802195384743148|\n",
      "|         Good Harbor|W.C. Fields: A Li...|1.4142135623730956|\n",
      "|         Good Harbor|Playmaker: A Veno...|1.2895514534056434|\n",
      "|         Good Harbor|Best Friends Forever|1.3177096885989426|\n",
      "|         Good Harbor|All's Fairy in Lo...|1.2892423935723114|\n",
      "|The Unschooled Wi...|The Devil's Notebook| 1.386941318154148|\n",
      "|The Unschooled Wi...|The Wanting of Le...|1.4142135623730951|\n",
      "|The Unschooled Wi...|The Aeneid for Bo...| 1.379434259042668|\n",
      "|The Unschooled Wi...|Runic Astrology: ...|1.4142135623730951|\n",
      "+--------------------+--------------------+------------------+\n",
      "only showing top 20 rows\n",
      "\n"
     ]
    },
    {
     "name": "stderr",
     "output_type": "stream",
     "text": [
      "                                                                                \r"
     ]
    }
   ],
   "source": [
    "final_df.select(\"title_A\", \"title_B\",\"distCol\").show(20)"
   ]
  },
  {
   "cell_type": "code",
   "execution_count": 26,
   "id": "d350f236-4aaa-4023-8e47-bd0e18fd0e89",
   "metadata": {
    "tags": []
   },
   "outputs": [],
   "source": [
    "from pyspark.sql.functions import col\n",
    "\n",
    "# Assuming you have the books_df and recommendation_df already loaded\n",
    "\n",
    "# Join to add image URL for title_A\n",
    "df = final_df.join(\n",
    "    books_df.select(col(\"title\").alias(\"title_A\"), col(\"image_url\").alias(\"image_url_A\")),\n",
    "    on=\"title_A\",\n",
    "    how=\"left\"\n",
    ")\n"
   ]
  },
  {
   "cell_type": "code",
   "execution_count": 27,
   "id": "e94e274e-8df6-4bf9-b958-423e4468377e",
   "metadata": {
    "tags": []
   },
   "outputs": [
    {
     "name": "stderr",
     "output_type": "stream",
     "text": [
      "23/12/21 00:12:06 WARN DAGScheduler: Broadcasting large task binary with size 10.2 MiB\n",
      "23/12/21 00:12:11 WARN DAGScheduler: Broadcasting large task binary with size 10.5 MiB\n",
      "[Stage 69:>                                                         (0 + 1) / 1]\r"
     ]
    },
    {
     "name": "stdout",
     "output_type": "stream",
     "text": [
      "+--------------------+--------------------+--------------------+------------------+\n",
      "|             title_A|         image_url_A|             title_B|           distCol|\n",
      "+--------------------+--------------------+--------------------+------------------+\n",
      "|W.C. Fields: A Li...|https://images.gr...|The Devil's Notebook| 1.414213562373095|\n",
      "|W.C. Fields: A Li...|https://images.gr...|The Aeneid for Bo...|1.4142135623730951|\n",
      "|W.C. Fields: A Li...|https://images.gr...|The Unschooled Wi...|1.4142135623730951|\n",
      "|W.C. Fields: A Li...|https://images.gr...|         Good Harbor|1.4142135623730956|\n",
      "|W.C. Fields: A Li...|https://images.gr...|Playmaker: A Veno...|1.4142135623730943|\n",
      "|W.C. Fields: A Li...|https://images.gr...|Best Friends Forever|1.4142135623730945|\n",
      "|W.C. Fields: A Li...|https://images.gr...|All's Fairy in Lo...|1.4142135623730943|\n",
      "|         Good Harbor|https://s.gr-asse...|The Devil's Notebook|1.3518357458341177|\n",
      "|         Good Harbor|https://s.gr-asse...|The Wanting of Le...|1.4142135623730956|\n",
      "|         Good Harbor|https://s.gr-asse...|The Aeneid for Bo...|1.3395741752879142|\n",
      "|         Good Harbor|https://s.gr-asse...|Runic Astrology: ...|1.4142135623730956|\n",
      "|         Good Harbor|https://s.gr-asse...|The Unschooled Wi...|1.3802195384743148|\n",
      "|         Good Harbor|https://s.gr-asse...|W.C. Fields: A Li...|1.4142135623730956|\n",
      "|         Good Harbor|https://s.gr-asse...|Playmaker: A Veno...|1.2895514534056434|\n",
      "|         Good Harbor|https://s.gr-asse...|Best Friends Forever|1.3177096885989426|\n",
      "|         Good Harbor|https://s.gr-asse...|All's Fairy in Lo...|1.2892423935723114|\n",
      "|The Unschooled Wi...|https://images.gr...|The Devil's Notebook| 1.386941318154148|\n",
      "|The Unschooled Wi...|https://images.gr...|The Wanting of Le...|1.4142135623730951|\n",
      "|The Unschooled Wi...|https://images.gr...|The Aeneid for Bo...| 1.379434259042668|\n",
      "|The Unschooled Wi...|https://images.gr...|Runic Astrology: ...|1.4142135623730951|\n",
      "+--------------------+--------------------+--------------------+------------------+\n",
      "only showing top 20 rows\n",
      "\n"
     ]
    },
    {
     "name": "stderr",
     "output_type": "stream",
     "text": [
      "                                                                                \r"
     ]
    }
   ],
   "source": [
    "df.select(\"title_A\",\"image_url_A\",\"title_B\",\"distCol\").show(20)"
   ]
  },
  {
   "cell_type": "code",
   "execution_count": null,
   "id": "80667d9b-66d0-405b-9ec5-4c0c803c371a",
   "metadata": {},
   "outputs": [],
   "source": []
  },
  {
   "cell_type": "code",
   "execution_count": 28,
   "id": "0e009d0f-065e-49bf-b26b-0d5153349e8d",
   "metadata": {
    "tags": []
   },
   "outputs": [],
   "source": [
    "final_df = df.join(\n",
    "    books_df.select(col(\"title\").alias(\"title_B\"), col(\"image_url\").alias(\"image_url_B\")),\n",
    "    on=\"title_B\",\n",
    "    how=\"left\"\n",
    ")"
   ]
  },
  {
   "cell_type": "code",
   "execution_count": 30,
   "id": "526af788-3860-4450-b738-a76cf74668f9",
   "metadata": {
    "tags": []
   },
   "outputs": [
    {
     "name": "stderr",
     "output_type": "stream",
     "text": [
      "23/12/21 00:24:14 WARN DAGScheduler: Broadcasting large task binary with size 10.2 MiB\n",
      "23/12/21 00:24:18 WARN DAGScheduler: Broadcasting large task binary with size 10.5 MiB\n",
      "[Stage 80:>                                                         (0 + 1) / 1]\r"
     ]
    },
    {
     "name": "stdout",
     "output_type": "stream",
     "text": [
      "+--------------------+--------------------+--------------------+------------------+--------------------+\n",
      "|             title_A|         image_url_A|             title_B|           distCol|         image_url_B|\n",
      "+--------------------+--------------------+--------------------+------------------+--------------------+\n",
      "|W.C. Fields: A Li...|https://images.gr...|The Devil's Notebook| 1.414213562373095|https://images.gr...|\n",
      "|W.C. Fields: A Li...|https://images.gr...|The Aeneid for Bo...|1.4142135623730951|https://s.gr-asse...|\n",
      "|W.C. Fields: A Li...|https://images.gr...|The Unschooled Wi...|1.4142135623730951|https://images.gr...|\n",
      "|W.C. Fields: A Li...|https://images.gr...|         Good Harbor|1.4142135623730956|https://s.gr-asse...|\n",
      "|W.C. Fields: A Li...|https://images.gr...|Playmaker: A Veno...|1.4142135623730943|https://images.gr...|\n",
      "|W.C. Fields: A Li...|https://images.gr...|Best Friends Forever|1.4142135623730945|https://s.gr-asse...|\n",
      "|W.C. Fields: A Li...|https://images.gr...|All's Fairy in Lo...|1.4142135623730943|https://images.gr...|\n",
      "|         Good Harbor|https://s.gr-asse...|The Devil's Notebook|1.3518357458341177|https://images.gr...|\n",
      "|         Good Harbor|https://s.gr-asse...|The Wanting of Le...|1.4142135623730956|https://s.gr-asse...|\n",
      "|         Good Harbor|https://s.gr-asse...|The Aeneid for Bo...|1.3395741752879142|https://s.gr-asse...|\n",
      "|         Good Harbor|https://s.gr-asse...|Runic Astrology: ...|1.4142135623730956|https://images.gr...|\n",
      "|         Good Harbor|https://s.gr-asse...|The Unschooled Wi...|1.3802195384743148|https://images.gr...|\n",
      "|         Good Harbor|https://s.gr-asse...|W.C. Fields: A Li...|1.4142135623730956|https://images.gr...|\n",
      "|         Good Harbor|https://s.gr-asse...|Playmaker: A Veno...|1.2895514534056434|https://images.gr...|\n",
      "|         Good Harbor|https://s.gr-asse...|Best Friends Forever|1.3177096885989426|https://s.gr-asse...|\n",
      "|         Good Harbor|https://s.gr-asse...|All's Fairy in Lo...|1.2892423935723114|https://images.gr...|\n",
      "|The Unschooled Wi...|https://images.gr...|The Devil's Notebook| 1.386941318154148|https://images.gr...|\n",
      "|The Unschooled Wi...|https://images.gr...|The Wanting of Le...|1.4142135623730951|https://s.gr-asse...|\n",
      "|The Unschooled Wi...|https://images.gr...|The Aeneid for Bo...| 1.379434259042668|https://s.gr-asse...|\n",
      "|The Unschooled Wi...|https://images.gr...|Runic Astrology: ...|1.4142135623730951|https://images.gr...|\n",
      "+--------------------+--------------------+--------------------+------------------+--------------------+\n",
      "only showing top 20 rows\n",
      "\n"
     ]
    },
    {
     "name": "stderr",
     "output_type": "stream",
     "text": [
      "                                                                                \r"
     ]
    }
   ],
   "source": [
    "final_df.select(\"title_A\",\"image_url_A\",\"title_B\",\"distCol\",\"image_url_B\").show(20)"
   ]
  },
  {
   "cell_type": "code",
   "execution_count": 31,
   "id": "07accb87-cb81-4dbf-a207-8caf1644fee5",
   "metadata": {
    "tags": []
   },
   "outputs": [
    {
     "name": "stderr",
     "output_type": "stream",
     "text": [
      "23/12/21 00:27:28 WARN DAGScheduler: Broadcasting large task binary with size 10.2 MiB\n",
      "23/12/21 00:27:32 WARN DAGScheduler: Broadcasting large task binary with size 10.5 MiB\n",
      "                                                                                \r"
     ]
    }
   ],
   "source": [
    "content = final_df.toPandas()"
   ]
  },
  {
   "cell_type": "code",
   "execution_count": 33,
   "id": "d360f995-4caa-4d85-8452-39b556b5456c",
   "metadata": {
    "tags": []
   },
   "outputs": [],
   "source": [
    "content.to_csv('content.csv')  "
   ]
  }
 ],
 "metadata": {
  "kernelspec": {
   "display_name": "Python [conda env:bigdata]",
   "language": "python",
   "name": "conda-env-bigdata-py"
  },
  "language_info": {
   "codemirror_mode": {
    "name": "ipython",
    "version": 3
   },
   "file_extension": ".py",
   "mimetype": "text/x-python",
   "name": "python",
   "nbconvert_exporter": "python",
   "pygments_lexer": "ipython3",
   "version": "3.10.12"
  }
 },
 "nbformat": 4,
 "nbformat_minor": 5
}
