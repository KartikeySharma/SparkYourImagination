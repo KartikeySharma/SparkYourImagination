{
 "cells": [
  {
   "cell_type": "code",
   "execution_count": 1,
   "id": "c0c3a68b-8f6a-4173-9c70-09551c4a5f93",
   "metadata": {},
   "outputs": [
    {
     "name": "stderr",
     "output_type": "stream",
     "text": [
      "Setting default log level to \"WARN\".\n",
      "To adjust logging level use sc.setLogLevel(newLevel). For SparkR, use setLogLevel(newLevel).\n",
      "23/12/21 17:25:27 WARN NativeCodeLoader: Unable to load native-hadoop library for your platform... using builtin-java classes where applicable\n",
      "/opt/conda/envs/bigdata/lib/python3.10/site-packages/pyspark/sql/context.py:158: FutureWarning: Deprecated in 3.0.0. Use SparkSession.builder.getOrCreate() instead.\n",
      "  warnings.warn(\n"
     ]
    }
   ],
   "source": [
    "import os\n",
    "import pyspark\n",
    "conf = pyspark.SparkConf()\n",
    "conf.set('spark.ui.proxyBase', '/user/' + os.environ['JUPYTERHUB_USER'] + '/proxy/4041') \n",
    "conf.set('spark.sql.repl.eagerEval.enabled', True)\n",
    "conf.set('spark.driver.memory','4g')\n",
    "sc = pyspark.SparkContext(conf=conf)\n",
    "spark = pyspark.SQLContext.getOrCreate(sc)"
   ]
  },
  {
   "cell_type": "code",
   "execution_count": 2,
   "id": "32b043e5-b1b1-49f2-a77c-67ce0a0af017",
   "metadata": {},
   "outputs": [
    {
     "data": {
      "text/plain": [
       "<pyspark.sql.context.SQLContext at 0x7f0adcb866e0>"
      ]
     },
     "execution_count": 2,
     "metadata": {},
     "output_type": "execute_result"
    }
   ],
   "source": [
    "spark"
   ]
  },
  {
   "cell_type": "markdown",
   "id": "78653123-8775-42d2-8ecf-51138eac098b",
   "metadata": {},
   "source": [
    "## Import the dataset"
   ]
  },
  {
   "cell_type": "code",
   "execution_count": 4,
   "id": "0e1f47a1-081c-4a1c-957b-7e6b41274d3b",
   "metadata": {},
   "outputs": [
    {
     "name": "stderr",
     "output_type": "stream",
     "text": [
      "                                                                                \r"
     ]
    }
   ],
   "source": [
    "books = spark.read.json(\"../shared/finals/swarali/goodreads_books.json\")"
   ]
  },
  {
   "cell_type": "code",
   "execution_count": 5,
   "id": "b7325c0f-499d-48c3-88c3-c5899e6f2aab",
   "metadata": {
    "tags": []
   },
   "outputs": [
    {
     "name": "stdout",
     "output_type": "stream",
     "text": [
      "root\n",
      " |-- asin: string (nullable = true)\n",
      " |-- authors: array (nullable = true)\n",
      " |    |-- element: struct (containsNull = true)\n",
      " |    |    |-- author_id: string (nullable = true)\n",
      " |    |    |-- role: string (nullable = true)\n",
      " |-- average_rating: string (nullable = true)\n",
      " |-- book_id: string (nullable = true)\n",
      " |-- country_code: string (nullable = true)\n",
      " |-- description: string (nullable = true)\n",
      " |-- edition_information: string (nullable = true)\n",
      " |-- format: string (nullable = true)\n",
      " |-- image_url: string (nullable = true)\n",
      " |-- is_ebook: string (nullable = true)\n",
      " |-- isbn: string (nullable = true)\n",
      " |-- isbn13: string (nullable = true)\n",
      " |-- kindle_asin: string (nullable = true)\n",
      " |-- language_code: string (nullable = true)\n",
      " |-- link: string (nullable = true)\n",
      " |-- num_pages: string (nullable = true)\n",
      " |-- popular_shelves: array (nullable = true)\n",
      " |    |-- element: struct (containsNull = true)\n",
      " |    |    |-- count: string (nullable = true)\n",
      " |    |    |-- name: string (nullable = true)\n",
      " |-- publication_day: string (nullable = true)\n",
      " |-- publication_month: string (nullable = true)\n",
      " |-- publication_year: string (nullable = true)\n",
      " |-- publisher: string (nullable = true)\n",
      " |-- ratings_count: string (nullable = true)\n",
      " |-- series: array (nullable = true)\n",
      " |    |-- element: string (containsNull = true)\n",
      " |-- similar_books: array (nullable = true)\n",
      " |    |-- element: string (containsNull = true)\n",
      " |-- text_reviews_count: string (nullable = true)\n",
      " |-- title: string (nullable = true)\n",
      " |-- title_without_series: string (nullable = true)\n",
      " |-- url: string (nullable = true)\n",
      " |-- work_id: string (nullable = true)\n",
      "\n"
     ]
    }
   ],
   "source": [
    "books.printSchema()"
   ]
  },
  {
   "cell_type": "markdown",
   "id": "1187d480-f08f-4e6e-a97d-91d9a4f5630b",
   "metadata": {
    "tags": []
   },
   "source": [
    "## Content Based Recommendation"
   ]
  },
  {
   "cell_type": "markdown",
   "id": "dfdc8427-fee4-4ada-9acc-f002bfdc7872",
   "metadata": {
    "tags": []
   },
   "source": [
    " ### RECOMMEND TOP 5 FOR ONE BOOK BASED ON THE DESCRIPTION SIMILARITY "
   ]
  },
  {
   "cell_type": "code",
   "execution_count": 6,
   "id": "7d0350e8-1b76-4753-9ddb-f5b687cea332",
   "metadata": {
    "tags": []
   },
   "outputs": [
    {
     "name": "stderr",
     "output_type": "stream",
     "text": [
      "23/12/21 17:54:05 WARN SparkSession: Using an existing Spark session; only runtime SQL configurations will take effect.\n",
      "                                                                                \r"
     ]
    }
   ],
   "source": [
    "from pyspark.sql import SparkSession\n",
    "from pyspark.ml.feature import Tokenizer, HashingTF, IDF, Normalizer\n",
    "from pyspark.ml.linalg import Vectors\n",
    "from pyspark.ml.feature import BucketedRandomProjectionLSH, StopWordsRemover\n",
    "from pyspark.sql.functions import col\n",
    "# Initialize Spark Session\n",
    "spark = SparkSession.builder.appName(\"ContentBasedRecommender\").getOrCreate()\n",
    "\n",
    "books_df = books.limit(1000)\n",
    "books_df  = books_df.na.drop(subset=[\"description\"])\n",
    "books_df = books_df.filter(col(\"description\").isNotNull() & (col(\"description\") != \"\"))\n",
    "# Preprocessing: Tokenize the description text\n",
    "tokenizer = Tokenizer(inputCol=\"description\", outputCol=\"words\")\n",
    "words_data = tokenizer.transform(books_df)\n",
    "\n",
    "# Optionally remove stop words\n",
    "remover = StopWordsRemover(inputCol=\"words\", outputCol=\"filtered_words\")\n",
    "filtered_df = remover.transform(words_data)\n",
    "\n",
    "# Feature Extraction: Apply HashingTF and IDF\n",
    "hashing_tf = HashingTF(inputCol=\"words\", outputCol=\"raw_features\")\n",
    "featurized_data = hashing_tf.transform(filtered_df)\n",
    "idf = IDF(inputCol=\"raw_features\", outputCol=\"idf_features\")\n",
    "idf_model = idf.fit(featurized_data)\n",
    "tfidf_data = idf_model.transform(featurized_data)\n",
    "\n",
    "# Normalize the features\n",
    "normalizer = Normalizer(inputCol=\"idf_features\", outputCol=\"features\")\n",
    "normalized_data = normalizer.transform(tfidf_data)\n",
    "\n",
    "# Approximate Similarity Join\n",
    "brp = BucketedRandomProjectionLSH(inputCol=\"features\", outputCol=\"hashes\", bucketLength=2.0, numHashTables=3)\n",
    "model = brp.fit(normalized_data)\n",
    "hashed_df = model.transform(normalized_data)\n"
   ]
  },
  {
   "cell_type": "code",
   "execution_count": 8,
   "id": "cdaf6122-ac1e-4b85-a768-efdb4a05bacb",
   "metadata": {
    "tags": []
   },
   "outputs": [
    {
     "name": "stderr",
     "output_type": "stream",
     "text": [
      "23/12/21 11:09:42 WARN SparkStringUtils: Truncated the string representation of a plan since it was too large. This behavior can be adjusted by setting 'spark.sql.debug.maxToStringFields'.\n",
      "23/12/21 11:24:46 WARN DAGScheduler: Broadcasting large task binary with size 10.7 MiB\n",
      "[Stage 7:>                                                          (0 + 1) / 1]\r"
     ]
    },
    {
     "name": "stdout",
     "output_type": "stream",
     "text": [
      "+--------+------------------+\n",
      "| book_id| EuclideanDistance|\n",
      "+--------+------------------+\n",
      "|23848481|1.3151596017023932|\n",
      "|30074967|1.3154304733485993|\n",
      "|33036180| 1.319748119745085|\n",
      "| 1296784|1.3239779300070345|\n",
      "|15703099|1.3257883986798034|\n",
      "+--------+------------------+\n",
      "\n"
     ]
    },
    {
     "name": "stderr",
     "output_type": "stream",
     "text": [
      "                                                                                \r"
     ]
    }
   ],
   "source": [
    "#recommend for one book \n",
    "\n",
    "def recommend_books(book_id, top_n):\n",
    "    # Filter for the given book_id\n",
    "    query_df = hashed_df.filter(hashed_df.book_id == book_id)\n",
    "\n",
    "    # Compute the approx similarity join\n",
    "    similar_books = model.approxSimilarityJoin(query_df, hashed_df, threshold=1.5, distCol=\"EuclideanDistance\")\n",
    "\n",
    "    # Select the books and their distances\n",
    "    similar_books_df = similar_books.select(col(\"datasetB.book_id\").alias(\"book_id\"), col(\"EuclideanDistance\"))\n",
    "    \n",
    "    # Filter out the query book and limit to top N\n",
    "    similar_books_df = similar_books_df.filter(similar_books_df.book_id != book_id).orderBy(\"EuclideanDistance\").limit(top_n)\n",
    "\n",
    "    return similar_books_df\n",
    "\n",
    "# Example usage\n",
    "specific_book_id = 1333909  # Replace with an actual book_id\n",
    "recommended_books = recommend_books(specific_book_id, 5)\n",
    "\n",
    "recommended_books.show()"
   ]
  },
  {
   "cell_type": "code",
   "execution_count": 9,
   "id": "970dd844-abcc-4ea6-ac21-5c79a8eed682",
   "metadata": {
    "tags": []
   },
   "outputs": [],
   "source": [
    "final_recommendations = recommended_books.join(books, \"book_id\")"
   ]
  },
  {
   "cell_type": "code",
   "execution_count": 12,
   "id": "3448f8aa-5d59-4390-bd6c-4f9ca0a2c3a6",
   "metadata": {
    "tags": []
   },
   "outputs": [
    {
     "name": "stderr",
     "output_type": "stream",
     "text": [
      "[Stage 25:======================================================> (43 + 1) / 44]\r"
     ]
    },
    {
     "name": "stdout",
     "output_type": "stream",
     "text": [
      "+-------+-----------+----------------------------------------------------------------------------------------------------------------------------------------------------------------------------------------------------------------------------------------------------------------------------------------------------------------------------------------------------------------------------------------------------------------------------------------------------------------------------------------------------------------------------------------------------------------------------------------------------------------------------------------------------------------------------------------------------------------------------------------------------------------------------------------------------------------------------------------------------------------------------------------------------------------------------------------------------------------------------------------------------------------------------------------------------------------------------------------------------------------------------------------------------------------------------------------------------------------------------------------------------------------------------------------------------------------------------------------------------------------------------------------------------------------------+\n",
      "|book_id|title      |description                                                                                                                                                                                                                                                                                                                                                                                                                                                                                                                                                                                                                                                                                                                                                                                                                                                                                                                                                                                                                                                                                                                                                                                                                                                                                                                                                                                                           |\n",
      "+-------+-----------+----------------------------------------------------------------------------------------------------------------------------------------------------------------------------------------------------------------------------------------------------------------------------------------------------------------------------------------------------------------------------------------------------------------------------------------------------------------------------------------------------------------------------------------------------------------------------------------------------------------------------------------------------------------------------------------------------------------------------------------------------------------------------------------------------------------------------------------------------------------------------------------------------------------------------------------------------------------------------------------------------------------------------------------------------------------------------------------------------------------------------------------------------------------------------------------------------------------------------------------------------------------------------------------------------------------------------------------------------------------------------------------------------------------------+\n",
      "|1333909|Good Harbor|Anita Diamant's international bestseller \"The Red Tent\" brilliantly re-created the ancient world of womanhood. Diamant brings her remarkable storytelling skills to \"Good Harbor\" -- offering insight to the precarious balance of marriage and career, motherhood and friendship in the world of modern women. The seaside town of Gloucester, Massachusetts is a place where the smell of the ocean lingers in the air and the rocky coast glistens in the Atlantic sunshine. When longtime Gloucester-resident Kathleen Levine is diagnosed with breast cancer, her life is thrown into turmoil. Frightened and burdened by secrets, she meets Joyce Tabachnik -- a freelance writer with literary aspirations -- and a once-in-a-lifetime friendship is born. Joyce has just bought a small house in Gloucester, where she hopes to write as well as vacation with her family. Like Kathleen, Joyce is at a fragile place in her life.\\nA mutual love for books, humor, and the beauty of the natural world brings the two women together. They share their personal histories, and help each other to confront scars left by old emotional wounds.\\nWith her own trademark wisdom and humor, Diamant considers the nature, strength, and necessity of adult female friendship. \"Good Harbor\" examines the tragedy of loss, the insidious nature of family secrets, as well as the redemptive power of friendship.|\n",
      "+-------+-----------+----------------------------------------------------------------------------------------------------------------------------------------------------------------------------------------------------------------------------------------------------------------------------------------------------------------------------------------------------------------------------------------------------------------------------------------------------------------------------------------------------------------------------------------------------------------------------------------------------------------------------------------------------------------------------------------------------------------------------------------------------------------------------------------------------------------------------------------------------------------------------------------------------------------------------------------------------------------------------------------------------------------------------------------------------------------------------------------------------------------------------------------------------------------------------------------------------------------------------------------------------------------------------------------------------------------------------------------------------------------------------------------------------------------------+\n",
      "\n"
     ]
    },
    {
     "name": "stderr",
     "output_type": "stream",
     "text": [
      "                                                                                \r"
     ]
    }
   ],
   "source": [
    "# Selected Book features\n",
    "books.filter(col('book_id')==specific_book_id).select(\"book_id\",\"title\", \"description\").show(truncate = False)"
   ]
  },
  {
   "cell_type": "code",
   "execution_count": 11,
   "id": "a75d71cf-8527-46d4-99aa-acaf5f210808",
   "metadata": {
    "tags": []
   },
   "outputs": [
    {
     "name": "stderr",
     "output_type": "stream",
     "text": [
      "23/12/21 12:01:38 WARN DAGScheduler: Broadcasting large task binary with size 10.7 MiB\n",
      "[Stage 21:======================================================> (43 + 1) / 44]\r"
     ]
    },
    {
     "name": "stdout",
     "output_type": "stream",
     "text": [
      "+--------+------------------+-----------------------------------------------------------------------+------------------------------------------------------------------------------------------------------------------------------------------------------------------------------------------------------------------------------------------------------------------------------------------------------------------------------------------------------------------------------------------------------------------------------------------------------------------------------------------------------------------------------------------------------------------------------------------------------------------------------------------------------------------------------------------------------------------------------------------------------------------------------------------------------------------------------------------------------------------------------------------------------------------------------------------------------------------------------------------------------------------------------------------------------------------------------------------------------------------------------------------------------------------------------------------------------------------------------------------------------------------------------------------------------------------------------------------------------------------------------------------------------------------------------------------------------------------------------------------------------------------------------------------------------------------------------------------------------------------------------------------------------------------------------------------------------------------------------------------------------------------------------------------------------------------------------------------------------------------------------------------------------------------------------------------------------------------------------------------------------------------------------------------------------------------------------------------------------------------------------------------------------------------------------------------------------------------------------------------------------------------------------------------------------------------------------------------------------------------------------------------------------------+\n",
      "|book_id |EuclideanDistance |title                                                                  |description                                                                                                                                                                                                                                                                                                                                                                                                                                                                                                                                                                                                                                                                                                                                                                                                                                                                                                                                                                                                                                                                                                                                                                                                                                                                                                                                                                                                                                                                                                                                                                                                                                                                                                                                                                                                                                                                                                                                                                                                                                                                                                                                                                                                                                                                                                                                                                                                 |\n",
      "+--------+------------------+-----------------------------------------------------------------------+------------------------------------------------------------------------------------------------------------------------------------------------------------------------------------------------------------------------------------------------------------------------------------------------------------------------------------------------------------------------------------------------------------------------------------------------------------------------------------------------------------------------------------------------------------------------------------------------------------------------------------------------------------------------------------------------------------------------------------------------------------------------------------------------------------------------------------------------------------------------------------------------------------------------------------------------------------------------------------------------------------------------------------------------------------------------------------------------------------------------------------------------------------------------------------------------------------------------------------------------------------------------------------------------------------------------------------------------------------------------------------------------------------------------------------------------------------------------------------------------------------------------------------------------------------------------------------------------------------------------------------------------------------------------------------------------------------------------------------------------------------------------------------------------------------------------------------------------------------------------------------------------------------------------------------------------------------------------------------------------------------------------------------------------------------------------------------------------------------------------------------------------------------------------------------------------------------------------------------------------------------------------------------------------------------------------------------------------------------------------------------------------------------+\n",
      "|33036180|1.319748119745085 |The Best of Us                                                         |In 2011, when she was in her late fifties, beloved author and journalist Joyce Maynard met the first true partner she had ever known. Jim wore a rakish hat over a good head of hair; he asked real questions and gave real answers; he loved to see Joyce shine, both in and out of the spotlight; and he didn't mind the mess she made in the kitchen. He was not the husband Joyce imagined, but he quickly became the partner she had always dreamed of.\\nBefore they met, both had believed they were done with marriage, and even after they married, Joyce resolved that no one could alter her course of determined independence. Then, just after their one-year wedding anniversary, her new husband was diagnosed with pancreatic cancer. During the nineteen months that followed, as they battled his illness together, she discovered for the first time what it really meant to be a couple--to be a true partner and to have one.\\nThis is their story. Charting the course through their whirlwind romance, a marriage cut short by tragedy, and Joyce's return to singleness on new terms, The Best of Usis a heart-wrenching, ultimately life-affirming reflection on coming to understand true love through the experience of great loss.                                                                                                                                                                                                                                                                                                                                                                                                                                                                                                                                                                                                                                                                                                                                                                                                                                                                                                                                                                                                                                                                                                                                               |\n",
      "|30074967|1.3154304733485993|The Playboy Prince (The Piacere Princes #1)                            |Prince Salvadore Piacere is not only okay with his status as the \"spare\" royal - he revels in it. Salvy is more than happy to let his older brother Niccolo deal with the duties of the crown while he uses his position to burn through the finer things in life...especially women.\\nAfter one too many \"I'm carrying the royal baby\" scandals and one particularly wild night in Vegas, King Alfonso has had enough. He gives Salvy an ultimatum - either get serious and settle down, or join the church.\\nSalvy has no intention of spending his life in celibacy, but neither does marriage hold much appeal. To counter the king's ridiculous threat, he comes up with a silly idea of his own: he's going to hold a ball to pick out his future bride.\\nBy the time the king learns of his younger son's plans, the invitations have been sent and there's no backing out. But there are two things Salvy didn't count on, though--his scheming cousin Luca and Magdalena Rossi.\\nThe former is angry over his lost birthright, and determined to be King of Cielo no matter what the cost. The second, is the royal tailor's daughter. And while she has confidence in her ability to fit Prince Salvy with the perfect suit, she never dreamed she herself would be the perfect fit for his playboy soul.                                                                                                                                                                                                                                                                                                                                                                                                                                                                                                                                                                                                                                                                                                                                                                                                                                                                                                                                                                                                                                                                                         |\n",
      "|23848481|1.3151596017023932|Breaking in: The Rise of Sonia Sotomayor and the Politics of Justice   |\"I knew she'd be trouble.\"\\nSo quipped Antonin Scalia about Sonia Sotomayor at the Supreme Court's annual end-of-term party in 2010. It's usually the sort of event one would expect from such a grand institution, with gentle parodies of the justices performed by their law clerks, but this year Sotomayor decided to shake it up--flooding the room with salsa music and coaxing her fellow justices to dance.\\nIt was little surprise in 2009 that President Barack Obama nominated a Hispanic judge to replace the retiring justice David Souter. The fact that there had never been a nominee to the nation's highest court from the nation's fastest growing minority had long been apparent. So the time was ripe--but how did it come to be Sonia Sotomayor?\\nIn Breaking In: The Rise of Sonia Sotomayor and the Politics of Justice, the veteran journalist Joan Biskupic answers that question. This is the story of how two forces providentially merged--the large ambitions of a talented Puerto Rican girl raised in the projects in the Bronx and the increasing political presence of Hispanics, from California to Texas, from Florida to the Northeast--resulting in a historical appointment. And this is not just a tale about breaking barriers as a Puerto Rican. It's about breaking barriers as a justice.\\nBiskupic, the author of highly praised judicial biographies of Justice Antonin Scalia and Justice Sandra Day O'Connor, now pulls back the curtain on the Supreme Court nomination process, revealing the networks Sotomayor built and the skills she cultivated to go where no Hispanic has gone before. We see other potential candidates edged out along the way. And we see how, in challenging tradition and expanding our idea of a justice (as well as expanding her public persona), Sotomayor has created tension within and without the court's marble halls.\\nAs a Supreme Court justice, Sotomayor has shared her personal story to an unprecedented degree. And that story--of a Latina who emerged from tough times in the projects not only to prevail but also to rise to the top--has even become fabric for some of her most passionate comments on matters before the Court. But there is yet more to know about the rise of Sonia Sotomayor. Breaking Inoffers the larger, untold story of the woman who has been called \"the people's justice.\"|\n",
      "|1296784 |1.3239779300070345|Winters' Tales: Stories and Observations for the Unusual               |The most original and influential comic mind of our generation gives us a rollicking tour of his expansive imagination. Alongside the hilarity are intimate, revealing, and poignant recollections of childhood's pains and lost love, as well as remarkable illustrations from Winters' accomplished, surreal pen.\\nContents: Unusual stories: Artist -- I miss dancing with you -- Stolen flowers -- Wedding --Hijacker -- Well-kept secret -- Roll in the hay -- Conductor -- Black tie -- King who had to be Queen too -- Face-lift -- Table for two -- Niagara Falls -- Halloween -- Snowman --Old Indian buries an old friend -- Postcard -- My hometown is gone-I mean gone -- Money preacher -- Black lunch box -- Cardboard man -- Fisherman -- Lost valley of the Gods -- Marathon runner -- Campers -- Animal tales: Visitor -- Thanksgiving -- Last day the circus came to town -- My bird doesn't sing anymore -- Did anyone see my doggie? -- Ode to a baby robin -- Ode to a sea gull -- Little bear who didn't know who he was -- Easter bunny -- Bird that couldn't fly -- Stung -- My last flight south -- Faces -- Children's voices: Blinding windstorm -- What do you want to be when you grow up? -- Mirage -- I was behind the couch all the time -- Dr. John Wookey to surgery -- How much money did you make today, little man? -- Little boy's Christmas list -- Baby-sitter and why they're weird or turn weird -- Costume -- What are you frightened of, Johnny? -- Of men and war: Blue Hill massacre -- Rebels -- I want to be a soldier -- Ivy-covered castle -- I stand alone -- Observations: We're going out for two whole days -- What it must've been like -- War paint -- Shadows -- My hobby -- Summer -- My definition of love.                                                                                                                                                                                                                                                                                                                                                                                                                                                                                                                                                                                                                                      |\n",
      "|15703099|1.3257883986798034|Literary England: photos of places made memorable in English literature|Photographs by David E. Scherman and descriptive text by Richard Wilcox.\\nThis book is the development of a picture essay on literary England that appeared in Life magazine of June 14, 1943.\\nThe sense of place / Christopher Morley --\\nThe castle at Tintagel --\\nWinchester --\\nThe Blood Spring, Glastonbury --\\nDozmary Pool --\\nThe Abbey at Glastonbury --\\nThe Isle of Athelney --\\nThe Malvern Hills --\\nCanterbury Cathedral --\\nBerry Pomeroy Castle --\\nSwans on the Thames --\\nThe English coast --\\nLovers in Warwickshire --\\nGreenway House --\\nThe Itchen River --\\nA hill at Horton --\\nSt. Clement Danes, in the Strand --\\nBattle Abbey --\\nBurrington Gorge --\\nStoke Poges Churchyard --\\nFleet Street --\\nThe pass at Kirkstone --\\nDaffodils at Ullswater --\\nKeats Grove --\\nAn oak in Sherwood Forest --\\nThe Royal Pavilion at Brighton --\\nDickens' house --\\nThe assembly rooms at Bath --\\nA London shop --\\nBath --\\nNaworth Castle --\\nClun Castle --\\nTop Withens --\\nAn English elm --\\nWimpole Street --\\nA brook in Lincolnshire --\\nWells Cathedral --\\nThe mill at Tewkesbury --\\nDoone Valley --\\nStonehenge --\\nDartmoor --\\nThe Thames near Oxford --\\nReading Gaol --\\nClunbury Village --\\nLudlow Castle --\\nHadrian's Wall --\\nRunnymede --\\nPlymouth Hoe --\\nThe Spaniards --\\nPiccadilly Circus --\\nThe Thirty-nine Steps.\\nThere are 50 literary snipets and descriptive text from English literature compiled by Richard Wilcox. Each of these descriptions is followed by a photograph taken by David E. Scherman of the place made memorable in English Literature.                                                                                                                                                                                                                                                                                                                                                                                                                                                                                                                                                                                                                                                                                                                                                                                    |\n",
      "+--------+------------------+-----------------------------------------------------------------------+------------------------------------------------------------------------------------------------------------------------------------------------------------------------------------------------------------------------------------------------------------------------------------------------------------------------------------------------------------------------------------------------------------------------------------------------------------------------------------------------------------------------------------------------------------------------------------------------------------------------------------------------------------------------------------------------------------------------------------------------------------------------------------------------------------------------------------------------------------------------------------------------------------------------------------------------------------------------------------------------------------------------------------------------------------------------------------------------------------------------------------------------------------------------------------------------------------------------------------------------------------------------------------------------------------------------------------------------------------------------------------------------------------------------------------------------------------------------------------------------------------------------------------------------------------------------------------------------------------------------------------------------------------------------------------------------------------------------------------------------------------------------------------------------------------------------------------------------------------------------------------------------------------------------------------------------------------------------------------------------------------------------------------------------------------------------------------------------------------------------------------------------------------------------------------------------------------------------------------------------------------------------------------------------------------------------------------------------------------------------------------------------------------+\n",
      "\n"
     ]
    },
    {
     "name": "stderr",
     "output_type": "stream",
     "text": [
      "                                                                                \r"
     ]
    }
   ],
   "source": [
    "# The TOP 5 recommedation for the above book\n",
    "final_recommendations.select(\"book_id\", \"EuclideanDistance\", \"title\", \"description\").show(truncate = False)"
   ]
  },
  {
   "cell_type": "markdown",
   "id": "6bbe4797-f7d1-4319-968d-74cf6f927adc",
   "metadata": {},
   "source": [
    "## Top 5 Recommendations for each book "
   ]
  },
  {
   "cell_type": "code",
   "execution_count": 7,
   "id": "8e5d97af-6ae9-462f-afd6-46f1d621948c",
   "metadata": {
    "tags": []
   },
   "outputs": [
    {
     "name": "stderr",
     "output_type": "stream",
     "text": [
      "23/12/21 18:08:35 WARN SparkStringUtils: Truncated the string representation of a plan since it was too large. This behavior can be adjusted by setting 'spark.sql.debug.maxToStringFields'.\n"
     ]
    }
   ],
   "source": [
    "from pyspark.sql.functions import col, rank\n",
    "from pyspark.sql.window import Window\n",
    "\n",
    "def get_top_5_recommendations_for_all_books(df, model):\n",
    "    # Perform the approx similarity join for the whole dataset\n",
    "    similar_books_df = model.approxSimilarityJoin(df, df, threshold=float(\"inf\"), distCol=\"EuclideanDistance\") \\\n",
    "                            .filter(\"datasetA.book_id != datasetB.book_id\")  # Exclude same book comparisons\n",
    "\n",
    "\n",
    "    similar_books_df = similar_books_df.select(\n",
    "        col(\"datasetA.book_id\").alias(\"book_id\"),\n",
    "        col(\"datasetB.book_id\").alias(\"similar_book_id\"),\n",
    "        col(\"EuclideanDistance\")\n",
    "    )\n",
    "\n",
    "    # Add a rank column based on EuclideanDistance for each book\n",
    "    windowSpec = Window.partitionBy(\"book_id\").orderBy(\"EuclideanDistance\")\n",
    "    similar_books_df = similar_books_df.withColumn(\"rank\", rank().over(windowSpec))\n",
    "\n",
    "    # Filter to keep only top 5 similar books for each book\n",
    "    top_5_similar_books_df = similar_books_df.filter(col(\"rank\") <= 5)\n",
    "\n",
    "    return top_5_similar_books_df\n",
    "\n",
    "# Apply the function to get top 5 recommendations for all books\n",
    "top_5_recommendations_for_all_books = get_top_5_recommendations_for_all_books(hashed_df, model)\n"
   ]
  },
  {
   "cell_type": "code",
   "execution_count": 8,
   "id": "3d7a1794-9f38-4372-9802-ae3a2f25f439",
   "metadata": {},
   "outputs": [
    {
     "name": "stderr",
     "output_type": "stream",
     "text": [
      "23/12/21 18:09:01 WARN DAGScheduler: Broadcasting large task binary with size 10.2 MiB\n",
      "23/12/21 18:09:07 WARN DAGScheduler: Broadcasting large task binary with size 10.5 MiB\n",
      "[Stage 8:>                                                          (0 + 1) / 1]\r"
     ]
    },
    {
     "name": "stdout",
     "output_type": "stream",
     "text": [
      "+--------+---------------+------------------+----+\n",
      "| book_id|similar_book_id| EuclideanDistance|rank|\n",
      "+--------+---------------+------------------+----+\n",
      "|10023577|       34329805|1.3256045108203376|   1|\n",
      "+--------+---------------+------------------+----+\n",
      "only showing top 1 row\n",
      "\n"
     ]
    },
    {
     "name": "stderr",
     "output_type": "stream",
     "text": [
      "                                                                                \r"
     ]
    }
   ],
   "source": [
    "top_5_recommendations_for_all_books.show(1)"
   ]
  },
  {
   "cell_type": "code",
   "execution_count": 9,
   "id": "2fa0b509-dff3-415c-8495-bc62e477a6f4",
   "metadata": {},
   "outputs": [
    {
     "name": "stdout",
     "output_type": "stream",
     "text": [
      "root\n",
      " |-- book_id: string (nullable = true)\n",
      " |-- similar_book_id: string (nullable = true)\n",
      " |-- EuclideanDistance: double (nullable = false)\n",
      " |-- rank: integer (nullable = false)\n",
      "\n"
     ]
    }
   ],
   "source": [
    "top_5_recommendations_for_all_books.printSchema()"
   ]
  },
  {
   "cell_type": "code",
   "execution_count": 10,
   "id": "4efa922f-5da6-4387-95ef-12fbd8a2b371",
   "metadata": {
    "tags": []
   },
   "outputs": [
    {
     "name": "stderr",
     "output_type": "stream",
     "text": [
      "23/12/21 18:47:42 WARN DAGScheduler: Broadcasting large task binary with size 10.2 MiB\n",
      "23/12/21 18:47:46 WARN DAGScheduler: Broadcasting large task binary with size 10.5 MiB\n",
      "[Stage 13:>                                                         (0 + 1) / 1]\r"
     ]
    },
    {
     "name": "stdout",
     "output_type": "stream",
     "text": [
      "+--------+---------------+------------------+----+\n",
      "| book_id|similar_book_id| EuclideanDistance|rank|\n",
      "+--------+---------------+------------------+----+\n",
      "|10023577|       34329805|1.3256045108203376|   1|\n",
      "|10023577|        8425260|1.3414617648388751|   2|\n",
      "|10023577|       18908446|1.3452460738930614|   3|\n",
      "|10023577|        6016342| 1.348880884473729|   4|\n",
      "|10023577|        1561754| 1.349105060338483|   5|\n",
      "| 1006140|       33786215|1.3394681823297632|   1|\n",
      "| 1006140|       20650677|1.3476468291990702|   2|\n",
      "| 1006140|       18074816|1.3534619469078597|   3|\n",
      "| 1006140|       27859395| 1.358630712478788|   4|\n",
      "| 1006140|        2650331| 1.361774695294668|   5|\n",
      "+--------+---------------+------------------+----+\n",
      "only showing top 10 rows\n",
      "\n"
     ]
    },
    {
     "name": "stderr",
     "output_type": "stream",
     "text": [
      "                                                                                \r"
     ]
    }
   ],
   "source": [
    "top_5_recommendations_for_all_books.show(10)"
   ]
  },
  {
   "cell_type": "code",
   "execution_count": 11,
   "id": "bfda68fd-8662-4348-ae55-1d489a68dad2",
   "metadata": {
    "tags": []
   },
   "outputs": [
    {
     "name": "stderr",
     "output_type": "stream",
     "text": [
      "23/12/21 19:02:38 WARN DAGScheduler: Broadcasting large task binary with size 10.2 MiB\n",
      "23/12/21 19:04:18 WARN DAGScheduler: Broadcasting large task binary with size 10.5 MiB\n",
      "                                                                                \r"
     ]
    },
    {
     "name": "stdout",
     "output_type": "stream",
     "text": [
      "+---------+------------------------------------------------------------------------------------------+----------------------------------------------------------------------------------------+---------------------------------------------------------------------+----------------------------------------------------------------------------------------+------------------+\n",
      "|book_id_A|title_A                                                                                   |image_url_A                                                                             |title_B                                                              |image_url_B                                                                             |distCol           |\n",
      "+---------+------------------------------------------------------------------------------------------+----------------------------------------------------------------------------------------+---------------------------------------------------------------------+----------------------------------------------------------------------------------------+------------------+\n",
      "|18283092 |End-Time Gangster                                                                         |https://images.gr-assets.com/books/1375633071m/18283092.jpg                             |A Kitty in the Lion's Den (Sweet Water, #3)                          |https://s.gr-assets.com/assets/nophoto/book/111x148-bcc042a9c91a29c1d680899eff700a03.png|1.3609670296636431|\n",
      "|1517589  |یاران حلقه (The Lord of the Rings, #1)                                                    |https://s.gr-assets.com/assets/nophoto/book/111x148-bcc042a9c91a29c1d680899eff700a03.png|Štyri hostiny                                                        |https://images.gr-assets.com/books/1358889631m/17279616.jpg                             |1.3620700472447664|\n",
      "|891448   |نام‌ها و نشانه‌ها در دستور زبان فارسی                                                     |https://s.gr-assets.com/assets/nophoto/book/111x148-bcc042a9c91a29c1d680899eff700a03.png|Štyri hostiny                                                        |https://images.gr-assets.com/books/1358889631m/17279616.jpg                             |1.3669093063925415|\n",
      "|15837688 |Czaropis Tom II (Czaropis, #2)                                                            |https://images.gr-assets.com/books/1345458407m/15837688.jpg                             |Štyri hostiny                                                        |https://images.gr-assets.com/books/1358889631m/17279616.jpg                             |1.319473142136981 |\n",
      "|21243290 |قلة المال أصل من أصول البلاء                                                              |https://images.gr-assets.com/books/1394121165m/21243290.jpg                             |Štyri hostiny                                                        |https://images.gr-assets.com/books/1358889631m/17279616.jpg                             |1.3801274989224304|\n",
      "|89583    |Six Moon Dance                                                                            |https://s.gr-assets.com/assets/nophoto/book/111x148-bcc042a9c91a29c1d680899eff700a03.png|Naoki Urasawa's 20th Century Boys, Volume 19 (20th Century Boys, #19)|https://s.gr-assets.com/assets/nophoto/book/111x148-bcc042a9c91a29c1d680899eff700a03.png|1.3722230851127717|\n",
      "|17320317 |The Gingrich Senators: The Roots of Partisan Warfare in Congress                          |https://images.gr-assets.com/books/1361148725m/17320317.jpg                             |Naoki Urasawa's 20th Century Boys, Volume 19 (20th Century Boys, #19)|https://s.gr-assets.com/assets/nophoto/book/111x148-bcc042a9c91a29c1d680899eff700a03.png|1.3798473155568443|\n",
      "|20613512 |Einstein the Class Hamster and the Very Real Game Show (Einstein the Class Hamster Series)|https://images.gr-assets.com/books/1403430903m/20613512.jpg                             |Naoki Urasawa's 20th Century Boys, Volume 19 (20th Century Boys, #19)|https://s.gr-assets.com/assets/nophoto/book/111x148-bcc042a9c91a29c1d680899eff700a03.png|1.351031584354659 |\n",
      "|591284   |The Blood of Strangers: Stories from Emergency Medicine                                   |https://images.gr-assets.com/books/1312029932m/591284.jpg                               |Naoki Urasawa's 20th Century Boys, Volume 19 (20th Century Boys, #19)|https://s.gr-assets.com/assets/nophoto/book/111x148-bcc042a9c91a29c1d680899eff700a03.png|1.3666167869039334|\n",
      "|17871524 |Beacon of Love (Hometown Heroes, #1)                                                      |https://images.gr-assets.com/books/1384021533m/17871524.jpg                             |Naoki Urasawa's 20th Century Boys, Volume 19 (20th Century Boys, #19)|https://s.gr-assets.com/assets/nophoto/book/111x148-bcc042a9c91a29c1d680899eff700a03.png|1.3683959779938657|\n",
      "|12349665 |Naoki Urasawa's 20th Century Boys, Volume 20 (20th Century Boys, #20)                     |https://images.gr-assets.com/books/1344390009m/12349665.jpg                             |Naoki Urasawa's 20th Century Boys, Volume 19 (20th Century Boys, #19)|https://s.gr-assets.com/assets/nophoto/book/111x148-bcc042a9c91a29c1d680899eff700a03.png|0.8469370719942105|\n",
      "|17368265 |White Fire (Pendergast, #13)                                                              |https://images.gr-assets.com/books/1385408417m/17368265.jpg                             |Naoki Urasawa's 20th Century Boys, Volume 19 (20th Century Boys, #19)|https://s.gr-assets.com/assets/nophoto/book/111x148-bcc042a9c91a29c1d680899eff700a03.png|1.3730265396880657|\n",
      "|22061330 |Pleasure Extraordinaire 4 (Pursuit, #7)                                                   |https://s.gr-assets.com/assets/nophoto/book/111x148-bcc042a9c91a29c1d680899eff700a03.png|Naoki Urasawa's 20th Century Boys, Volume 19 (20th Century Boys, #19)|https://s.gr-assets.com/assets/nophoto/book/111x148-bcc042a9c91a29c1d680899eff700a03.png|1.34663359728013  |\n",
      "|3209319  |To Have and Have Not                                                                      |https://s.gr-assets.com/assets/nophoto/book/111x148-bcc042a9c91a29c1d680899eff700a03.png|Naoki Urasawa's 20th Century Boys, Volume 19 (20th Century Boys, #19)|https://s.gr-assets.com/assets/nophoto/book/111x148-bcc042a9c91a29c1d680899eff700a03.png|1.3751308936706506|\n",
      "|891444   |Troublemakers                                                                             |https://images.gr-assets.com/books/1356132703m/891444.jpg                               |Naoki Urasawa's 20th Century Boys, Volume 19 (20th Century Boys, #19)|https://s.gr-assets.com/assets/nophoto/book/111x148-bcc042a9c91a29c1d680899eff700a03.png|1.364151167331947 |\n",
      "|12446890 |Mama Me Quiere Bien Malo (Nerds #2)                                                       |https://s.gr-assets.com/assets/nophoto/book/111x148-bcc042a9c91a29c1d680899eff700a03.png|The Pity Party: 8th Grade in the Life of Me, Cass                    |https://images.gr-assets.com/books/1328866639m/1403505.jpg                              |1.3779189527776246|\n",
      "|31675216 |Du sollst nicht lügen: Aldridge-Schwestern-Krimi 2                                        |https://s.gr-assets.com/assets/nophoto/book/111x148-bcc042a9c91a29c1d680899eff700a03.png|Das Schlimmste kommt noch oder Fast eine Jugend                      |https://images.gr-assets.com/books/1333397300m/1626346.jpg                              |1.265076206325244 |\n",
      "|25823101 |Siebentürmeviertel                                                                        |https://images.gr-assets.com/books/1435652639m/25823101.jpg                             |Das Schlimmste kommt noch oder Fast eine Jugend                      |https://images.gr-assets.com/books/1333397300m/1626346.jpg                              |1.1752540679947723|\n",
      "|6611793  |Die Abenteuer des braven Soldaten Schwejk                                                 |https://images.gr-assets.com/books/1329129381m/6611793.jpg                              |Das Schlimmste kommt noch oder Fast eine Jugend                      |https://images.gr-assets.com/books/1333397300m/1626346.jpg                              |1.2452100150396084|\n",
      "|17337053 |Koordinater                                                                               |https://images.gr-assets.com/books/1360157584m/17337053.jpg                             |Das Schlimmste kommt noch oder Fast eine Jugend                      |https://images.gr-assets.com/books/1333397300m/1626346.jpg                              |1.339469612338916 |\n",
      "+---------+------------------------------------------------------------------------------------------+----------------------------------------------------------------------------------------+---------------------------------------------------------------------+----------------------------------------------------------------------------------------+------------------+\n",
      "only showing top 20 rows\n",
      "\n"
     ]
    }
   ],
   "source": [
    "\n",
    "from pyspark.sql.functions import col\n",
    "\n",
    "# Join to add titles and image URLs for the primary book (book_id_A)\n",
    "recommendations_with_details = top_5_recommendations_for_all_books.alias(\"recs\").join(\n",
    "    books.alias(\"books\"),\n",
    "    col(\"recs.book_id\") == col(\"books.book_id\")\n",
    ").select(\n",
    "    col(\"recs.book_id\").alias(\"book_id_A\"),\n",
    "    col(\"books.title\").alias(\"title_A\"),\n",
    "    col(\"books.image_url\").alias(\"image_url_A\"),\n",
    "    col(\"recs.similar_book_id\"),\n",
    "    col(\"recs.EuclideanDistance\")\n",
    ")\n",
    "\n",
    "# Join to add titles and image URLs for the similar book (book_id_B)\n",
    "final_recommendations = recommendations_with_details.alias(\"recs\").join(\n",
    "    books.alias(\"books\"),\n",
    "    col(\"recs.similar_book_id\") == col(\"books.book_id\")\n",
    ").select(\n",
    "    col(\"recs.book_id_A\"),\n",
    "    col(\"recs.title_A\"),\n",
    "    col(\"recs.image_url_A\"),\n",
    "    col(\"books.title\").alias(\"title_B\"),\n",
    "    col(\"books.image_url\").alias(\"image_url_B\"),\n",
    "    col(\"recs.EuclideanDistance\").alias(\"distCol\")\n",
    ")\n",
    "\n",
    "# Show the final DataFrame\n",
    "final_recommendations.show(truncate=False)\n"
   ]
  },
  {
   "cell_type": "code",
   "execution_count": 12,
   "id": "46269ee6-29a6-42bd-9b37-2bf47f87ea30",
   "metadata": {
    "tags": []
   },
   "outputs": [
    {
     "name": "stderr",
     "output_type": "stream",
     "text": [
      "23/12/21 19:11:09 WARN DAGScheduler: Broadcasting large task binary with size 10.2 MiB\n",
      "23/12/21 19:12:49 WARN DAGScheduler: Broadcasting large task binary with size 10.5 MiB\n",
      "                                                                                \r"
     ]
    }
   ],
   "source": [
    "content_based = final_recommendations.toPandas()"
   ]
  },
  {
   "cell_type": "code",
   "execution_count": 13,
   "id": "27da3491-40fa-4e92-82d0-c4a8e2dea640",
   "metadata": {
    "tags": []
   },
   "outputs": [],
   "source": [
    "content_based.to_csv('content_based_final.csv')  "
   ]
  },
  {
   "cell_type": "markdown",
   "id": "3d2ad609-ca2b-49d8-a588-65d1068724ef",
   "metadata": {
    "tags": []
   },
   "source": [
    "## Recommedation System Initial "
   ]
  },
  {
   "cell_type": "code",
   "execution_count": 9,
   "id": "c61df88d-9115-4653-88ce-a9eec310e1c3",
   "metadata": {
    "tags": []
   },
   "outputs": [
    {
     "name": "stderr",
     "output_type": "stream",
     "text": [
      "                                                                                \r"
     ]
    }
   ],
   "source": [
    "from pyspark.sql import SparkSession\n",
    "from pyspark.ml.feature import Tokenizer, HashingTF, IDF, Normalizer\n",
    "from pyspark.ml.linalg import Vectors\n",
    "from pyspark.ml.feature import BucketedRandomProjectionLSH, StopWordsRemover\n",
    "from pyspark.sql.functions import col\n",
    "# Initialize Spark Session\n",
    "spark = SparkSession.builder.appName(\"ContentBasedRecommender\").getOrCreate()\n",
    "\n",
    "books_df = books.limit(10000)\n",
    "books_df  = books_df.na.drop(subset=[\"description\"])\n",
    "\n",
    "# Preprocessing: Tokenize the description text\n",
    "tokenizer = Tokenizer(inputCol=\"description\", outputCol=\"words\")\n",
    "words_data = tokenizer.transform(books_df)\n",
    "\n",
    "# Optionally remove stop words\n",
    "remover = StopWordsRemover(inputCol=\"words\", outputCol=\"filtered_words\")\n",
    "filtered_df = remover.transform(words_data)\n",
    "\n",
    "# Feature Extraction: Apply HashingTF and IDF\n",
    "hashing_tf = HashingTF(inputCol=\"words\", outputCol=\"raw_features\")\n",
    "featurized_data = hashing_tf.transform(filtered_df)\n",
    "idf = IDF(inputCol=\"raw_features\", outputCol=\"idf_features\")\n",
    "idf_model = idf.fit(featurized_data)\n",
    "tfidf_data = idf_model.transform(featurized_data)\n",
    "\n",
    "# Normalize the features\n",
    "normalizer = Normalizer(inputCol=\"idf_features\", outputCol=\"features\")\n",
    "normalized_data = normalizer.transform(tfidf_data)\n",
    "\n",
    "# Approximate Similarity Join\n",
    "brp = BucketedRandomProjectionLSH(inputCol=\"features\", outputCol=\"hashes\", bucketLength=2.0, numHashTables=3)\n",
    "model = brp.fit(normalized_data)\n",
    "hashed_df = model.transform(normalized_data)\n"
   ]
  },
  {
   "cell_type": "code",
   "execution_count": null,
   "id": "8043bb7c-f57b-4b43-9166-0098e4923b91",
   "metadata": {},
   "outputs": [],
   "source": [
    "\n",
    "# Self-join the DataFrame to find similar books\n",
    "print(\"Approximately joining dfA and dfA on distance smaller than 1.5:\")\n",
    "recos = model.approxSimilarityJoin(normalized_data, normalized_data, 1.5).select(\n",
    "    col(\"datasetA.book_id\").alias(\"book_id_A\"),\n",
    "    col(\"datasetB.book_id\").alias(\"book_id_B\"),\n",
    "    col(\"distCol\")\n",
    ")"
   ]
  },
  {
   "cell_type": "code",
   "execution_count": 23,
   "id": "fd1ec55a-77c1-47e3-8a00-15257b620c8e",
   "metadata": {
    "tags": []
   },
   "outputs": [],
   "source": [
    "\n",
    "\n",
    "similar_books_df = recos.filter(col(\"distCol\") > 0).orderBy(\"distCol\")\n",
    "\n",
    "# Show top N similar book pairs\n",
    "#similar_books_df.limit(10).show()"
   ]
  },
  {
   "cell_type": "code",
   "execution_count": 24,
   "id": "e6b5ab31-207f-4659-81fd-6e6cf4029275",
   "metadata": {
    "tags": []
   },
   "outputs": [
    {
     "name": "stderr",
     "output_type": "stream",
     "text": [
      "23/12/21 00:05:01 WARN DAGScheduler: Broadcasting large task binary with size 10.2 MiB\n",
      "23/12/21 00:05:03 WARN DAGScheduler: Broadcasting large task binary with size 10.5 MiB\n",
      "[Stage 50:>                                                         (0 + 1) / 1]\r"
     ]
    },
    {
     "name": "stdout",
     "output_type": "stream",
     "text": [
      "+---------+---------------------------------------------------+----------------------------------------------------------------------------------------------------------------------------------------------------------------------------------------------------------------------------------------------------------------------------------------------------------------------------------------------------------------------------------------------------------------------------------------------------------------------------------------------------------------------------------------------------------------------------------------------------------------------------------------------------------------------------------------------------------------------------------------------------------------------------------------------------------------------------------------------------------------------------------------------------------------------------------------------------------------------------------------------------------------------------------------------------------------------------------------------------------------------------------------------------------------------------------------------------------------------------------------------------------------------------------------------------------------------------------------------------------------------------------------------------------------------+---------+--------------------------------------------------------------------+----------------------------------------------------------------------------------------------------------------------------------------------------------------------------------------------------------------------------------------------------------------------------------------------------------------------------------------------------------------------------------------------------------------------------------------------------------------------------------------------------------------------------------------------------------------------------------------------------------------------------------------------------------------------------------------------------------------------------------------------------------------------------------------------------------------------------------------------------------------------------------------------------------------------------------------------------------------------------------------------------------------------------------------------------------------------------------------------------------------------------------------------------------------------------------------------------------------------------------------------------------------------------------------------------------------------------------------------------------------------------------------------------------------------+------------------+\n",
      "|book_id_A|title_A                                            |description_A                                                                                                                                                                                                                                                                                                                                                                                                                                                                                                                                                                                                                                                                                                                                                                                                                                                                                                                                                                                                                                                                                                                                                                                                                                                                                                                                                                                                         |book_id_B|title_B                                                             |description_B                                                                                                                                                                                                                                                                                                                                                                                                                                                                                                                                                                                                                                                                                                                                                                                                                                                                                                                                                                                                                                                                                                                                                                                                                                                                                                                                                                                                         |distCol           |\n",
      "+---------+---------------------------------------------------+----------------------------------------------------------------------------------------------------------------------------------------------------------------------------------------------------------------------------------------------------------------------------------------------------------------------------------------------------------------------------------------------------------------------------------------------------------------------------------------------------------------------------------------------------------------------------------------------------------------------------------------------------------------------------------------------------------------------------------------------------------------------------------------------------------------------------------------------------------------------------------------------------------------------------------------------------------------------------------------------------------------------------------------------------------------------------------------------------------------------------------------------------------------------------------------------------------------------------------------------------------------------------------------------------------------------------------------------------------------------------------------------------------------------+---------+--------------------------------------------------------------------+----------------------------------------------------------------------------------------------------------------------------------------------------------------------------------------------------------------------------------------------------------------------------------------------------------------------------------------------------------------------------------------------------------------------------------------------------------------------------------------------------------------------------------------------------------------------------------------------------------------------------------------------------------------------------------------------------------------------------------------------------------------------------------------------------------------------------------------------------------------------------------------------------------------------------------------------------------------------------------------------------------------------------------------------------------------------------------------------------------------------------------------------------------------------------------------------------------------------------------------------------------------------------------------------------------------------------------------------------------------------------------------------------------------------+------------------+\n",
      "|5333265  |W.C. Fields: A Life on Film                        |                                                                                                                                                                                                                                                                                                                                                                                                                                                                                                                                                                                                                                                                                                                                                                                                                                                                                                                                                                                                                                                                                                                                                                                                                                                                                                                                                                                                                      |287149   |The Devil's Notebook                                                |Wisdom, humor, and dark observations by the founder of the Church of Satan. LaVey ponders such topics as nonconformity, occult faddism, erotic politics, the \"Goodguy badge,\" demoralization and the construction of artificial human companions.                                                                                                                                                                                                                                                                                                                                                                                                                                                                                                                                                                                                                                                                                                                                                                                                                                                                                                                                                                                                                                                                                                                                                                     |1.414213562373095 |\n",
      "|5333265  |W.C. Fields: A Life on Film                        |                                                                                                                                                                                                                                                                                                                                                                                                                                                                                                                                                                                                                                                                                                                                                                                                                                                                                                                                                                                                                                                                                                                                                                                                                                                                                                                                                                                                                      |287141   |The Aeneid for Boys and Girls                                       |Relates in vigorous prose the tale of Aeneas, the legendary ancestor of Romulus, who escaped from the burning city of Troy and wandered the Mediterranean for years before settling in Italy. Patterned after the Iliad and the Odyssey, the Aeneid was composed as an epic poem by Virgil, to glorify the imperial city of Rome.                                                                                                                                                                                                                                                                                                                                                                                                                                                                                                                                                                                                                                                                                                                                                                                                                                                                                                                                                                                                                                                                                     |1.4142135623730951|\n",
      "|5333265  |W.C. Fields: A Life on Film                        |                                                                                                                                                                                                                                                                                                                                                                                                                                                                                                                                                                                                                                                                                                                                                                                                                                                                                                                                                                                                                                                                                                                                                                                                                                                                                                                                                                                                                      |7327624  |The Unschooled Wizard (Sun Wolf and Starhawk, #1-2)                 |Omnibus book club edition containing the Ladies of Madrigyn and the Witches of Wenshar.                                                                                                                                                                                                                                                                                                                                                                                                                                                                                                                                                                                                                                                                                                                                                                                                                                                                                                                                                                                                                                                                                                                                                                                                                                                                                                                               |1.4142135623730951|\n",
      "|5333265  |W.C. Fields: A Life on Film                        |                                                                                                                                                                                                                                                                                                                                                                                                                                                                                                                                                                                                                                                                                                                                                                                                                                                                                                                                                                                                                                                                                                                                                                                                                                                                                                                                                                                                                      |1333909  |Good Harbor                                                         |Anita Diamant's international bestseller \"The Red Tent\" brilliantly re-created the ancient world of womanhood. Diamant brings her remarkable storytelling skills to \"Good Harbor\" -- offering insight to the precarious balance of marriage and career, motherhood and friendship in the world of modern women. The seaside town of Gloucester, Massachusetts is a place where the smell of the ocean lingers in the air and the rocky coast glistens in the Atlantic sunshine. When longtime Gloucester-resident Kathleen Levine is diagnosed with breast cancer, her life is thrown into turmoil. Frightened and burdened by secrets, she meets Joyce Tabachnik -- a freelance writer with literary aspirations -- and a once-in-a-lifetime friendship is born. Joyce has just bought a small house in Gloucester, where she hopes to write as well as vacation with her family. Like Kathleen, Joyce is at a fragile place in her life.\\nA mutual love for books, humor, and the beauty of the natural world brings the two women together. They share their personal histories, and help each other to confront scars left by old emotional wounds.\\nWith her own trademark wisdom and humor, Diamant considers the nature, strength, and necessity of adult female friendship. \"Good Harbor\" examines the tragedy of loss, the insidious nature of family secrets, as well as the redemptive power of friendship.|1.4142135623730956|\n",
      "|5333265  |W.C. Fields: A Life on Film                        |                                                                                                                                                                                                                                                                                                                                                                                                                                                                                                                                                                                                                                                                                                                                                                                                                                                                                                                                                                                                                                                                                                                                                                                                                                                                                                                                                                                                                      |34883016 |Playmaker: A Venom Series Novella                                   |Secrets. Sometimes keeping them in confidence is a good thing. Other times secrets can slowly allow a woman's soul to rot.\\nWhitney Beaupre has been hiding a big secret for years, one that's beginning to wear her down both on and off the ice. Pretending to be something she's not is exhausting. Wanting to be free but afraid to break out of her prison is terrifying. Seeking love but then hiding from it is crushing to the spirit, yet Whitney feels compelled to keep living the lie. Until the night Hannah Kym appears in her life. Whitney's attraction to Hannah is deep, fierce, and instantaneous. The Temple art major is everything Whitney has dreamed of and more. But those old fears keep clawing at the Venom center, keeping her locked in the closet despite the passion and affection she feels for Hannah.\\nCan love finally break the shackles holding Whitney's heart and soul captive?                                                                                                                                                                                                                                                                                                                                                                                                                                                                                               |1.4142135623730943|\n",
      "|5333265  |W.C. Fields: A Life on Film                        |                                                                                                                                                                                                                                                                                                                                                                                                                                                                                                                                                                                                                                                                                                                                                                                                                                                                                                                                                                                                                                                                                                                                                                                                                                                                                                                                                                                                                      |6066819  |Best Friends Forever                                                |Addie Downs and Valerie Adler were eight when they first met and decided to be best friends forever. But, in the wake of tragedy and betrayal during their teenage years, everything changed. Val went on to fame and fortune. Addie stayed behind in their small Midwestern town. Destiny, however, had more in store for these two. And when, twenty-five years later, Val shows up at Addie's front door with blood on her coat and terror on her face, it is the beginning of a wild adventure for two women joined by love and history who find strength together that they could not find alone.                                                                                                                                                                                                                                                                                                                                                                                                                                                                                                                                                                                                                                                                                                                                                                                                                |1.4142135623730945|\n",
      "|5333265  |W.C. Fields: A Life on Film                        |                                                                                                                                                                                                                                                                                                                                                                                                                                                                                                                                                                                                                                                                                                                                                                                                                                                                                                                                                                                                                                                                                                                                                                                                                                                                                                                                                                                                                      |6066812  |All's Fairy in Love and War (Avalon: Web of Magic, #8)              |To Kara's astonishment, she discovers that a portal has opened in her bedroom closet and two goblins have fallen through! They refuse to return to the fairy realms and be drafted for an impending war. In an attempt to roust the pesky creatures, Kara falls through the portal, smack into the middle of a huge war. Kara meets Queen Selinda, who appoints Kara as a Fairy Princess and assigns her an impossible task: to put an end to the war using her diplomatic skills.\\nAll's Fairy In Love And War is the eighth book in Avalon: Web of Magic, a twelve-book fantasy series for middle grade readers. Through their magical journey, the teenage heroines discover who they really are . . . and run into plenty of good guys, bad guys, and cute guys. Out of print for two years, Seven Seas is pleased to return the Avalon series to print in editions targeted for today's readers, with new manga-style covers and interior illustrations.                                                                                                                                                                                                                                                                                                                                                                                                                                                         |1.4142135623730943|\n",
      "|1333909  |Good Harbor                                        |Anita Diamant's international bestseller \"The Red Tent\" brilliantly re-created the ancient world of womanhood. Diamant brings her remarkable storytelling skills to \"Good Harbor\" -- offering insight to the precarious balance of marriage and career, motherhood and friendship in the world of modern women. The seaside town of Gloucester, Massachusetts is a place where the smell of the ocean lingers in the air and the rocky coast glistens in the Atlantic sunshine. When longtime Gloucester-resident Kathleen Levine is diagnosed with breast cancer, her life is thrown into turmoil. Frightened and burdened by secrets, she meets Joyce Tabachnik -- a freelance writer with literary aspirations -- and a once-in-a-lifetime friendship is born. Joyce has just bought a small house in Gloucester, where she hopes to write as well as vacation with her family. Like Kathleen, Joyce is at a fragile place in her life.\\nA mutual love for books, humor, and the beauty of the natural world brings the two women together. They share their personal histories, and help each other to confront scars left by old emotional wounds.\\nWith her own trademark wisdom and humor, Diamant considers the nature, strength, and necessity of adult female friendship. \"Good Harbor\" examines the tragedy of loss, the insidious nature of family secrets, as well as the redemptive power of friendship.|287149   |The Devil's Notebook                                                |Wisdom, humor, and dark observations by the founder of the Church of Satan. LaVey ponders such topics as nonconformity, occult faddism, erotic politics, the \"Goodguy badge,\" demoralization and the construction of artificial human companions.                                                                                                                                                                                                                                                                                                                                                                                                                                                                                                                                                                                                                                                                                                                                                                                                                                                                                                                                                                                                                                                                                                                                                                     |1.3518357458341177|\n",
      "|1333909  |Good Harbor                                        |Anita Diamant's international bestseller \"The Red Tent\" brilliantly re-created the ancient world of womanhood. Diamant brings her remarkable storytelling skills to \"Good Harbor\" -- offering insight to the precarious balance of marriage and career, motherhood and friendship in the world of modern women. The seaside town of Gloucester, Massachusetts is a place where the smell of the ocean lingers in the air and the rocky coast glistens in the Atlantic sunshine. When longtime Gloucester-resident Kathleen Levine is diagnosed with breast cancer, her life is thrown into turmoil. Frightened and burdened by secrets, she meets Joyce Tabachnik -- a freelance writer with literary aspirations -- and a once-in-a-lifetime friendship is born. Joyce has just bought a small house in Gloucester, where she hopes to write as well as vacation with her family. Like Kathleen, Joyce is at a fragile place in her life.\\nA mutual love for books, humor, and the beauty of the natural world brings the two women together. They share their personal histories, and help each other to confront scars left by old emotional wounds.\\nWith her own trademark wisdom and humor, Diamant considers the nature, strength, and necessity of adult female friendship. \"Good Harbor\" examines the tragedy of loss, the insidious nature of family secrets, as well as the redemptive power of friendship.|378460   |The Wanting of Levine                                               |                                                                                                                                                                                                                                                                                                                                                                                                                                                                                                                                                                                                                                                                                                                                                                                                                                                                                                                                                                                                                                                                                                                                                                                                                                                                                                                                                                                                                      |1.4142135623730956|\n",
      "|1333909  |Good Harbor                                        |Anita Diamant's international bestseller \"The Red Tent\" brilliantly re-created the ancient world of womanhood. Diamant brings her remarkable storytelling skills to \"Good Harbor\" -- offering insight to the precarious balance of marriage and career, motherhood and friendship in the world of modern women. The seaside town of Gloucester, Massachusetts is a place where the smell of the ocean lingers in the air and the rocky coast glistens in the Atlantic sunshine. When longtime Gloucester-resident Kathleen Levine is diagnosed with breast cancer, her life is thrown into turmoil. Frightened and burdened by secrets, she meets Joyce Tabachnik -- a freelance writer with literary aspirations -- and a once-in-a-lifetime friendship is born. Joyce has just bought a small house in Gloucester, where she hopes to write as well as vacation with her family. Like Kathleen, Joyce is at a fragile place in her life.\\nA mutual love for books, humor, and the beauty of the natural world brings the two women together. They share their personal histories, and help each other to confront scars left by old emotional wounds.\\nWith her own trademark wisdom and humor, Diamant considers the nature, strength, and necessity of adult female friendship. \"Good Harbor\" examines the tragedy of loss, the insidious nature of family secrets, as well as the redemptive power of friendship.|287141   |The Aeneid for Boys and Girls                                       |Relates in vigorous prose the tale of Aeneas, the legendary ancestor of Romulus, who escaped from the burning city of Troy and wandered the Mediterranean for years before settling in Italy. Patterned after the Iliad and the Odyssey, the Aeneid was composed as an epic poem by Virgil, to glorify the imperial city of Rome.                                                                                                                                                                                                                                                                                                                                                                                                                                                                                                                                                                                                                                                                                                                                                                                                                                                                                                                                                                                                                                                                                     |1.3395741752879142|\n",
      "|1333909  |Good Harbor                                        |Anita Diamant's international bestseller \"The Red Tent\" brilliantly re-created the ancient world of womanhood. Diamant brings her remarkable storytelling skills to \"Good Harbor\" -- offering insight to the precarious balance of marriage and career, motherhood and friendship in the world of modern women. The seaside town of Gloucester, Massachusetts is a place where the smell of the ocean lingers in the air and the rocky coast glistens in the Atlantic sunshine. When longtime Gloucester-resident Kathleen Levine is diagnosed with breast cancer, her life is thrown into turmoil. Frightened and burdened by secrets, she meets Joyce Tabachnik -- a freelance writer with literary aspirations -- and a once-in-a-lifetime friendship is born. Joyce has just bought a small house in Gloucester, where she hopes to write as well as vacation with her family. Like Kathleen, Joyce is at a fragile place in her life.\\nA mutual love for books, humor, and the beauty of the natural world brings the two women together. They share their personal histories, and help each other to confront scars left by old emotional wounds.\\nWith her own trademark wisdom and humor, Diamant considers the nature, strength, and necessity of adult female friendship. \"Good Harbor\" examines the tragedy of loss, the insidious nature of family secrets, as well as the redemptive power of friendship.|287140   |Runic Astrology: Starcraft and Timekeeping in the Northern Tradition|                                                                                                                                                                                                                                                                                                                                                                                                                                                                                                                                                                                                                                                                                                                                                                                                                                                                                                                                                                                                                                                                                                                                                                                                                                                                                                                                                                                                                      |1.4142135623730956|\n",
      "|1333909  |Good Harbor                                        |Anita Diamant's international bestseller \"The Red Tent\" brilliantly re-created the ancient world of womanhood. Diamant brings her remarkable storytelling skills to \"Good Harbor\" -- offering insight to the precarious balance of marriage and career, motherhood and friendship in the world of modern women. The seaside town of Gloucester, Massachusetts is a place where the smell of the ocean lingers in the air and the rocky coast glistens in the Atlantic sunshine. When longtime Gloucester-resident Kathleen Levine is diagnosed with breast cancer, her life is thrown into turmoil. Frightened and burdened by secrets, she meets Joyce Tabachnik -- a freelance writer with literary aspirations -- and a once-in-a-lifetime friendship is born. Joyce has just bought a small house in Gloucester, where she hopes to write as well as vacation with her family. Like Kathleen, Joyce is at a fragile place in her life.\\nA mutual love for books, humor, and the beauty of the natural world brings the two women together. They share their personal histories, and help each other to confront scars left by old emotional wounds.\\nWith her own trademark wisdom and humor, Diamant considers the nature, strength, and necessity of adult female friendship. \"Good Harbor\" examines the tragedy of loss, the insidious nature of family secrets, as well as the redemptive power of friendship.|7327624  |The Unschooled Wizard (Sun Wolf and Starhawk, #1-2)                 |Omnibus book club edition containing the Ladies of Madrigyn and the Witches of Wenshar.                                                                                                                                                                                                                                                                                                                                                                                                                                                                                                                                                                                                                                                                                                                                                                                                                                                                                                                                                                                                                                                                                                                                                                                                                                                                                                                               |1.3802195384743148|\n",
      "|1333909  |Good Harbor                                        |Anita Diamant's international bestseller \"The Red Tent\" brilliantly re-created the ancient world of womanhood. Diamant brings her remarkable storytelling skills to \"Good Harbor\" -- offering insight to the precarious balance of marriage and career, motherhood and friendship in the world of modern women. The seaside town of Gloucester, Massachusetts is a place where the smell of the ocean lingers in the air and the rocky coast glistens in the Atlantic sunshine. When longtime Gloucester-resident Kathleen Levine is diagnosed with breast cancer, her life is thrown into turmoil. Frightened and burdened by secrets, she meets Joyce Tabachnik -- a freelance writer with literary aspirations -- and a once-in-a-lifetime friendship is born. Joyce has just bought a small house in Gloucester, where she hopes to write as well as vacation with her family. Like Kathleen, Joyce is at a fragile place in her life.\\nA mutual love for books, humor, and the beauty of the natural world brings the two women together. They share their personal histories, and help each other to confront scars left by old emotional wounds.\\nWith her own trademark wisdom and humor, Diamant considers the nature, strength, and necessity of adult female friendship. \"Good Harbor\" examines the tragedy of loss, the insidious nature of family secrets, as well as the redemptive power of friendship.|5333265  |W.C. Fields: A Life on Film                                         |                                                                                                                                                                                                                                                                                                                                                                                                                                                                                                                                                                                                                                                                                                                                                                                                                                                                                                                                                                                                                                                                                                                                                                                                                                                                                                                                                                                                                      |1.4142135623730956|\n",
      "|1333909  |Good Harbor                                        |Anita Diamant's international bestseller \"The Red Tent\" brilliantly re-created the ancient world of womanhood. Diamant brings her remarkable storytelling skills to \"Good Harbor\" -- offering insight to the precarious balance of marriage and career, motherhood and friendship in the world of modern women. The seaside town of Gloucester, Massachusetts is a place where the smell of the ocean lingers in the air and the rocky coast glistens in the Atlantic sunshine. When longtime Gloucester-resident Kathleen Levine is diagnosed with breast cancer, her life is thrown into turmoil. Frightened and burdened by secrets, she meets Joyce Tabachnik -- a freelance writer with literary aspirations -- and a once-in-a-lifetime friendship is born. Joyce has just bought a small house in Gloucester, where she hopes to write as well as vacation with her family. Like Kathleen, Joyce is at a fragile place in her life.\\nA mutual love for books, humor, and the beauty of the natural world brings the two women together. They share their personal histories, and help each other to confront scars left by old emotional wounds.\\nWith her own trademark wisdom and humor, Diamant considers the nature, strength, and necessity of adult female friendship. \"Good Harbor\" examines the tragedy of loss, the insidious nature of family secrets, as well as the redemptive power of friendship.|34883016 |Playmaker: A Venom Series Novella                                   |Secrets. Sometimes keeping them in confidence is a good thing. Other times secrets can slowly allow a woman's soul to rot.\\nWhitney Beaupre has been hiding a big secret for years, one that's beginning to wear her down both on and off the ice. Pretending to be something she's not is exhausting. Wanting to be free but afraid to break out of her prison is terrifying. Seeking love but then hiding from it is crushing to the spirit, yet Whitney feels compelled to keep living the lie. Until the night Hannah Kym appears in her life. Whitney's attraction to Hannah is deep, fierce, and instantaneous. The Temple art major is everything Whitney has dreamed of and more. But those old fears keep clawing at the Venom center, keeping her locked in the closet despite the passion and affection she feels for Hannah.\\nCan love finally break the shackles holding Whitney's heart and soul captive?                                                                                                                                                                                                                                                                                                                                                                                                                                                                                               |1.2895514534056434|\n",
      "|1333909  |Good Harbor                                        |Anita Diamant's international bestseller \"The Red Tent\" brilliantly re-created the ancient world of womanhood. Diamant brings her remarkable storytelling skills to \"Good Harbor\" -- offering insight to the precarious balance of marriage and career, motherhood and friendship in the world of modern women. The seaside town of Gloucester, Massachusetts is a place where the smell of the ocean lingers in the air and the rocky coast glistens in the Atlantic sunshine. When longtime Gloucester-resident Kathleen Levine is diagnosed with breast cancer, her life is thrown into turmoil. Frightened and burdened by secrets, she meets Joyce Tabachnik -- a freelance writer with literary aspirations -- and a once-in-a-lifetime friendship is born. Joyce has just bought a small house in Gloucester, where she hopes to write as well as vacation with her family. Like Kathleen, Joyce is at a fragile place in her life.\\nA mutual love for books, humor, and the beauty of the natural world brings the two women together. They share their personal histories, and help each other to confront scars left by old emotional wounds.\\nWith her own trademark wisdom and humor, Diamant considers the nature, strength, and necessity of adult female friendship. \"Good Harbor\" examines the tragedy of loss, the insidious nature of family secrets, as well as the redemptive power of friendship.|6066819  |Best Friends Forever                                                |Addie Downs and Valerie Adler were eight when they first met and decided to be best friends forever. But, in the wake of tragedy and betrayal during their teenage years, everything changed. Val went on to fame and fortune. Addie stayed behind in their small Midwestern town. Destiny, however, had more in store for these two. And when, twenty-five years later, Val shows up at Addie's front door with blood on her coat and terror on her face, it is the beginning of a wild adventure for two women joined by love and history who find strength together that they could not find alone.                                                                                                                                                                                                                                                                                                                                                                                                                                                                                                                                                                                                                                                                                                                                                                                                                |1.3177096885989426|\n",
      "|1333909  |Good Harbor                                        |Anita Diamant's international bestseller \"The Red Tent\" brilliantly re-created the ancient world of womanhood. Diamant brings her remarkable storytelling skills to \"Good Harbor\" -- offering insight to the precarious balance of marriage and career, motherhood and friendship in the world of modern women. The seaside town of Gloucester, Massachusetts is a place where the smell of the ocean lingers in the air and the rocky coast glistens in the Atlantic sunshine. When longtime Gloucester-resident Kathleen Levine is diagnosed with breast cancer, her life is thrown into turmoil. Frightened and burdened by secrets, she meets Joyce Tabachnik -- a freelance writer with literary aspirations -- and a once-in-a-lifetime friendship is born. Joyce has just bought a small house in Gloucester, where she hopes to write as well as vacation with her family. Like Kathleen, Joyce is at a fragile place in her life.\\nA mutual love for books, humor, and the beauty of the natural world brings the two women together. They share their personal histories, and help each other to confront scars left by old emotional wounds.\\nWith her own trademark wisdom and humor, Diamant considers the nature, strength, and necessity of adult female friendship. \"Good Harbor\" examines the tragedy of loss, the insidious nature of family secrets, as well as the redemptive power of friendship.|6066812  |All's Fairy in Love and War (Avalon: Web of Magic, #8)              |To Kara's astonishment, she discovers that a portal has opened in her bedroom closet and two goblins have fallen through! They refuse to return to the fairy realms and be drafted for an impending war. In an attempt to roust the pesky creatures, Kara falls through the portal, smack into the middle of a huge war. Kara meets Queen Selinda, who appoints Kara as a Fairy Princess and assigns her an impossible task: to put an end to the war using her diplomatic skills.\\nAll's Fairy In Love And War is the eighth book in Avalon: Web of Magic, a twelve-book fantasy series for middle grade readers. Through their magical journey, the teenage heroines discover who they really are . . . and run into plenty of good guys, bad guys, and cute guys. Out of print for two years, Seven Seas is pleased to return the Avalon series to print in editions targeted for today's readers, with new manga-style covers and interior illustrations.                                                                                                                                                                                                                                                                                                                                                                                                                                                         |1.2892423935723114|\n",
      "|7327624  |The Unschooled Wizard (Sun Wolf and Starhawk, #1-2)|Omnibus book club edition containing the Ladies of Madrigyn and the Witches of Wenshar.                                                                                                                                                                                                                                                                                                                                                                                                                                                                                                                                                                                                                                                                                                                                                                                                                                                                                                                                                                                                                                                                                                                                                                                                                                                                                                                               |287149   |The Devil's Notebook                                                |Wisdom, humor, and dark observations by the founder of the Church of Satan. LaVey ponders such topics as nonconformity, occult faddism, erotic politics, the \"Goodguy badge,\" demoralization and the construction of artificial human companions.                                                                                                                                                                                                                                                                                                                                                                                                                                                                                                                                                                                                                                                                                                                                                                                                                                                                                                                                                                                                                                                                                                                                                                     |1.386941318154148 |\n",
      "|7327624  |The Unschooled Wizard (Sun Wolf and Starhawk, #1-2)|Omnibus book club edition containing the Ladies of Madrigyn and the Witches of Wenshar.                                                                                                                                                                                                                                                                                                                                                                                                                                                                                                                                                                                                                                                                                                                                                                                                                                                                                                                                                                                                                                                                                                                                                                                                                                                                                                                               |378460   |The Wanting of Levine                                               |                                                                                                                                                                                                                                                                                                                                                                                                                                                                                                                                                                                                                                                                                                                                                                                                                                                                                                                                                                                                                                                                                                                                                                                                                                                                                                                                                                                                                      |1.4142135623730951|\n",
      "|7327624  |The Unschooled Wizard (Sun Wolf and Starhawk, #1-2)|Omnibus book club edition containing the Ladies of Madrigyn and the Witches of Wenshar.                                                                                                                                                                                                                                                                                                                                                                                                                                                                                                                                                                                                                                                                                                                                                                                                                                                                                                                                                                                                                                                                                                                                                                                                                                                                                                                               |287141   |The Aeneid for Boys and Girls                                       |Relates in vigorous prose the tale of Aeneas, the legendary ancestor of Romulus, who escaped from the burning city of Troy and wandered the Mediterranean for years before settling in Italy. Patterned after the Iliad and the Odyssey, the Aeneid was composed as an epic poem by Virgil, to glorify the imperial city of Rome.                                                                                                                                                                                                                                                                                                                                                                                                                                                                                                                                                                                                                                                                                                                                                                                                                                                                                                                                                                                                                                                                                     |1.379434259042668 |\n",
      "|7327624  |The Unschooled Wizard (Sun Wolf and Starhawk, #1-2)|Omnibus book club edition containing the Ladies of Madrigyn and the Witches of Wenshar.                                                                                                                                                                                                                                                                                                                                                                                                                                                                                                                                                                                                                                                                                                                                                                                                                                                                                                                                                                                                                                                                                                                                                                                                                                                                                                                               |287140   |Runic Astrology: Starcraft and Timekeeping in the Northern Tradition|                                                                                                                                                                                                                                                                                                                                                                                                                                                                                                                                                                                                                                                                                                                                                                                                                                                                                                                                                                                                                                                                                                                                                                                                                                                                                                                                                                                                                      |1.4142135623730951|\n",
      "+---------+---------------------------------------------------+----------------------------------------------------------------------------------------------------------------------------------------------------------------------------------------------------------------------------------------------------------------------------------------------------------------------------------------------------------------------------------------------------------------------------------------------------------------------------------------------------------------------------------------------------------------------------------------------------------------------------------------------------------------------------------------------------------------------------------------------------------------------------------------------------------------------------------------------------------------------------------------------------------------------------------------------------------------------------------------------------------------------------------------------------------------------------------------------------------------------------------------------------------------------------------------------------------------------------------------------------------------------------------------------------------------------------------------------------------------------------------------------------------------------+---------+--------------------------------------------------------------------+----------------------------------------------------------------------------------------------------------------------------------------------------------------------------------------------------------------------------------------------------------------------------------------------------------------------------------------------------------------------------------------------------------------------------------------------------------------------------------------------------------------------------------------------------------------------------------------------------------------------------------------------------------------------------------------------------------------------------------------------------------------------------------------------------------------------------------------------------------------------------------------------------------------------------------------------------------------------------------------------------------------------------------------------------------------------------------------------------------------------------------------------------------------------------------------------------------------------------------------------------------------------------------------------------------------------------------------------------------------------------------------------------------------------+------------------+\n",
      "only showing top 20 rows\n",
      "\n"
     ]
    },
    {
     "name": "stderr",
     "output_type": "stream",
     "text": [
      "                                                                                \r"
     ]
    }
   ],
   "source": [
    "from pyspark.sql.functions import col\n",
    "\n",
    "# Assuming your books DataFrame is named 'books_df' and has 'book_id', 'title', and 'description' columns\n",
    "# Join the similar_books_df DataFrame with the books DataFrame\n",
    "# Join for book_id_A\n",
    "joined_df_A = similar_books_df.join(books_df.withColumnRenamed(\"book_id\", \"book_id_A\").withColumnRenamed(\"title\", \"title_A\").withColumnRenamed(\"description\", \"description_A\"), on=\"book_id_A\")\n",
    "\n",
    "# Join for book_id_B\n",
    "final_df = joined_df_A.join(books_df.withColumnRenamed(\"book_id\", \"book_id_B\").withColumnRenamed(\"title\", \"title_B\").withColumnRenamed(\"description\", \"description_B\"), on=\"book_id_B\")\n",
    "\n",
    "# Selecting relevant columns\n",
    "final_df = final_df.select(\"book_id_A\", \"title_A\", \"description_A\", \"book_id_B\", \"title_B\", \"description_B\", \"distCol\")\n",
    "\n",
    "# Show results\n",
    "final_df.show(truncate=False)\n"
   ]
  },
  {
   "cell_type": "code",
   "execution_count": 25,
   "id": "204c525f-9775-4f0e-b128-fa15614060e5",
   "metadata": {
    "tags": []
   },
   "outputs": [
    {
     "name": "stderr",
     "output_type": "stream",
     "text": [
      "23/12/21 00:05:09 WARN DAGScheduler: Broadcasting large task binary with size 10.2 MiB\n",
      "23/12/21 00:05:11 WARN DAGScheduler: Broadcasting large task binary with size 10.5 MiB\n",
      "[Stage 58:>                                                         (0 + 1) / 1]\r"
     ]
    },
    {
     "name": "stdout",
     "output_type": "stream",
     "text": [
      "+--------------------+--------------------+------------------+\n",
      "|             title_A|             title_B|           distCol|\n",
      "+--------------------+--------------------+------------------+\n",
      "|W.C. Fields: A Li...|The Devil's Notebook| 1.414213562373095|\n",
      "|W.C. Fields: A Li...|The Aeneid for Bo...|1.4142135623730951|\n",
      "|W.C. Fields: A Li...|The Unschooled Wi...|1.4142135623730951|\n",
      "|W.C. Fields: A Li...|         Good Harbor|1.4142135623730956|\n",
      "|W.C. Fields: A Li...|Playmaker: A Veno...|1.4142135623730943|\n",
      "|W.C. Fields: A Li...|Best Friends Forever|1.4142135623730945|\n",
      "|W.C. Fields: A Li...|All's Fairy in Lo...|1.4142135623730943|\n",
      "|         Good Harbor|The Devil's Notebook|1.3518357458341177|\n",
      "|         Good Harbor|The Wanting of Le...|1.4142135623730956|\n",
      "|         Good Harbor|The Aeneid for Bo...|1.3395741752879142|\n",
      "|         Good Harbor|Runic Astrology: ...|1.4142135623730956|\n",
      "|         Good Harbor|The Unschooled Wi...|1.3802195384743148|\n",
      "|         Good Harbor|W.C. Fields: A Li...|1.4142135623730956|\n",
      "|         Good Harbor|Playmaker: A Veno...|1.2895514534056434|\n",
      "|         Good Harbor|Best Friends Forever|1.3177096885989426|\n",
      "|         Good Harbor|All's Fairy in Lo...|1.2892423935723114|\n",
      "|The Unschooled Wi...|The Devil's Notebook| 1.386941318154148|\n",
      "|The Unschooled Wi...|The Wanting of Le...|1.4142135623730951|\n",
      "|The Unschooled Wi...|The Aeneid for Bo...| 1.379434259042668|\n",
      "|The Unschooled Wi...|Runic Astrology: ...|1.4142135623730951|\n",
      "+--------------------+--------------------+------------------+\n",
      "only showing top 20 rows\n",
      "\n"
     ]
    },
    {
     "name": "stderr",
     "output_type": "stream",
     "text": [
      "                                                                                \r"
     ]
    }
   ],
   "source": [
    "final_df.select(\"title_A\", \"title_B\",\"distCol\").show(20)"
   ]
  },
  {
   "cell_type": "code",
   "execution_count": 26,
   "id": "d350f236-4aaa-4023-8e47-bd0e18fd0e89",
   "metadata": {
    "tags": []
   },
   "outputs": [],
   "source": [
    "from pyspark.sql.functions import col\n",
    "\n",
    "# Assuming you have the books_df and recommendation_df already loaded\n",
    "\n",
    "# Join to add image URL for title_A\n",
    "df = final_df.join(\n",
    "    books_df.select(col(\"title\").alias(\"title_A\"), col(\"image_url\").alias(\"image_url_A\")),\n",
    "    on=\"title_A\",\n",
    "    how=\"left\"\n",
    ")\n"
   ]
  },
  {
   "cell_type": "code",
   "execution_count": 27,
   "id": "e94e274e-8df6-4bf9-b958-423e4468377e",
   "metadata": {
    "tags": []
   },
   "outputs": [
    {
     "name": "stderr",
     "output_type": "stream",
     "text": [
      "23/12/21 00:12:06 WARN DAGScheduler: Broadcasting large task binary with size 10.2 MiB\n",
      "23/12/21 00:12:11 WARN DAGScheduler: Broadcasting large task binary with size 10.5 MiB\n",
      "[Stage 69:>                                                         (0 + 1) / 1]\r"
     ]
    },
    {
     "name": "stdout",
     "output_type": "stream",
     "text": [
      "+--------------------+--------------------+--------------------+------------------+\n",
      "|             title_A|         image_url_A|             title_B|           distCol|\n",
      "+--------------------+--------------------+--------------------+------------------+\n",
      "|W.C. Fields: A Li...|https://images.gr...|The Devil's Notebook| 1.414213562373095|\n",
      "|W.C. Fields: A Li...|https://images.gr...|The Aeneid for Bo...|1.4142135623730951|\n",
      "|W.C. Fields: A Li...|https://images.gr...|The Unschooled Wi...|1.4142135623730951|\n",
      "|W.C. Fields: A Li...|https://images.gr...|         Good Harbor|1.4142135623730956|\n",
      "|W.C. Fields: A Li...|https://images.gr...|Playmaker: A Veno...|1.4142135623730943|\n",
      "|W.C. Fields: A Li...|https://images.gr...|Best Friends Forever|1.4142135623730945|\n",
      "|W.C. Fields: A Li...|https://images.gr...|All's Fairy in Lo...|1.4142135623730943|\n",
      "|         Good Harbor|https://s.gr-asse...|The Devil's Notebook|1.3518357458341177|\n",
      "|         Good Harbor|https://s.gr-asse...|The Wanting of Le...|1.4142135623730956|\n",
      "|         Good Harbor|https://s.gr-asse...|The Aeneid for Bo...|1.3395741752879142|\n",
      "|         Good Harbor|https://s.gr-asse...|Runic Astrology: ...|1.4142135623730956|\n",
      "|         Good Harbor|https://s.gr-asse...|The Unschooled Wi...|1.3802195384743148|\n",
      "|         Good Harbor|https://s.gr-asse...|W.C. Fields: A Li...|1.4142135623730956|\n",
      "|         Good Harbor|https://s.gr-asse...|Playmaker: A Veno...|1.2895514534056434|\n",
      "|         Good Harbor|https://s.gr-asse...|Best Friends Forever|1.3177096885989426|\n",
      "|         Good Harbor|https://s.gr-asse...|All's Fairy in Lo...|1.2892423935723114|\n",
      "|The Unschooled Wi...|https://images.gr...|The Devil's Notebook| 1.386941318154148|\n",
      "|The Unschooled Wi...|https://images.gr...|The Wanting of Le...|1.4142135623730951|\n",
      "|The Unschooled Wi...|https://images.gr...|The Aeneid for Bo...| 1.379434259042668|\n",
      "|The Unschooled Wi...|https://images.gr...|Runic Astrology: ...|1.4142135623730951|\n",
      "+--------------------+--------------------+--------------------+------------------+\n",
      "only showing top 20 rows\n",
      "\n"
     ]
    },
    {
     "name": "stderr",
     "output_type": "stream",
     "text": [
      "                                                                                \r"
     ]
    }
   ],
   "source": [
    "df.select(\"title_A\",\"image_url_A\",\"title_B\",\"distCol\").show(20)"
   ]
  },
  {
   "cell_type": "code",
   "execution_count": null,
   "id": "80667d9b-66d0-405b-9ec5-4c0c803c371a",
   "metadata": {},
   "outputs": [],
   "source": []
  },
  {
   "cell_type": "code",
   "execution_count": 28,
   "id": "0e009d0f-065e-49bf-b26b-0d5153349e8d",
   "metadata": {
    "tags": []
   },
   "outputs": [],
   "source": [
    "final_df = df.join(\n",
    "    books_df.select(col(\"title\").alias(\"title_B\"), col(\"image_url\").alias(\"image_url_B\")),\n",
    "    on=\"title_B\",\n",
    "    how=\"left\"\n",
    ")"
   ]
  },
  {
   "cell_type": "code",
   "execution_count": 30,
   "id": "526af788-3860-4450-b738-a76cf74668f9",
   "metadata": {
    "tags": []
   },
   "outputs": [
    {
     "name": "stderr",
     "output_type": "stream",
     "text": [
      "23/12/21 00:24:14 WARN DAGScheduler: Broadcasting large task binary with size 10.2 MiB\n",
      "23/12/21 00:24:18 WARN DAGScheduler: Broadcasting large task binary with size 10.5 MiB\n",
      "[Stage 80:>                                                         (0 + 1) / 1]\r"
     ]
    },
    {
     "name": "stdout",
     "output_type": "stream",
     "text": [
      "+--------------------+--------------------+--------------------+------------------+--------------------+\n",
      "|             title_A|         image_url_A|             title_B|           distCol|         image_url_B|\n",
      "+--------------------+--------------------+--------------------+------------------+--------------------+\n",
      "|W.C. Fields: A Li...|https://images.gr...|The Devil's Notebook| 1.414213562373095|https://images.gr...|\n",
      "|W.C. Fields: A Li...|https://images.gr...|The Aeneid for Bo...|1.4142135623730951|https://s.gr-asse...|\n",
      "|W.C. Fields: A Li...|https://images.gr...|The Unschooled Wi...|1.4142135623730951|https://images.gr...|\n",
      "|W.C. Fields: A Li...|https://images.gr...|         Good Harbor|1.4142135623730956|https://s.gr-asse...|\n",
      "|W.C. Fields: A Li...|https://images.gr...|Playmaker: A Veno...|1.4142135623730943|https://images.gr...|\n",
      "|W.C. Fields: A Li...|https://images.gr...|Best Friends Forever|1.4142135623730945|https://s.gr-asse...|\n",
      "|W.C. Fields: A Li...|https://images.gr...|All's Fairy in Lo...|1.4142135623730943|https://images.gr...|\n",
      "|         Good Harbor|https://s.gr-asse...|The Devil's Notebook|1.3518357458341177|https://images.gr...|\n",
      "|         Good Harbor|https://s.gr-asse...|The Wanting of Le...|1.4142135623730956|https://s.gr-asse...|\n",
      "|         Good Harbor|https://s.gr-asse...|The Aeneid for Bo...|1.3395741752879142|https://s.gr-asse...|\n",
      "|         Good Harbor|https://s.gr-asse...|Runic Astrology: ...|1.4142135623730956|https://images.gr...|\n",
      "|         Good Harbor|https://s.gr-asse...|The Unschooled Wi...|1.3802195384743148|https://images.gr...|\n",
      "|         Good Harbor|https://s.gr-asse...|W.C. Fields: A Li...|1.4142135623730956|https://images.gr...|\n",
      "|         Good Harbor|https://s.gr-asse...|Playmaker: A Veno...|1.2895514534056434|https://images.gr...|\n",
      "|         Good Harbor|https://s.gr-asse...|Best Friends Forever|1.3177096885989426|https://s.gr-asse...|\n",
      "|         Good Harbor|https://s.gr-asse...|All's Fairy in Lo...|1.2892423935723114|https://images.gr...|\n",
      "|The Unschooled Wi...|https://images.gr...|The Devil's Notebook| 1.386941318154148|https://images.gr...|\n",
      "|The Unschooled Wi...|https://images.gr...|The Wanting of Le...|1.4142135623730951|https://s.gr-asse...|\n",
      "|The Unschooled Wi...|https://images.gr...|The Aeneid for Bo...| 1.379434259042668|https://s.gr-asse...|\n",
      "|The Unschooled Wi...|https://images.gr...|Runic Astrology: ...|1.4142135623730951|https://images.gr...|\n",
      "+--------------------+--------------------+--------------------+------------------+--------------------+\n",
      "only showing top 20 rows\n",
      "\n"
     ]
    },
    {
     "name": "stderr",
     "output_type": "stream",
     "text": [
      "                                                                                \r"
     ]
    }
   ],
   "source": [
    "final_df.select(\"title_A\",\"image_url_A\",\"title_B\",\"distCol\",\"image_url_B\").show(20)"
   ]
  },
  {
   "cell_type": "code",
   "execution_count": 31,
   "id": "07accb87-cb81-4dbf-a207-8caf1644fee5",
   "metadata": {
    "tags": []
   },
   "outputs": [
    {
     "name": "stderr",
     "output_type": "stream",
     "text": [
      "23/12/21 00:27:28 WARN DAGScheduler: Broadcasting large task binary with size 10.2 MiB\n",
      "23/12/21 00:27:32 WARN DAGScheduler: Broadcasting large task binary with size 10.5 MiB\n",
      "                                                                                \r"
     ]
    }
   ],
   "source": [
    "content = final_df.toPandas()"
   ]
  },
  {
   "cell_type": "code",
   "execution_count": 33,
   "id": "d360f995-4caa-4d85-8452-39b556b5456c",
   "metadata": {
    "tags": []
   },
   "outputs": [],
   "source": [
    "content.to_csv('content.csv')  "
   ]
  }
 ],
 "metadata": {
  "kernelspec": {
   "display_name": "Python [conda env:bigdata]",
   "language": "python",
   "name": "conda-env-bigdata-py"
  },
  "language_info": {
   "codemirror_mode": {
    "name": "ipython",
    "version": 3
   },
   "file_extension": ".py",
   "mimetype": "text/x-python",
   "name": "python",
   "nbconvert_exporter": "python",
   "pygments_lexer": "ipython3",
   "version": "3.10.12"
  }
 },
 "nbformat": 4,
 "nbformat_minor": 5
}
