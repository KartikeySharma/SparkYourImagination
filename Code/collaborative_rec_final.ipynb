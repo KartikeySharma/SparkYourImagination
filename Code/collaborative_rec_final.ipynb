{
 "cells": [
  {
   "cell_type": "code",
   "execution_count": 1,
   "id": "97af795c-7582-40b7-a94b-39964dd8ad74",
   "metadata": {
    "tags": []
   },
   "outputs": [
    {
     "name": "stderr",
     "output_type": "stream",
     "text": [
      "Setting default log level to \"WARN\".\n",
      "To adjust logging level use sc.setLogLevel(newLevel). For SparkR, use setLogLevel(newLevel).\n",
      "23/12/21 17:19:19 WARN NativeCodeLoader: Unable to load native-hadoop library for your platform... using builtin-java classes where applicable\n",
      "23/12/21 17:19:21 WARN Utils: Service 'SparkUI' could not bind on port 4040. Attempting port 4041.\n",
      "/opt/conda/envs/bigdata/lib/python3.10/site-packages/pyspark/sql/context.py:158: FutureWarning: Deprecated in 3.0.0. Use SparkSession.builder.getOrCreate() instead.\n",
      "  warnings.warn(\n"
     ]
    }
   ],
   "source": [
    "import os\n",
    "import pyspark\n",
    "conf = pyspark.SparkConf()\n",
    "conf.set('spark.ui.proxyBase', '/user/' + os.environ['JUPYTERHUB_USER'] + '/proxy/4041') \n",
    "conf.set('spark.sql.repl.eagerEval.enabled', False)\n",
    "conf.set('spark.driver.memory','4g')\n",
    "sc = pyspark.SparkContext(conf=conf)\n",
    "spark = pyspark.SQLContext.getOrCreate(sc)"
   ]
  },
  {
   "cell_type": "code",
   "execution_count": 5,
   "id": "5681cf5e-15be-40a2-83ab-cf5f6b1c266b",
   "metadata": {
    "tags": []
   },
   "outputs": [
    {
     "data": {
      "text/plain": [
       "<pyspark.sql.context.SQLContext at 0x7fb70872a620>"
      ]
     },
     "execution_count": 5,
     "metadata": {},
     "output_type": "execute_result"
    }
   ],
   "source": [
    "spark"
   ]
  },
  {
   "cell_type": "markdown",
   "id": "41752544-dbb8-454a-8738-9798c4a09479",
   "metadata": {
    "tags": []
   },
   "source": [
    "## Interaction"
   ]
  },
  {
   "cell_type": "code",
   "execution_count": 9,
   "id": "7cbc00aa-fc14-46c8-b91e-ad97ed525888",
   "metadata": {
    "tags": []
   },
   "outputs": [
    {
     "name": "stderr",
     "output_type": "stream",
     "text": [
      "                                                                                \r"
     ]
    }
   ],
   "source": [
    "interaction = spark.read.json(\"../shared/finals/swarali/goodreads_interactions_dedup.json\")"
   ]
  },
  {
   "cell_type": "code",
   "execution_count": 10,
   "id": "c0f54796-c1ee-419a-afab-20b0741158cf",
   "metadata": {
    "tags": []
   },
   "outputs": [
    {
     "name": "stdout",
     "output_type": "stream",
     "text": [
      "root\n",
      " |-- book_id: string (nullable = true)\n",
      " |-- date_added: string (nullable = true)\n",
      " |-- date_updated: string (nullable = true)\n",
      " |-- is_read: boolean (nullable = true)\n",
      " |-- rating: long (nullable = true)\n",
      " |-- read_at: string (nullable = true)\n",
      " |-- review_id: string (nullable = true)\n",
      " |-- review_text_incomplete: string (nullable = true)\n",
      " |-- started_at: string (nullable = true)\n",
      " |-- user_id: string (nullable = true)\n",
      "\n"
     ]
    }
   ],
   "source": [
    "interaction.printSchema()"
   ]
  },
  {
   "cell_type": "code",
   "execution_count": 106,
   "id": "ae095259-59af-42ad-aba0-760d2ee0579b",
   "metadata": {
    "tags": []
   },
   "outputs": [
    {
     "name": "stderr",
     "output_type": "stream",
     "text": [
      "[Stage 1126:(240 + 2) / 579][Stage 1128:> (0 + 0) / 2][Stage 1130:> (0 + 0) / 2]\r"
     ]
    }
   ],
   "source": [
    "inter = interaction.cache()"
   ]
  },
  {
   "cell_type": "code",
   "execution_count": 66,
   "id": "a15e67b2-03a2-47c7-b428-ba54beef4fdc",
   "metadata": {
    "tags": []
   },
   "outputs": [
    {
     "data": {
      "text/html": [
       "<div>\n",
       "<style scoped>\n",
       "    .dataframe tbody tr th:only-of-type {\n",
       "        vertical-align: middle;\n",
       "    }\n",
       "\n",
       "    .dataframe tbody tr th {\n",
       "        vertical-align: top;\n",
       "    }\n",
       "\n",
       "    .dataframe thead th {\n",
       "        text-align: right;\n",
       "    }\n",
       "</style>\n",
       "<table border=\"1\" class=\"dataframe\">\n",
       "  <thead>\n",
       "    <tr style=\"text-align: right;\">\n",
       "      <th></th>\n",
       "      <th>book_id</th>\n",
       "      <th>date_added</th>\n",
       "      <th>date_updated</th>\n",
       "      <th>is_read</th>\n",
       "      <th>rating</th>\n",
       "      <th>read_at</th>\n",
       "      <th>review_id</th>\n",
       "      <th>review_text_incomplete</th>\n",
       "      <th>started_at</th>\n",
       "      <th>user_id</th>\n",
       "    </tr>\n",
       "  </thead>\n",
       "  <tbody>\n",
       "    <tr>\n",
       "      <th>0</th>\n",
       "      <td>34684622</td>\n",
       "      <td>Tue Oct 17 09:40:11 -0700 2017</td>\n",
       "      <td>Tue Oct 17 09:40:12 -0700 2017</td>\n",
       "      <td>False</td>\n",
       "      <td>0</td>\n",
       "      <td></td>\n",
       "      <td>a53868823f065a0e20fd4ae98b820674</td>\n",
       "      <td></td>\n",
       "      <td></td>\n",
       "      <td>8842281e1d1347389f2ab93d60773d4d</td>\n",
       "    </tr>\n",
       "    <tr>\n",
       "      <th>1</th>\n",
       "      <td>34536488</td>\n",
       "      <td>Fri Oct 13 07:19:50 -0700 2017</td>\n",
       "      <td>Fri Oct 13 07:19:50 -0700 2017</td>\n",
       "      <td>False</td>\n",
       "      <td>0</td>\n",
       "      <td></td>\n",
       "      <td>9f08c5f991f87f3b7ae4ce779c2aac10</td>\n",
       "      <td></td>\n",
       "      <td></td>\n",
       "      <td>8842281e1d1347389f2ab93d60773d4d</td>\n",
       "    </tr>\n",
       "  </tbody>\n",
       "</table>\n",
       "</div>"
      ],
      "text/plain": [
       "    book_id                      date_added                    date_updated  \\\n",
       "0  34684622  Tue Oct 17 09:40:11 -0700 2017  Tue Oct 17 09:40:12 -0700 2017   \n",
       "1  34536488  Fri Oct 13 07:19:50 -0700 2017  Fri Oct 13 07:19:50 -0700 2017   \n",
       "\n",
       "   is_read  rating read_at                         review_id  \\\n",
       "0    False       0          a53868823f065a0e20fd4ae98b820674   \n",
       "1    False       0          9f08c5f991f87f3b7ae4ce779c2aac10   \n",
       "\n",
       "  review_text_incomplete started_at                           user_id  \n",
       "0                                    8842281e1d1347389f2ab93d60773d4d  \n",
       "1                                    8842281e1d1347389f2ab93d60773d4d  "
      ]
     },
     "execution_count": 66,
     "metadata": {},
     "output_type": "execute_result"
    }
   ],
   "source": [
    "interaction.limit(2).toPandas()"
   ]
  },
  {
   "cell_type": "markdown",
   "id": "551912a3-41da-4324-80f5-2efa5449bdce",
   "metadata": {},
   "source": [
    "Collaborative Filtering: Recommends books based on similarities between users' preferences and behaviors.\n",
    "\n",
    "\n",
    "Content-Based Filtering: Recommends books based on the attributes of the books (genre, author, publication year) and the user's past preferences."
   ]
  },
  {
   "cell_type": "markdown",
   "id": "47771762-a323-4935-bac7-9dc718572ee3",
   "metadata": {
    "tags": []
   },
   "source": [
    "## Collaborative Recommendation System - FIRST "
   ]
  },
  {
   "cell_type": "markdown",
   "id": "01e1793e-641b-46c8-bc68-12ef95e72299",
   "metadata": {},
   "source": [
    "This was the first trial system that we did on a limited 1000 records data. The FINAL Recommendation system is in the next code block"
   ]
  },
  {
   "cell_type": "code",
   "execution_count": 9,
   "id": "bcbefa44-0cd2-4bf6-a71e-fe80d6fc4f56",
   "metadata": {
    "tags": []
   },
   "outputs": [
    {
     "name": "stderr",
     "output_type": "stream",
     "text": [
      "23/12/19 18:13:38 WARN SparkSession: Using an existing Spark session; only runtime SQL configurations will take effect.\n"
     ]
    }
   ],
   "source": [
    "from pyspark.sql import SparkSession\n",
    "\n",
    "# Create or get the Spark session\n",
    "spark = SparkSession.builder.appName(\"GoodreadsRecommender\") \\\n",
    "    .config(\"spark.kryoserializer.buffer.max\", \"256m\") \\\n",
    "    .getOrCreate()\n",
    "\n",
    "# The rest of your code here\n",
    "\n",
    "interaction_1000 = interaction.limit(1000)"
   ]
  },
  {
   "cell_type": "code",
   "execution_count": 10,
   "id": "39c6fb97-2a12-465c-b8e9-6a8284923939",
   "metadata": {
    "tags": []
   },
   "outputs": [
    {
     "name": "stderr",
     "output_type": "stream",
     "text": [
      "                                                                                \r"
     ]
    }
   ],
   "source": [
    "from pyspark.sql import SparkSession\n",
    "from pyspark.ml.recommendation import ALS\n",
    "from pyspark.ml.evaluation import RegressionEvaluator\n",
    "\n",
    "\n",
    "# Selecting relevant columns\n",
    "interactions_df = interaction_1000.select(\"user_id\", \"book_id\", \"rating\")\n",
    "from pyspark.ml.feature import StringIndexer\n",
    "\n",
    "# Indexing string identifiers\n",
    "stringIndexer = StringIndexer(inputCols=[\"user_id\", \"book_id\"], outputCols=[\"user_id_indexed\", \"book_id_indexed\"])\n",
    "model = stringIndexer.fit(interactions_df)\n",
    "interactions_df = model.transform(interactions_df)"
   ]
  },
  {
   "cell_type": "code",
   "execution_count": 11,
   "id": "96b27c42-3afe-4219-92a8-f3a918f2da55",
   "metadata": {
    "tags": []
   },
   "outputs": [
    {
     "name": "stderr",
     "output_type": "stream",
     "text": [
      "                                                                                \r"
     ]
    },
    {
     "name": "stdout",
     "output_type": "stream",
     "text": [
      "Root-mean-square error = nan\n"
     ]
    },
    {
     "name": "stderr",
     "output_type": "stream",
     "text": [
      "[Stage 101:====================================================> (97 + 2) / 100]\r"
     ]
    },
    {
     "name": "stdout",
     "output_type": "stream",
     "text": [
      "+---------------+------------------------------------------------------------------------------------------------------------------------------------------------------------------------------------+\n",
      "|user_id_indexed|recommendations                                                                                                                                                                     |\n",
      "+---------------+------------------------------------------------------------------------------------------------------------------------------------------------------------------------------------+\n",
      "|0              |[{986, 4.9943986}, {874, 4.9943986}, {864, 4.9943986}, {862, 4.9943986}, {859, 4.9943986}, {856, 4.9943986}, {855, 4.9943986}, {836, 4.9943986}, {829, 4.9943986}, {824, 4.9943986}]|\n",
      "|1              |[{471, 4.996102}, {348, 4.996102}, {300, 4.996102}, {188, 4.996102}, {177, 4.996102}, {99, 4.996102}, {3, 4.981745}, {1, 4.981745}, {892, 3.996882}, {883, 3.996882}]               |\n",
      "+---------------+------------------------------------------------------------------------------------------------------------------------------------------------------------------------------------+\n",
      "\n"
     ]
    },
    {
     "name": "stderr",
     "output_type": "stream",
     "text": [
      "                                                                                \r"
     ]
    }
   ],
   "source": [
    "# Split the dataset\n",
    "(train, test) = interactions_df.randomSplit([0.8, 0.2])\n",
    "\n",
    "# ALS model now uses the indexed columns\n",
    "als = ALS(maxIter=5, regParam=0.01, userCol=\"user_id_indexed\", itemCol=\"book_id_indexed\", ratingCol=\"rating\")\n",
    "model = als.fit(train)\n",
    "\n",
    "# Evaluate the model\n",
    "predictions = model.transform(test)\n",
    "evaluator = RegressionEvaluator(metricName=\"rmse\", labelCol=\"rating\", predictionCol=\"prediction\")\n",
    "rmse = evaluator.evaluate(predictions)\n",
    "print(f\"Root-mean-square error = {rmse}\")\n",
    "\n",
    "# Generate top 10 book recommendations for each user\n",
    "userRecs = model.recommendForAllUsers(10)\n",
    "userRecs.show(truncate = False )"
   ]
  },
  {
   "cell_type": "code",
   "execution_count": null,
   "id": "98de2212-faf0-4fb1-a1d4-f0f07559cccb",
   "metadata": {},
   "outputs": [],
   "source": [
    "result_df = interactions_df.join(original_ids_df, [\"user_id\", \"book_id\"])"
   ]
  },
  {
   "cell_type": "code",
   "execution_count": 13,
   "id": "e6a6d342-497b-4f0d-8f3f-19a53c091ad0",
   "metadata": {
    "tags": []
   },
   "outputs": [
    {
     "name": "stderr",
     "output_type": "stream",
     "text": [
      "                                                                                \r"
     ]
    },
    {
     "name": "stdout",
     "output_type": "stream",
     "text": [
      "+---------------+--------------------+---------+\n",
      "|user_id_indexed|               title|   rating|\n",
      "+---------------+--------------------+---------+\n",
      "|              0|     The Kite Runner|4.9943986|\n",
      "|              0|          The Cobweb|4.9943986|\n",
      "|              1|Harry Potter and ...| 4.981745|\n",
      "|              1|The Door Into Summer| 4.996102|\n",
      "|              1|Pompeii: Lost and...| 3.996882|\n",
      "|              0|The Trust: The Pr...|4.9943986|\n",
      "|              1|Harry Potter and ...| 4.981745|\n",
      "|              1|     Of Mice and Men| 3.996882|\n",
      "|              1|The Player's Hand...| 4.996102|\n",
      "|              0|       The Alchemist|4.9943986|\n",
      "|              0|Odalisque (The Ba...|4.9943986|\n",
      "+---------------+--------------------+---------+\n",
      "\n"
     ]
    }
   ],
   "source": [
    "from pyspark.sql.functions import explode, col\n",
    "\n",
    "# Explode the recommendations\n",
    "exploded_recs = userRecs.select(\"user_id_indexed\", explode(\"recommendations\").alias(\"recommendation\"))\n",
    "\n",
    "# Extract book_id_indexed and rating from the recommendation struct\n",
    "exploded_recs = exploded_recs.select(\"user_id_indexed\", col(\"recommendation.book_id_indexed\"), col(\"recommendation.rating\"))\n",
    "\n",
    "# Join with the books dataframe (assuming it has 'book_id_indexed' and 'title')\n",
    "joined_df = exploded_recs.join(books, exploded_recs.book_id_indexed == books.book_id)\n",
    "\n",
    "# Select the desired columns\n",
    "final_df = joined_df.select(\"user_id_indexed\", \"title\", \"rating\")\n",
    "\n",
    "# Show the results\n",
    "final_df.show()"
   ]
  },
  {
   "cell_type": "markdown",
   "id": "06e4306e-87b7-4a4b-9d74-05f11c7cc5da",
   "metadata": {
    "tags": []
   },
   "source": [
    "## Collaborative Recommendation System - FINAL "
   ]
  },
  {
   "cell_type": "code",
   "execution_count": 7,
   "id": "980c186a-ab7d-48d7-bf56-5d3e7b0ee220",
   "metadata": {
    "tags": []
   },
   "outputs": [],
   "source": [
    "from pyspark.sql import SparkSession\n",
    "from pyspark.ml.feature import StringIndexer\n",
    "from pyspark.ml.recommendation import ALS\n",
    "from pyspark.ml.evaluation import RegressionEvaluator\n",
    "from pyspark.sql.functions import col\n"
   ]
  },
  {
   "cell_type": "code",
   "execution_count": 93,
   "id": "39bee7d7-3021-4e71-9f4f-869a1f07a510",
   "metadata": {
    "tags": []
   },
   "outputs": [],
   "source": [
    "interaction_df = interaction"
   ]
  },
  {
   "cell_type": "code",
   "execution_count": 108,
   "id": "6cd3c6b3-8b4a-4814-83a5-41143306d72d",
   "metadata": {
    "tags": []
   },
   "outputs": [
    {
     "name": "stderr",
     "output_type": "stream",
     "text": [
      "[Stage 1126:(287 + 2) / 579][Stage 1128:> (0 + 0) / 2][Stage 1130:> (0 + 0) / 2]\r"
     ]
    }
   ],
   "source": [
    "interaction_df_ordered = interaction_df.limit(10000)"
   ]
  },
  {
   "cell_type": "code",
   "execution_count": 66,
   "id": "76259906-a4ab-4600-93f7-4ae682cbd19f",
   "metadata": {
    "tags": []
   },
   "outputs": [
    {
     "name": "stderr",
     "output_type": "stream",
     "text": [
      "                                                                                \r"
     ]
    },
    {
     "name": "stdout",
     "output_type": "stream",
     "text": [
      "44045\n"
     ]
    },
    {
     "name": "stderr",
     "output_type": "stream",
     "text": [
      "                                                                                \r"
     ]
    }
   ],
   "source": [
    "interaction_df = interaction.limit(100000)\n",
    "interaction_df = interaction_df.filter(interaction_df.rating != 0)\n",
    "print(interaction_df.count())\n",
    "user_id_indexer = StringIndexer(inputCol=\"user_id\", outputCol=\"user_id_index\")\n",
    "user_id_indexer_model = user_id_indexer.fit(interaction_df)  # Save the fitted model\n",
    "interaction_df = user_id_indexer_model.transform(interaction_df)\n",
    "\n",
    "interaction_df = interaction_df.withColumn(\"book_id\", col(\"book_id\").cast(\"integer\"))\\\n",
    "                               .withColumn(\"rating\", col(\"rating\").cast(\"float\"))\n",
    "interaction_df = interaction_df.na.drop(subset=[\"user_id_index\", \"book_id\", \"rating\"])\n"
   ]
  },
  {
   "cell_type": "code",
   "execution_count": 69,
   "id": "8bef4b97-f9b5-422c-8185-433511995ac9",
   "metadata": {
    "tags": []
   },
   "outputs": [],
   "source": [
    "labels = user_id_indexer_model.labels"
   ]
  },
  {
   "cell_type": "code",
   "execution_count": 70,
   "id": "76ebbee1-f896-4ae1-9a62-797174a14ef0",
   "metadata": {
    "tags": []
   },
   "outputs": [
    {
     "name": "stdout",
     "output_type": "stream",
     "text": [
      "['a5ba0a7f4f5175ae9d2ce997f790dcb9', 'cd6522e9018f2f77332ec74f928f8c45', '01ec1a320ffded6b2dd47833f2c8e4fb', '4a44f603cc3df339acc48590044a2db0', 'dcaf63d82422e351590aba2b36950a17', '453e6a280947ac1f82a27b91e5fb89bb', '83d6e6f80d7c32c6676b3ab3b01543cd', 'dea5bda3eaee375c4ab59fd399bc37db', 'ced7b8e0a3340e8af27f2663f442c3bb', '0ef32090550901ead25cb0ea21c4d36b', '559d843b319087e12f48282e386e401f', 'a34e60cb88cea96fd767a9db81f6f5c8', '4672eb229c808b792b8ea95f01f19784', 'f67cc8786583247a1fbf3ee190cbbbc2', '8842281e1d1347389f2ab93d60773d4d', 'f18d9dc6a1e14cf6355094283298c13c', 'dc3763cdb9b2cae805882878eebb6a32', 'bafc2d50014200cda7cb2b6acd60cd73', '3cb38531c6aab7bcae3c26455b763fe6', 'f8a89075dc6de14857561522e729f82c', '220ef9c058a2132e6a9827f93a821d87', 'c7b9a63678911865302a204f45d6cc2d', '0c07498e94309381e4f79c9176f57462', '040b31603912dc03f19e0b76d58c3660', '12f32d2823b2c92362573740a2baa553', 'd37b46b2190ed7c518259f29b47a9b36', '478f3accbbb16d817fd90732215b6391', 'dfe9eff9fee4377ac76d17a1afd16a6d', '7e4945a6266566e39e3f251fff0fdde1', '93c5e16254e7838b69178338bb20459e', 'fc40e92613e282a797633316d224192b', '39ec87763741d92028cd8a19501a62af', '71136efc5df6142218e52eaa07227a44', '26b5bed05bcabbabdaec4ee08fc43244', '1afe8b35c5e568e95bc17e5b5cdbfd1b', 'd4b1dcb35db677f20ee45225a5e43be2', '4b3636a043e5c99fa27ac897ccfa1151', '012aa353140af13109d00ca36cdc0637', '0b9a0d35734107c5df4a1e3787193afb', 'c774855274baf41d5ddf847e6358d414', 'c8bf6c854005db63d0b29f218dfed131', 'a5ac0c0a728259db23e16e8e143e3325', '06bd41ab4c378a8c5a9d45c6b4779650', '972db32297c2b02db61cb0d3666081f7', 'd15fdfe9d917d8e605c8b7144ecb7eb1', '0757e6c8076682b47d9d4dcebb6db776', '96a4eae3201cf9eb0fd36a900611c925', '6a163ff023eae2781bfcbb9f880474e1', 'f88032f4ad97b46654fe59ce3387cf5d', '3f0bda961d0718d790c36c29572c89c1', 'e5a7b620c83ea9268e89013dba154c70', '18759758c7cf75975cff3fbb1363a73f', '53c3dc3be68b6ea029f986f39ab7578e', '0d8d07544717e84149df654caae803d0', 'b1ae59ad1cab4bc9c22dfa517846b86f', 'ba85197c8d24e40073ea439cd7529370', '06316bec7a49286f1f98d5acce24f923', '4980305f36ab8c2ab831e401a185f28a', 'cc8c48d41aea15e76fad1d9cb6efde7a', 'e1a78766475162b853d84f998b84d12b', '2f6af21d14c83a5df6cdcef5e6af0b3e', '617ccec66dac2d1029600ed3d706e8ed', '8b5b85f0fc2c1873e5a7d8c09905c06f', '8c12713d9b21b3a78fe16094b3c26b17', '9679fb5a57e64f539756c62bf094128b', '35476565da0f5d9c554cea57a283aa49', '05cf771a96eb09a9cce2ce14c2d8e2be', '8cbbcdd68aa2d7127820501cbaec7388', '7b2e5fe9fd353fecf3eeebb4850b88d3', 'bacd94c3fc49f9392aa0e26d5fb5aabd', '7533f6760683201b42118ac4da60b41e', '450bab9fc8f7bfc289be66901408a629', '2a3430e96f418f5f4af9439066dbb702', '4035e5f05352217609c1a294410f2d50', '3ca7375dba942a760e53b726c472a7dd', 'ab2923b738ea3082f5f3efcbbfacb218', '1711b2a40d154603f157536619f71967', '1fa34209b2a0797942f7961ca8d69e2e', 'd301b981c2856f63ac0e7caa9694ef4a', '0c5b36407771dfd65acdd812ecd51705', '7504b2aee1ecb5b2872d3da381c6c91e', 'e64ac7bd4c37c2f3da8b67ce56249213', '232df2faad5a20e659e8e3bbc83e1c02', '1cb67201c6c49e43acc6b40a61f8af5b', 'e180ead13b5022e2c579c27aff0f7ada', '8d88702ebbcd8b4d4e24ee13cb6a1d80', '80a0059b01f514c7eb97b3b447566a25', '74923eed26118d852196f9aa18070272', '012515e5802b2e0f42915118c90fa04b', '020684c1b3dab4137230fc3cc309c107', '03b6d2ef3d6a4adbb7cb8908030ab798', '7f63deefeec24f4f8afb3e0b522057ed', '8d5884eb46d0b022d00220128c797123', 'afc070543f19028dc7e7f084a0079f72', 'be3326e6bd4d83def57f502f6904b090', '854d7eea57ee70acf835e2ba5262e3d9', '9b5dc6789acb444bef4f9efbfdb3654f', '0226259f03e2d21ccf7e5752fb386f6b', '8ecbc8ba108ccf1be156d99a7415c44d', 'f7d2725b846b254639609a24d44b45e4', '5b87c27b924ffac288f17b38c525925a', '367eb0e5a93858e2424c86170b911fe3', '697f200a9a139d87b22c4d8b653a210f', '2ab7e90242b8573b3d1536a5a6f4cb2c', '8b6ad6654855f6d11b276d41df968de5', '97466e9bcc6b443344f06aa6ae144286', '184ed2313b75f70e1b4ddec3fafafe15', 'faa322d2624b0e7eb3064e39dac4af9c', 'dc289f9aa82eaf8718382f1b3468cc2c', '330f2557be759b71248c49fc4f09992d', 'f450e00c849e65dbf4ce08bbbda40079', 'e11c4b66a7e6f3ba737cf4842c03888d', '01608badf9aa27fa949176f75a10cdfc', '822977dd32dd48ffd0cc892275c3e6d0', '8489357f2f485c1a961d4cbdc54ea84b', '869f7931c730798de6310de9445453e7', '4f0fee7cd38442e912194e46c99d4af3', '393d2d875aef4b1f428f9daac75e92b7', 'd52ba256a0ff3980e123b4e0a5d52a34', '623103c8b74b4e97b2077ff2fd33514b', '05bc211d0c5aee6d524a84a1ea2c8eef', '6a920ae58c8992bd7027cf7888c6cdb0', '3a34238731479ea7cb8e0d798b39f665', '6f9905f85b170bf6a350baba9d6f56dd', 'd20102b939fd040355d6c2452230f709', '5e09e38e178edf7b524913c729854741', '601509eb575b04b62a647536033e5c98', 'd3ff4e7d9815e18e5d20590b46399b58', '720a4945e12bbc11051589b7eb1facde', '0f191806c278059bcc7a1015ff7c5420', '5b70e03ded9e16cb02b4bab42587b4c0', 'b54c83f02c748fe75ed309e1e12eace2', 'd0c8e4089c1435ff9e1ab3f2bc5f88ff', '3e578ab295de0d47559a7b884b2112fa', '7723af92efca670ee7b49f66e44fa8db', '4fe16e3bcbbce3f8801ac6924217fd3b', '6665fe2d574221577f8a5483a6f17844', 'a8524e0333357a9d06d3ab0cda9f5206', '87327e5454fe57c6b3bc82a9490bf130', 'dd089815c614a55815ba31977ffa7eb2', '52ab75d4a37ef1cfd51707c795617247', '3549723c93f348ace17abdcc305735dd', 'acbfabdee84d68951cf35b24b436359d', 'a3a4e571b82e9395db73f25ae79742e8', '47d4a49ae9ee68ae78d891b3a259b695', '3e6c3b92cc90df443925c58f8899be6e', '72fb0d0087d28c832f15776b0d936598', '9a6f991d0c99a4df68d01a85191d6184', 'eccce3178f1cfdd52b7d5c80ecc3aa14', 'bda99715e8f6865c236926a0979b72a5', '47ba4e1ae9d10d45f517a0db14964c24', '10a430e80022dfe3ff0967870bc0c609', '3465f056f8146c0aa9af1fd764d7d634', 'e65bfb998920844f263f5cbb499cf203', '435aab9c8aa679814dc3cd19973d7410', '8a9ac613452d39e70a3aea222704d6f6', '92b4a378f7007946263f655b23b6f639', 'd340efbd49fb5b779c3e89dbba759f08', '148cc5f044381ae63aacee1cd01d8ef1', 'd92c94bda1ca3ec254f3aa95757c7831', '4e98500e643d1339885d656a980a4a52', '8e1db93d364acf3893ce998ebb8d57fc', '94987a4c6236e5b334b4ed5fd20acfe1', '24f6896efc60c9e52a3df7e77d3524c7', 'b7dbd4518192923079be19c74e049608', 'a61ed781e6722c23306fb73d45eb8ecc', 'ba1fe0adff36ee2bebf5991f803435d1', '7ab660a01bac63eafeb3d72e1f9c666a', 'fd379cf294fc1937e41f3f7df3c9eabe', '75b3e366826a2872a4ac2541151a347f', 'c00645f3ed225ef9527ea0d8e4b55fc9', 'dca2c040831d001d12e68a92a4fc12a3', '854c0f8798c2d694255830bb6ea29416', 'cd42d287aa97e6c4ac65139b4d54c9f4', '90181ceb30afe97805078c900f5ec53b', '428e8f6094aed8d36b7663e3ccf43997', 'b1360d644d3f5a5a604d6fcfbf772aec', '1d5c28f89aa1e37f63d2e9d46c15b654', '306a7dd178af2a65f8871a7f41709742', '439be42631e24c2bf1f7ddc4dd91b993', '15c6776febb28eb8af78fd9a78442311', '56f9b4008a7cb624440160570b8380d6', '4f42e85a3c73fa5852e56c37c370bb1e', '01d02898170634e6e7232650ebbf2e43', '08920c9c72f03d03df72908ce393f7e7', '1b70de1e9e45965915c0a21b2787fa2f', 'e24be83697a972da4db11c068d931cdd', 'b253824caf79bd745a1c07de4c7ed7eb', 'af157d0205b8a901dee6d4a2aed7e6ad', '144ca9947d2cac5fa8d09f8854beeb7b', 'acd17ff70a823692fda6857f64d5e88e', '5c803f9b3a79bca4670d8ae20b63bfff', '5d99e945d98169c37484b38244ac444b', 'd78573f0eee10f3e52f70252f170e86f', 'eff298924b4d17f380b07ec9da8ac500', 'f4d16ea4ac59af59d257631398af39f4', 'f4c6fe33ef61c38f7f4aeb5224c259a5', '197ee8c6624f698557603a05ad670d45', '2ae0fa899af5bcbd6d38ca3ef2a175bf', 'ec34d1dce411b82ed55a06f34b35f4a7', '903d4b859e86a1dd6d7640849cc7067c', '568af2ff0beb3ce0d751831d573e9aa4', 'f2f95653b98e1a4a68c3beab1a7f8f5e', '8df21fb8f286950fc75617c765582c41', '7962023b853e88d52e9f257181273853', '81755a4fedb021b3da7093f763b0bdcd', 'd986f354a045ffb91234e4af4d1b12fd', '4e1c2ea9c3de7c0ec70643facb7464d7', 'ac66a7e4003e36fb1c360e0b375e9d07', '7d2ade0da6b1b01ebbbaf07c8346f0f5', '94b3231326666dfe5721020d0ace5caa', '704eb93a316aff687a93d5215882eb21', '6e3fbaf57959cb9900714c249bce173f', '856ef5c59addeac180bcfc3b0d6ea38a', '6524e92fa0bdb857953f8932a64e8a60', 'ed61256b9e708b457d6c63b0957fff90', '02a2ac6359298e75285f06b27970c9d9', '7f3fb103a5597aae9ff34e5ac49a77bb', '441b31d224ebb544ca26e1a2f323ad09', 'cbdf1def3bfe721b6d09700bdd5f121a', 'd3492185291fee0103a736299debaed9', '121d51f241dc5e43d58bfe0e86753925', '505bc829fe356cd6e4f17d532238b407', 'b06126733bd011eb851564baad2b5f6c', '1964b797c71b298c33c09666eeb86aee', 'fe0df2eff573e75c036eb8287c6b012a', '3426684539799d2adf8aa3f1297764cf']\n"
     ]
    }
   ],
   "source": [
    "print(labels)"
   ]
  },
  {
   "cell_type": "code",
   "execution_count": 71,
   "id": "e613efd6-8a66-4b3a-aed0-dfb8dda96769",
   "metadata": {
    "tags": []
   },
   "outputs": [],
   "source": [
    "from pyspark.sql import Row\n",
    "\n",
    "rows = [Row(user_id_index=i, original_user_id=label) for i, label in enumerate(labels)]\n",
    "original_user_ids_df = spark.createDataFrame(rows)\n"
   ]
  },
  {
   "cell_type": "code",
   "execution_count": 72,
   "id": "ef4af150-0f51-4a03-a37a-1d492b96bb59",
   "metadata": {
    "tags": []
   },
   "outputs": [
    {
     "name": "stderr",
     "output_type": "stream",
     "text": [
      "                                                                                \r"
     ]
    }
   ],
   "source": [
    "# Split the data into training and testing sets\n",
    "(training, test) = interaction_df.randomSplit([0.8, 0.2])\n",
    "\n",
    "# ALS model setup\n",
    "als = ALS(maxIter=5, regParam=0.01, userCol=\"user_id_index\", itemCol=\"book_id\", ratingCol=\"rating\", nonnegative=True)\n",
    "\n",
    "# Fit the model on training data\n",
    "model = als.fit(training)\n",
    "\n",
    "# Predictions on test data\n",
    "predictions = model.transform(test)\n"
   ]
  },
  {
   "cell_type": "code",
   "execution_count": 49,
   "id": "b6a963b4-4f78-4d79-b35e-4fba8512e397",
   "metadata": {
    "tags": []
   },
   "outputs": [
    {
     "name": "stderr",
     "output_type": "stream",
     "text": [
      "                                                                                \r"
     ]
    },
    {
     "name": "stdout",
     "output_type": "stream",
     "text": [
      "+-------+--------------------+-------------+------+----------+\n",
      "|book_id|             user_id|user_id_index|rating|prediction|\n",
      "+-------+--------------------+-------------+------+----------+\n",
      "|      5|72fb0d0087d28c832...|          1.0|   5.0|  4.560216|\n",
      "|      1|8842281e1d1347389...|          0.0|   5.0| 1.0394906|\n",
      "|      2|8842281e1d1347389...|          0.0|   5.0| 1.0394906|\n",
      "|     21|8842281e1d1347389...|          0.0|   5.0|       NaN|\n",
      "|     30|8842281e1d1347389...|          0.0|   5.0|       NaN|\n",
      "|    112|8842281e1d1347389...|          0.0|   4.0|       NaN|\n",
      "|    350|8842281e1d1347389...|          0.0|   5.0|       NaN|\n",
      "|    361|8842281e1d1347389...|          0.0|   5.0|       NaN|\n",
      "|    685|8842281e1d1347389...|          0.0|   4.0|       NaN|\n",
      "|   1202|8842281e1d1347389...|          0.0|   4.0|       NaN|\n",
      "|   1852|8842281e1d1347389...|          0.0|   5.0|       NaN|\n",
      "|   1893|8842281e1d1347389...|          0.0|   5.0|       NaN|\n",
      "|   1898|8842281e1d1347389...|          0.0|   4.0|       NaN|\n",
      "|   2052|8842281e1d1347389...|          0.0|   5.0|       NaN|\n",
      "|   2262|8842281e1d1347389...|          0.0|   5.0|       NaN|\n",
      "|   2552|8842281e1d1347389...|          0.0|   4.0|       NaN|\n",
      "|   2574|8842281e1d1347389...|          0.0|   5.0|       NaN|\n",
      "|   2623|8842281e1d1347389...|          0.0|   4.0|       NaN|\n",
      "|   3764|8842281e1d1347389...|          0.0|   5.0|       NaN|\n",
      "|   5559|8842281e1d1347389...|          0.0|   3.0|       NaN|\n",
      "+-------+--------------------+-------------+------+----------+\n",
      "only showing top 20 rows\n",
      "\n"
     ]
    }
   ],
   "source": [
    "predictions.select('book_id','user_id','user_id_index','rating','prediction').show(20)"
   ]
  },
  {
   "cell_type": "code",
   "execution_count": 74,
   "id": "dc4d7715-31ad-4bf7-b02b-b29f8f014070",
   "metadata": {
    "tags": []
   },
   "outputs": [
    {
     "name": "stderr",
     "output_type": "stream",
     "text": [
      "[Stage 834:(71 + 2) / 579][Stage 849:> (0 + 0) / 10][Stage 850:> (0 + 0) / 10]\r"
     ]
    }
   ],
   "source": [
    "predictions = predictions.na.drop(subset='prediction')\n"
   ]
  },
  {
   "cell_type": "code",
   "execution_count": 75,
   "id": "96877cf7-6770-4f5f-98cb-48993a585c20",
   "metadata": {
    "tags": []
   },
   "outputs": [
    {
     "name": "stderr",
     "output_type": "stream",
     "text": [
      "                                                                                \r"
     ]
    },
    {
     "name": "stdout",
     "output_type": "stream",
     "text": [
      "Root-mean-square error = 1.616451337731502\n"
     ]
    }
   ],
   "source": [
    "# Evaluate the model using RMSE\n",
    "evaluator = RegressionEvaluator(metricName=\"rmse\", labelCol=\"rating\", predictionCol=\"prediction\")\n",
    "rmse = evaluator.evaluate(predictions)\n",
    "print(f\"Root-mean-square error = {rmse}\")\n"
   ]
  },
  {
   "cell_type": "code",
   "execution_count": 76,
   "id": "622f97c2-caeb-44a5-b97c-b6676231279c",
   "metadata": {},
   "outputs": [],
   "source": [
    "# Number of recommendations to generate for each user\n",
    "num_recommendations = 5  # Adjust as needed\n",
    "\n",
    "# Generate recommendations for each user\n",
    "user_recommendations = model.recommendForAllUsers(num_recommendations)"
   ]
  },
  {
   "cell_type": "code",
   "execution_count": 54,
   "id": "e7f0155f-e93d-4847-b8f8-c3f4dfd9176d",
   "metadata": {
    "tags": []
   },
   "outputs": [
    {
     "name": "stderr",
     "output_type": "stream",
     "text": [
      "[Stage 594:====================================================> (97 + 2) / 100]\r"
     ]
    },
    {
     "name": "stdout",
     "output_type": "stream",
     "text": [
      "+-------------+---------------------------------------------------------------------------------------------------------+\n",
      "|user_id_index|recommendations                                                                                          |\n",
      "+-------------+---------------------------------------------------------------------------------------------------------+\n",
      "|0            |[{460548, 5.0003824}, {304889, 5.0003824}, {128029, 5.0003824}, {119322, 5.0003824}, {99107, 5.0003824}] |\n",
      "|1            |[{18767539, 4.995974}, {17939501, 4.995974}, {2718668, 4.995974}, {2088385, 4.995974}, {15881, 4.995974}]|\n",
      "+-------------+---------------------------------------------------------------------------------------------------------+\n",
      "\n"
     ]
    },
    {
     "name": "stderr",
     "output_type": "stream",
     "text": [
      "                                                                                \r"
     ]
    }
   ],
   "source": [
    "user_recommendations.show(10,truncate = False)"
   ]
  },
  {
   "cell_type": "code",
   "execution_count": 77,
   "id": "afcca328-83df-4b9a-90fa-d9627fa3c6d6",
   "metadata": {},
   "outputs": [],
   "source": [
    "from pyspark.sql.functions import explode, col\n",
    "\n",
    "# Explode the recommendations\n",
    "recommendations = user_recommendations.select(\"user_id_index\", explode(\"recommendations\").alias(\"recommendation\"))\n",
    "recommendations = recommendations.select(\"user_id_index\", col(\"recommendation.book_id\").alias(\"book_id\"), col(\"recommendation.rating\").alias(\"rating\"))"
   ]
  },
  {
   "cell_type": "code",
   "execution_count": 78,
   "id": "57c120dc-ea77-45d2-93a5-e96580372917",
   "metadata": {
    "tags": []
   },
   "outputs": [],
   "source": [
    "# Join with the original user IDs\n",
    "recommendations_with_user = recommendations.join(original_user_ids_df, \"user_id_index\")\n",
    "#recommendations_with_user.show(10)"
   ]
  },
  {
   "cell_type": "code",
   "execution_count": 79,
   "id": "a683f966-ec7a-412b-bde1-94a13a1fbf09",
   "metadata": {},
   "outputs": [],
   "source": [
    "# Assuming 'books_df' contains columns 'book_id', 'title' (book name), and 'url'\n",
    "final_recommendations = recommendations_with_user.join(books, \"book_id\")"
   ]
  },
  {
   "cell_type": "code",
   "execution_count": 80,
   "id": "bbcae889-c305-429f-81e1-cf7f3beac026",
   "metadata": {
    "tags": []
   },
   "outputs": [
    {
     "name": "stderr",
     "output_type": "stream",
     "text": [
      "                                                                                \r"
     ]
    },
    {
     "name": "stdout",
     "output_type": "stream",
     "text": [
      "+--------------------------------+-------+-------------------------------------------------------------------+----------------------------------------------------+--------------------------------------------------------+---------+\n",
      "|original_user_id                |book_id|book_name                                                          |url                                                 |image_url                                               |rating   |\n",
      "+--------------------------------+-------+-------------------------------------------------------------------+----------------------------------------------------+--------------------------------------------------------+---------+\n",
      "|faa322d2624b0e7eb3064e39dac4af9c|12067  |Good Omens: The Nice and Accurate Prophecies of Agnes Nutter, Witch|https://www.goodreads.com/book/show/12067.Good_Omens|https://images.gr-assets.com/books/1392528568m/12067.jpg|6.1418085|\n",
      "+--------------------------------+-------+-------------------------------------------------------------------+----------------------------------------------------+--------------------------------------------------------+---------+\n",
      "only showing top 1 row\n",
      "\n"
     ]
    }
   ],
   "source": [
    "final_output = final_recommendations.select(\n",
    "    col(\"original_user_id\"),\n",
    "    col(\"book_id\"),\n",
    "    col(\"title\").alias(\"book_name\"),\n",
    "    col(\"url\"),\n",
    "    col(\"image_url\"),\n",
    "    col(\"rating\")\n",
    ")\n",
    "\n",
    "# Display the final output\n",
    "final_output.show(1,truncate=False)\n"
   ]
  },
  {
   "cell_type": "code",
   "execution_count": 47,
   "id": "9ab379f1-da0b-4d34-8dd9-7b51780dc92a",
   "metadata": {
    "tags": []
   },
   "outputs": [
    {
     "name": "stderr",
     "output_type": "stream",
     "text": [
      "[Stage 509:======================================>                  (2 + 1) / 3]\r"
     ]
    },
    {
     "name": "stdout",
     "output_type": "stream",
     "text": [
      "+--------------------------------+--------+--------------------------------------------------+----------------------------------------------------------------+---------+\n",
      "|original_user_id                |book_id |book_name                                         |url                                                             |rating   |\n",
      "+--------------------------------+--------+--------------------------------------------------+----------------------------------------------------------------+---------+\n",
      "|72fb0d0087d28c832f15776b0d936598|160495  |Never Buried (Leigh Koslow Mystery #1)            |https://www.goodreads.com/book/show/160495.Never_Buried         |5.0370326|\n",
      "|72fb0d0087d28c832f15776b0d936598|18512   |The Return of the King (The Lord of the Rings, #3)|https://www.goodreads.com/book/show/18512.The_Return_of_the_King|5.0370326|\n",
      "|72fb0d0087d28c832f15776b0d936598|2088385 |The Book of Negroes                               |https://www.goodreads.com/book/show/2088385.The_Book_of_Negroes |5.0370326|\n",
      "|72fb0d0087d28c832f15776b0d936598|17939501|The Brothel (Confidante Trilogy #1)               |https://www.goodreads.com/book/show/17939501-the-brothel        |5.0370326|\n",
      "|72fb0d0087d28c832f15776b0d936598|18767539|Tea from a Jam Jar                                |https://www.goodreads.com/book/show/18767539-tea-from-a-jam-jar |5.0370326|\n",
      "|8842281e1d1347389f2ab93d60773d4d|18512   |The Return of the King (The Lord of the Rings, #3)|https://www.goodreads.com/book/show/18512.The_Return_of_the_King|5.2086973|\n",
      "|8842281e1d1347389f2ab93d60773d4d|2088385 |The Book of Negroes                               |https://www.goodreads.com/book/show/2088385.The_Book_of_Negroes |5.2086973|\n",
      "|8842281e1d1347389f2ab93d60773d4d|17939501|The Brothel (Confidante Trilogy #1)               |https://www.goodreads.com/book/show/17939501-the-brothel        |5.2086973|\n",
      "|8842281e1d1347389f2ab93d60773d4d|160495  |Never Buried (Leigh Koslow Mystery #1)            |https://www.goodreads.com/book/show/160495.Never_Buried         |5.2086973|\n",
      "|8842281e1d1347389f2ab93d60773d4d|18767539|Tea from a Jam Jar                                |https://www.goodreads.com/book/show/18767539-tea-from-a-jam-jar |5.2086973|\n",
      "+--------------------------------+--------+--------------------------------------------------+----------------------------------------------------------------+---------+\n",
      "\n"
     ]
    },
    {
     "name": "stderr",
     "output_type": "stream",
     "text": [
      "                                                                                \r"
     ]
    }
   ],
   "source": [
    "final_output.orderBy('Rating').show(truncate=False)"
   ]
  },
  {
   "cell_type": "code",
   "execution_count": 51,
   "id": "fc911957-a236-4fa0-b9e6-c49d33191fe5",
   "metadata": {
    "tags": []
   },
   "outputs": [
    {
     "name": "stderr",
     "output_type": "stream",
     "text": [
      "[Stage 664:>                                                        (0 + 2) / 2]\r"
     ]
    },
    {
     "name": "stdout",
     "output_type": "stream",
     "text": [
      "+--------------------------------+\n",
      "|original_user_id                |\n",
      "+--------------------------------+\n",
      "|72fb0d0087d28c832f15776b0d936598|\n",
      "|8842281e1d1347389f2ab93d60773d4d|\n",
      "+--------------------------------+\n",
      "\n"
     ]
    },
    {
     "name": "stderr",
     "output_type": "stream",
     "text": [
      "                                                                                \r"
     ]
    }
   ],
   "source": [
    "final_output.select('original_user_id').distinct().show(20,truncate = False)"
   ]
  },
  {
   "cell_type": "code",
   "execution_count": 82,
   "id": "5fc01579-aa6a-470e-aba5-b78b9097828b",
   "metadata": {
    "tags": []
   },
   "outputs": [
    {
     "name": "stderr",
     "output_type": "stream",
     "text": [
      "                                                                                \r"
     ]
    }
   ],
   "source": [
    "output_2 = final_output.toPandas()"
   ]
  },
  {
   "cell_type": "code",
   "execution_count": 83,
   "id": "583febcb-b722-4292-920f-311a5e82e39c",
   "metadata": {
    "tags": []
   },
   "outputs": [],
   "source": [
    "output_2.to_csv('output_final.csv')  "
   ]
  }
 ],
 "metadata": {
  "kernelspec": {
   "display_name": "Python [conda env:bigdata]",
   "language": "python",
   "name": "conda-env-bigdata-py"
  },
  "language_info": {
   "codemirror_mode": {
    "name": "ipython",
    "version": 3
   },
   "file_extension": ".py",
   "mimetype": "text/x-python",
   "name": "python",
   "nbconvert_exporter": "python",
   "pygments_lexer": "ipython3",
   "version": "3.10.12"
  }
 },
 "nbformat": 4,
 "nbformat_minor": 5
}
